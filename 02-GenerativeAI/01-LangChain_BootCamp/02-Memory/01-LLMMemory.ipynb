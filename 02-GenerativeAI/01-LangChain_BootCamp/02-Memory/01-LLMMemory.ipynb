{
 "cells": [
  {
   "cell_type": "markdown",
   "metadata": {},
   "source": [
    "# LLM Memory"
   ]
  },
  {
   "cell_type": "markdown",
   "metadata": {},
   "source": [
    "## Chat Message History"
   ]
  },
  {
   "cell_type": "code",
   "execution_count": 1,
   "metadata": {},
   "outputs": [
    {
     "data": {
      "text/plain": [
       "InMemoryChatMessageHistory(messages=[HumanMessage(content='Hello, nice to meet you...', additional_kwargs={}, response_metadata={}), AIMessage(content='Nice to meet you too ...!!', additional_kwargs={}, response_metadata={})])"
      ]
     },
     "execution_count": 1,
     "metadata": {},
     "output_type": "execute_result"
    }
   ],
   "source": [
    "from langchain.memory import ChatMessageHistory\n",
    "\n",
    "history = ChatMessageHistory()\n",
    "history.add_user_message(\"Hello, nice to meet you...\")\n",
    "history.add_ai_message(\"Nice to meet you too ...!!\")\n",
    "\n",
    "history"
   ]
  },
  {
   "cell_type": "code",
   "execution_count": 2,
   "metadata": {},
   "outputs": [
    {
     "data": {
      "text/plain": [
       "[HumanMessage(content='Hello, nice to meet you...', additional_kwargs={}, response_metadata={}),\n",
       " AIMessage(content='Nice to meet you too ...!!', additional_kwargs={}, response_metadata={})]"
      ]
     },
     "execution_count": 2,
     "metadata": {},
     "output_type": "execute_result"
    }
   ],
   "source": [
    "history.messages"
   ]
  },
  {
   "cell_type": "markdown",
   "metadata": {},
   "source": [
    "## Conversation Buffer Memory"
   ]
  },
  {
   "cell_type": "code",
   "execution_count": 5,
   "metadata": {},
   "outputs": [],
   "source": [
    "import os\n",
    "from langchain_openai import ChatOpenAI\n",
    "from langchain.chains import ConversationChain\n",
    "from langchain.memory import ConversationBufferMemory"
   ]
  },
  {
   "cell_type": "code",
   "execution_count": 7,
   "metadata": {},
   "outputs": [
    {
     "name": "stderr",
     "output_type": "stream",
     "text": [
      "/var/folders/ny/r3wsv_bd0bs1_vcy4pb5q9pr0000gn/T/ipykernel_33590/3546568248.py:2: LangChainDeprecationWarning: Please see the migration guide at: https://python.langchain.com/docs/versions/migrating_memory/\n",
      "  memory = ConversationBufferMemory()\n"
     ]
    }
   ],
   "source": [
    "llm = ChatOpenAI(temperature=0.0, api_key=os.getenv(\"OPENAI_API_KEY\"), model=\"gpt-4o\")\n",
    "memory = ConversationBufferMemory()"
   ]
  },
  {
   "cell_type": "markdown",
   "metadata": {},
   "source": [
    "### Connect Conversation to Memory"
   ]
  },
  {
   "cell_type": "code",
   "execution_count": 8,
   "metadata": {},
   "outputs": [
    {
     "name": "stderr",
     "output_type": "stream",
     "text": [
      "/var/folders/ny/r3wsv_bd0bs1_vcy4pb5q9pr0000gn/T/ipykernel_33590/3355408383.py:1: LangChainDeprecationWarning: The class `ConversationChain` was deprecated in LangChain 0.2.7 and will be removed in 1.0. Use :meth:`~RunnableWithMessageHistory: https://python.langchain.com/v0.2/api_reference/core/runnables/langchain_core.runnables.history.RunnableWithMessageHistory.html` instead.\n",
      "  conversation = ConversationChain(llm=llm, memory=memory, verbose=True)\n"
     ]
    }
   ],
   "source": [
    "conversation = ConversationChain(llm=llm, memory=memory, verbose=True)"
   ]
  },
  {
   "cell_type": "code",
   "execution_count": 9,
   "metadata": {},
   "outputs": [
    {
     "name": "stdout",
     "output_type": "stream",
     "text": [
      "\n",
      "\n",
      "\u001b[1m> Entering new ConversationChain chain...\u001b[0m\n",
      "Prompt after formatting:\n",
      "\u001b[32;1m\u001b[1;3mThe following is a friendly conversation between a human and an AI. The AI is talkative and provides lots of specific details from its context. If the AI does not know the answer to a question, it truthfully says it does not know.\n",
      "\n",
      "Current conversation:\n",
      "\n",
      "Human: Hello, nice to meet you!\n",
      "AI:\u001b[0m\n",
      "\n",
      "\u001b[1m> Finished chain.\u001b[0m\n"
     ]
    },
    {
     "data": {
      "text/plain": [
       "\"Hello! It's great to meet you too! I'm here to chat and help with whatever you need. Whether you want to talk about the latest technology, explore some fun facts, or just have a friendly conversation, I'm all ears. What's on your mind today?\""
      ]
     },
     "execution_count": 9,
     "metadata": {},
     "output_type": "execute_result"
    }
   ],
   "source": [
    "conversation.predict(input=\"Hello, nice to meet you!\")"
   ]
  },
  {
   "cell_type": "code",
   "execution_count": 10,
   "metadata": {},
   "outputs": [
    {
     "name": "stdout",
     "output_type": "stream",
     "text": [
      "\n",
      "\n",
      "\u001b[1m> Entering new ConversationChain chain...\u001b[0m\n",
      "Prompt after formatting:\n",
      "\u001b[32;1m\u001b[1;3mThe following is a friendly conversation between a human and an AI. The AI is talkative and provides lots of specific details from its context. If the AI does not know the answer to a question, it truthfully says it does not know.\n",
      "\n",
      "Current conversation:\n",
      "Human: Hello, nice to meet you!\n",
      "AI: Hello! It's great to meet you too! I'm here to chat and help with whatever you need. Whether you want to talk about the latest technology, explore some fun facts, or just have a friendly conversation, I'm all ears. What's on your mind today?\n",
      "Human: Tell me about the Einstein-Szilard Letter\n",
      "AI:\u001b[0m\n",
      "\n",
      "\u001b[1m> Finished chain.\u001b[0m\n"
     ]
    },
    {
     "data": {
      "text/plain": [
       "'The Einstein-Szilard Letter is a historically significant document written in 1939 by physicist Leo Szilard and signed by Albert Einstein. The letter was addressed to then-President of the United States, Franklin D. Roosevelt. It warned about the potential development of \"extremely powerful bombs of a new type\" by Nazi Germany, based on the recent discovery of nuclear fission. Szilard, who was deeply concerned about the implications of nuclear technology, sought Einstein\\'s help to leverage his fame and influence to ensure the message reached the highest levels of the U.S. government.\\n\\nThe letter emphasized the urgent need for the United States to accelerate its own research into nuclear chain reactions, which eventually led to the establishment of the Manhattan Project. This project was responsible for developing the first nuclear weapons during World War II. The Einstein-Szilard Letter is often credited with catalyzing the U.S. government\\'s efforts in nuclear research, which had profound implications for the course of the war and the subsequent geopolitical landscape. If you have more questions about this topic or anything else, feel free to ask!'"
      ]
     },
     "execution_count": 10,
     "metadata": {},
     "output_type": "execute_result"
    }
   ],
   "source": [
    "conversation.predict(input=\"Tell me about the Einstein-Szilard Letter\")"
   ]
  },
  {
   "cell_type": "code",
   "execution_count": 11,
   "metadata": {},
   "outputs": [
    {
     "name": "stdout",
     "output_type": "stream",
     "text": [
      "Human: Hello, nice to meet you!\n",
      "AI: Hello! It's great to meet you too! I'm here to chat and help with whatever you need. Whether you want to talk about the latest technology, explore some fun facts, or just have a friendly conversation, I'm all ears. What's on your mind today?\n",
      "Human: Tell me about the Einstein-Szilard Letter\n",
      "AI: The Einstein-Szilard Letter is a historically significant document written in 1939 by physicist Leo Szilard and signed by Albert Einstein. The letter was addressed to then-President of the United States, Franklin D. Roosevelt. It warned about the potential development of \"extremely powerful bombs of a new type\" by Nazi Germany, based on the recent discovery of nuclear fission. Szilard, who was deeply concerned about the implications of nuclear technology, sought Einstein's help to leverage his fame and influence to ensure the message reached the highest levels of the U.S. government.\n",
      "\n",
      "The letter emphasized the urgent need for the United States to accelerate its own research into nuclear chain reactions, which eventually led to the establishment of the Manhattan Project. This project was responsible for developing the first nuclear weapons during World War II. The Einstein-Szilard Letter is often credited with catalyzing the U.S. government's efforts in nuclear research, which had profound implications for the course of the war and the subsequent geopolitical landscape. If you have more questions about this topic or anything else, feel free to ask!\n"
     ]
    }
   ],
   "source": [
    "print(memory.buffer)"
   ]
  },
  {
   "cell_type": "code",
   "execution_count": 13,
   "metadata": {},
   "outputs": [
    {
     "name": "stdout",
     "output_type": "stream",
     "text": [
      "{'history': 'Human: Hello, nice to meet you!\\nAI: Hello! It\\'s great to meet you too! I\\'m here to chat and help with whatever you need. Whether you want to talk about the latest technology, explore some fun facts, or just have a friendly conversation, I\\'m all ears. What\\'s on your mind today?\\nHuman: Tell me about the Einstein-Szilard Letter\\nAI: The Einstein-Szilard Letter is a historically significant document written in 1939 by physicist Leo Szilard and signed by Albert Einstein. The letter was addressed to then-President of the United States, Franklin D. Roosevelt. It warned about the potential development of \"extremely powerful bombs of a new type\" by Nazi Germany, based on the recent discovery of nuclear fission. Szilard, who was deeply concerned about the implications of nuclear technology, sought Einstein\\'s help to leverage his fame and influence to ensure the message reached the highest levels of the U.S. government.\\n\\nThe letter emphasized the urgent need for the United States to accelerate its own research into nuclear chain reactions, which eventually led to the establishment of the Manhattan Project. This project was responsible for developing the first nuclear weapons during World War II. The Einstein-Szilard Letter is often credited with catalyzing the U.S. government\\'s efforts in nuclear research, which had profound implications for the course of the war and the subsequent geopolitical landscape. If you have more questions about this topic or anything else, feel free to ask!'}\n"
     ]
    }
   ],
   "source": [
    "print(memory.load_memory_variables({}))"
   ]
  },
  {
   "cell_type": "code",
   "execution_count": 14,
   "metadata": {},
   "outputs": [],
   "source": [
    "memory.save_context({\"Input\": \"Very Interesting\"}, {\"output\":\"Yes, it was my pleasure as an AI to answer.\"})"
   ]
  },
  {
   "cell_type": "code",
   "execution_count": 16,
   "metadata": {},
   "outputs": [
    {
     "name": "stdout",
     "output_type": "stream",
     "text": [
      "{'history': 'Human: Hello, nice to meet you!\\nAI: Hello! It\\'s great to meet you too! I\\'m here to chat and help with whatever you need. Whether you want to talk about the latest technology, explore some fun facts, or just have a friendly conversation, I\\'m all ears. What\\'s on your mind today?\\nHuman: Tell me about the Einstein-Szilard Letter\\nAI: The Einstein-Szilard Letter is a historically significant document written in 1939 by physicist Leo Szilard and signed by Albert Einstein. The letter was addressed to then-President of the United States, Franklin D. Roosevelt. It warned about the potential development of \"extremely powerful bombs of a new type\" by Nazi Germany, based on the recent discovery of nuclear fission. Szilard, who was deeply concerned about the implications of nuclear technology, sought Einstein\\'s help to leverage his fame and influence to ensure the message reached the highest levels of the U.S. government.\\n\\nThe letter emphasized the urgent need for the United States to accelerate its own research into nuclear chain reactions, which eventually led to the establishment of the Manhattan Project. This project was responsible for developing the first nuclear weapons during World War II. The Einstein-Szilard Letter is often credited with catalyzing the U.S. government\\'s efforts in nuclear research, which had profound implications for the course of the war and the subsequent geopolitical landscape. If you have more questions about this topic or anything else, feel free to ask!\\nHuman: Very Interesting\\nAI: Yes, it was my pleasure as an AI to answer.'}\n"
     ]
    }
   ],
   "source": [
    "print(memory.load_memory_variables({}))"
   ]
  },
  {
   "cell_type": "markdown",
   "metadata": {},
   "source": [
    "### Saving and Loading Memory"
   ]
  },
  {
   "cell_type": "code",
   "execution_count": 18,
   "metadata": {},
   "outputs": [
    {
     "name": "stdout",
     "output_type": "stream",
     "text": [
      "chat_memory=InMemoryChatMessageHistory(messages=[HumanMessage(content='Hello, nice to meet you!', additional_kwargs={}, response_metadata={}), AIMessage(content=\"Hello! It's great to meet you too! I'm here to chat and help with whatever you need. Whether you want to talk about the latest technology, explore some fun facts, or just have a friendly conversation, I'm all ears. What's on your mind today?\", additional_kwargs={}, response_metadata={}), HumanMessage(content='Tell me about the Einstein-Szilard Letter', additional_kwargs={}, response_metadata={}), AIMessage(content='The Einstein-Szilard Letter is a historically significant document written in 1939 by physicist Leo Szilard and signed by Albert Einstein. The letter was addressed to then-President of the United States, Franklin D. Roosevelt. It warned about the potential development of \"extremely powerful bombs of a new type\" by Nazi Germany, based on the recent discovery of nuclear fission. Szilard, who was deeply concerned about the implications of nuclear technology, sought Einstein\\'s help to leverage his fame and influence to ensure the message reached the highest levels of the U.S. government.\\n\\nThe letter emphasized the urgent need for the United States to accelerate its own research into nuclear chain reactions, which eventually led to the establishment of the Manhattan Project. This project was responsible for developing the first nuclear weapons during World War II. The Einstein-Szilard Letter is often credited with catalyzing the U.S. government\\'s efforts in nuclear research, which had profound implications for the course of the war and the subsequent geopolitical landscape. If you have more questions about this topic or anything else, feel free to ask!', additional_kwargs={}, response_metadata={}), HumanMessage(content='Very Interesting', additional_kwargs={}, response_metadata={}), AIMessage(content='Yes, it was my pleasure as an AI to answer.', additional_kwargs={}, response_metadata={})])\n"
     ]
    }
   ],
   "source": [
    "print(conversation.memory)"
   ]
  },
  {
   "cell_type": "code",
   "execution_count": 20,
   "metadata": {},
   "outputs": [],
   "source": [
    "import pickle\n",
    "pickled_str = pickle.dumps(conversation.memory)"
   ]
  },
  {
   "cell_type": "code",
   "execution_count": 22,
   "metadata": {},
   "outputs": [],
   "source": [
    "with open('memory.pkl', 'wb') as f:\n",
    "    f.write(pickled_str)\n",
    "\n",
    "new_memory_load = open('memory.pkl', 'rb').read()"
   ]
  },
  {
   "cell_type": "code",
   "execution_count": 23,
   "metadata": {},
   "outputs": [
    {
     "name": "stdout",
     "output_type": "stream",
     "text": [
      "Human: Hello, nice to meet you!\n",
      "AI: Hello! It's great to meet you too! I'm here to chat and help with whatever you need. Whether you want to talk about the latest technology, explore some fun facts, or just have a friendly conversation, I'm all ears. What's on your mind today?\n",
      "Human: Tell me about the Einstein-Szilard Letter\n",
      "AI: The Einstein-Szilard Letter is a historically significant document written in 1939 by physicist Leo Szilard and signed by Albert Einstein. The letter was addressed to then-President of the United States, Franklin D. Roosevelt. It warned about the potential development of \"extremely powerful bombs of a new type\" by Nazi Germany, based on the recent discovery of nuclear fission. Szilard, who was deeply concerned about the implications of nuclear technology, sought Einstein's help to leverage his fame and influence to ensure the message reached the highest levels of the U.S. government.\n",
      "\n",
      "The letter emphasized the urgent need for the United States to accelerate its own research into nuclear chain reactions, which eventually led to the establishment of the Manhattan Project. This project was responsible for developing the first nuclear weapons during World War II. The Einstein-Szilard Letter is often credited with catalyzing the U.S. government's efforts in nuclear research, which had profound implications for the course of the war and the subsequent geopolitical landscape. If you have more questions about this topic or anything else, feel free to ask!\n",
      "Human: Very Interesting\n",
      "AI: Yes, it was my pleasure as an AI to answer.\n"
     ]
    }
   ],
   "source": [
    "llm = ChatOpenAI(temperature=0.0, api_key=os.getenv(\"OPENAI_API_KEY\"), model=\"gpt-4o\")\n",
    "reload_conversation = ConversationChain(\n",
    "    llm = llm,\n",
    "    memory = pickle.loads(new_memory_load),\n",
    "    verbose = True\n",
    ")\n",
    "\n",
    "print(reload_conversation.memory.buffer)"
   ]
  },
  {
   "cell_type": "markdown",
   "metadata": {},
   "source": [
    "## ConversationBufferWindowMemory"
   ]
  },
  {
   "cell_type": "code",
   "execution_count": 28,
   "metadata": {},
   "outputs": [],
   "source": [
    "import os\n",
    "from langchain_openai import ChatOpenAI\n",
    "from langchain.chains import ConversationChain\n",
    "from langchain.memory import ConversationBufferMemory\n",
    "from langchain.memory import ConversationBufferWindowMemory"
   ]
  },
  {
   "cell_type": "code",
   "execution_count": 25,
   "metadata": {},
   "outputs": [
    {
     "name": "stderr",
     "output_type": "stream",
     "text": [
      "/var/folders/ny/r3wsv_bd0bs1_vcy4pb5q9pr0000gn/T/ipykernel_33590/465741625.py:2: LangChainDeprecationWarning: Please see the migration guide at: https://python.langchain.com/docs/versions/migrating_memory/\n",
      "  memory = ConversationBufferWindowMemory(k=1)\n"
     ]
    }
   ],
   "source": [
    "llm = ChatOpenAI(temperature=0.0, api_key=os.getenv(\"OPENAI_API_KEY\"), model=\"gpt-4o\")\n",
    "memory = ConversationBufferWindowMemory(k=1)"
   ]
  },
  {
   "cell_type": "markdown",
   "metadata": {},
   "source": [
    "### Connect Conversation to Memory"
   ]
  },
  {
   "cell_type": "code",
   "execution_count": 30,
   "metadata": {},
   "outputs": [
    {
     "name": "stdout",
     "output_type": "stream",
     "text": [
      "\n",
      "\n",
      "\u001b[1m> Entering new ConversationChain chain...\u001b[0m\n",
      "Prompt after formatting:\n",
      "\u001b[32;1m\u001b[1;3mThe following is a friendly conversation between a human and an AI. The AI is talkative and provides lots of specific details from its context. If the AI does not know the answer to a question, it truthfully says it does not know.\n",
      "\n",
      "Current conversation:\n",
      "\n",
      "Human: Hello, Nice to meet you!!\n",
      "AI:\u001b[0m\n",
      "\n",
      "\u001b[1m> Finished chain.\u001b[0m\n"
     ]
    },
    {
     "data": {
      "text/plain": [
       "\"Hello! It's wonderful to meet you too! I'm here to chat and help with any questions you might have. Whether you're curious about technology, history, or just want to have a friendly conversation, feel free to ask! How's your day going so far?\""
      ]
     },
     "execution_count": 30,
     "metadata": {},
     "output_type": "execute_result"
    }
   ],
   "source": [
    "conversation = ConversationChain(\n",
    "    llm = llm,\n",
    "    memory = memory,\n",
    "    verbose = True\n",
    ")\n",
    "\n",
    "conversation.predict(input=\"Hello, Nice to meet you!!\")"
   ]
  },
  {
   "cell_type": "code",
   "execution_count": 31,
   "metadata": {},
   "outputs": [
    {
     "name": "stdout",
     "output_type": "stream",
     "text": [
      "Human: Hello, Nice to meet you!!\n",
      "AI: Hello! It's wonderful to meet you too! I'm here to chat and help with any questions you might have. Whether you're curious about technology, history, or just want to have a friendly conversation, feel free to ask! How's your day going so far?\n"
     ]
    }
   ],
   "source": [
    "print(memory.buffer)"
   ]
  },
  {
   "cell_type": "code",
   "execution_count": 32,
   "metadata": {},
   "outputs": [],
   "source": [
    "memory.save_context({\"Input\": \"Very Interesting\"}, {\"output\":\"Yes, it was my pleasure as an AI to answer.\"})"
   ]
  },
  {
   "cell_type": "code",
   "execution_count": 33,
   "metadata": {},
   "outputs": [
    {
     "name": "stdout",
     "output_type": "stream",
     "text": [
      "{'history': 'Human: Very Interesting\\nAI: Yes, it was my pleasure as an AI to answer.'}\n"
     ]
    }
   ],
   "source": [
    "print(memory.load_memory_variables({}))"
   ]
  },
  {
   "cell_type": "markdown",
   "metadata": {},
   "source": [
    "## ConversationSummaryMemory"
   ]
  },
  {
   "cell_type": "code",
   "execution_count": null,
   "metadata": {},
   "outputs": [],
   "source": []
  }
 ],
 "metadata": {
  "kernelspec": {
   "display_name": "genai",
   "language": "python",
   "name": "python3"
  },
  "language_info": {
   "codemirror_mode": {
    "name": "ipython",
    "version": 3
   },
   "file_extension": ".py",
   "mimetype": "text/x-python",
   "name": "python",
   "nbconvert_exporter": "python",
   "pygments_lexer": "ipython3",
   "version": "3.11.9"
  }
 },
 "nbformat": 4,
 "nbformat_minor": 2
}
