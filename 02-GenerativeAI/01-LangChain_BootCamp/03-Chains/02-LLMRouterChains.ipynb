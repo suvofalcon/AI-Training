{
 "cells": [
  {
   "cell_type": "markdown",
   "metadata": {},
   "source": [
    "## LLMRouterChain\n",
    "\n",
    "\n",
    "The LLMRouterChain is a specialized chain in LangChain designed to route inputs dynamically to different chains or models based on some criteria. It is particularly useful in scenarios where you need to handle diverse tasks or inputs that require different processing methods."
   ]
  },
  {
   "cell_type": "code",
   "execution_count": 1,
   "metadata": {},
   "outputs": [],
   "source": [
    "import os\n",
    "from langchain_openai import ChatOpenAI\n",
    "from langchain.prompts import PromptTemplate\n",
    "from langchain.prompts.chat import ChatPromptTemplate\n",
    "from langchain.chains import LLMChain\n",
    "from langchain.chains.router import MultiPromptChain\n",
    "from langchain.chains.router.multi_prompt_prompt import MULTI_PROMPT_ROUTER_TEMPLATE\n",
    "from langchain.chains.router.llm_router import LLMRouterChain, RouterOutputParser"
   ]
  },
  {
   "cell_type": "markdown",
   "metadata": {},
   "source": [
    "### Route Templates"
   ]
  },
  {
   "cell_type": "code",
   "execution_count": 2,
   "metadata": {},
   "outputs": [],
   "source": [
    "beginner_template = '''You are a physics teacher who is really\n",
    "focused on beginners and explaining complex topics in simple to understand terms. \n",
    "You assume no prior knowledge of the student. Here is the question\\n{input}'''\n",
    "\n",
    "expert_template = '''You are a world expert physics professor who explains physics topics\n",
    "to advanced audience members. You can assume anyone you answer has a \n",
    "PhD level understanding of Physics. Here is the question\\n{input}'''\n",
    "\n",
    "# ADD OUR OWN TEMPLATES\n",
    "empty_template = 'empty'"
   ]
  },
  {
   "cell_type": "markdown",
   "metadata": {},
   "source": [
    "### Route Prompts"
   ]
  },
  {
   "cell_type": "code",
   "execution_count": 3,
   "metadata": {},
   "outputs": [],
   "source": [
    "prompt_infos = [\n",
    "    {'name':'empty', 'description':'Replies to empty questions', 'prompt_template':empty_template},\n",
    "    {'name':'advanced physics', 'description':'Answers advanced physics questions','prompt_template':expert_template},\n",
    "    {'name':'beginner physics', 'description':'Answers basic beginner physics questions', 'prompt_template':beginner_template},\n",
    "]"
   ]
  },
  {
   "cell_type": "markdown",
   "metadata": {},
   "source": [
    "### ConversationChain"
   ]
  },
  {
   "cell_type": "code",
   "execution_count": 4,
   "metadata": {},
   "outputs": [],
   "source": [
    "llm = ChatOpenAI(api_key=os.getenv(\"OPENAI_API_KEY\"), model=\"gpt-4o\")"
   ]
  },
  {
   "cell_type": "code",
   "execution_count": 5,
   "metadata": {},
   "outputs": [
    {
     "name": "stderr",
     "output_type": "stream",
     "text": [
      "/var/folders/ny/r3wsv_bd0bs1_vcy4pb5q9pr0000gn/T/ipykernel_17448/2651825830.py:6: LangChainDeprecationWarning: The class `LLMChain` was deprecated in LangChain 0.1.17 and will be removed in 1.0. Use :meth:`~RunnableSequence, e.g., `prompt | llm`` instead.\n",
      "  chain = LLMChain(llm=llm, prompt=prompt)\n"
     ]
    }
   ],
   "source": [
    "destination_chains = {}\n",
    "for p_info in prompt_infos:\n",
    "    name = p_info['name']\n",
    "    prompt_template = p_info['prompt_template']\n",
    "    prompt = ChatPromptTemplate.from_template(template=prompt_template)\n",
    "    chain = LLMChain(llm=llm, prompt=prompt)\n",
    "    #chain = prompt | llm\n",
    "    destination_chains[name] = chain"
   ]
  },
  {
   "cell_type": "code",
   "execution_count": 6,
   "metadata": {},
   "outputs": [],
   "source": [
    "default_prompt = ChatPromptTemplate.from_template('{input}')\n",
    "default_chain = LLMChain(llm=llm, prompt=default_prompt)"
   ]
  },
  {
   "cell_type": "markdown",
   "metadata": {},
   "source": [
    "### Multi Routing Template"
   ]
  },
  {
   "cell_type": "code",
   "execution_count": 7,
   "metadata": {},
   "outputs": [
    {
     "name": "stdout",
     "output_type": "stream",
     "text": [
      "Given a raw text input to a language model select the model prompt best suited for the input. You will be given the names of the available prompts and a description of what the prompt is best suited for. You may also revise the original input if you think that revising it will ultimately lead to a better response from the language model.\n",
      "\n",
      "<< FORMATTING >>\n",
      "Return a markdown code snippet with a JSON object formatted to look like:\n",
      "```json\n",
      "{{{{\n",
      "    \"destination\": string \\ name of the prompt to use or \"DEFAULT\"\n",
      "    \"next_inputs\": string \\ a potentially modified version of the original input\n",
      "}}}}\n",
      "```\n",
      "\n",
      "REMEMBER: \"destination\" MUST be one of the candidate prompt names specified below OR it can be \"DEFAULT\" if the input is not well suited for any of the candidate prompts.\n",
      "REMEMBER: \"next_inputs\" can just be the original input if you don't think any modifications are needed.\n",
      "\n",
      "<< CANDIDATE PROMPTS >>\n",
      "{destinations}\n",
      "\n",
      "<< INPUT >>\n",
      "{{input}}\n",
      "\n",
      "<< OUTPUT (must include ```json at the start of the response) >>\n",
      "<< OUTPUT (must end with ```) >>\n",
      "\n"
     ]
    }
   ],
   "source": [
    "print(MULTI_PROMPT_ROUTER_TEMPLATE)"
   ]
  },
  {
   "cell_type": "markdown",
   "metadata": {},
   "source": [
    "### Routing Destinations"
   ]
  },
  {
   "cell_type": "code",
   "execution_count": 8,
   "metadata": {},
   "outputs": [
    {
     "name": "stdout",
     "output_type": "stream",
     "text": [
      "empty: Replies to empty questions\n",
      "advanced physics: Answers advanced physics questions\n",
      "beginner physics: Answers basic beginner physics questions\n"
     ]
    }
   ],
   "source": [
    "destinations = [f\"{p['name']}: {p['description']}\" for p in prompt_infos]\n",
    "destinations = \"\\n\".join(destinations)\n",
    "print(destinations)"
   ]
  },
  {
   "cell_type": "markdown",
   "metadata": {},
   "source": [
    "### Router Prompt"
   ]
  },
  {
   "cell_type": "code",
   "execution_count": 9,
   "metadata": {},
   "outputs": [],
   "source": [
    "router_template = MULTI_PROMPT_ROUTER_TEMPLATE.format(destinations=destinations)\n",
    "router_prompt = PromptTemplate(template=router_template,\n",
    "                               input_variables=['input'],\n",
    "                               output_parser=RouterOutputParser())"
   ]
  },
  {
   "cell_type": "code",
   "execution_count": 10,
   "metadata": {},
   "outputs": [
    {
     "name": "stdout",
     "output_type": "stream",
     "text": [
      "Given a raw text input to a language model select the model prompt best suited for the input. You will be given the names of the available prompts and a description of what the prompt is best suited for. You may also revise the original input if you think that revising it will ultimately lead to a better response from the language model.\n",
      "\n",
      "<< FORMATTING >>\n",
      "Return a markdown code snippet with a JSON object formatted to look like:\n",
      "```json\n",
      "{{\n",
      "    \"destination\": string \\ name of the prompt to use or \"DEFAULT\"\n",
      "    \"next_inputs\": string \\ a potentially modified version of the original input\n",
      "}}\n",
      "```\n",
      "\n",
      "REMEMBER: \"destination\" MUST be one of the candidate prompt names specified below OR it can be \"DEFAULT\" if the input is not well suited for any of the candidate prompts.\n",
      "REMEMBER: \"next_inputs\" can just be the original input if you don't think any modifications are needed.\n",
      "\n",
      "<< CANDIDATE PROMPTS >>\n",
      "empty: Replies to empty questions\n",
      "advanced physics: Answers advanced physics questions\n",
      "beginner physics: Answers basic beginner physics questions\n",
      "\n",
      "<< INPUT >>\n",
      "{input}\n",
      "\n",
      "<< OUTPUT (must include ```json at the start of the response) >>\n",
      "<< OUTPUT (must end with ```) >>\n",
      "\n"
     ]
    }
   ],
   "source": [
    "print(router_template)"
   ]
  },
  {
   "cell_type": "markdown",
   "metadata": {},
   "source": [
    "### Routing Chain Call"
   ]
  },
  {
   "cell_type": "code",
   "execution_count": 11,
   "metadata": {},
   "outputs": [],
   "source": [
    "router_chain = LLMRouterChain.from_llm(llm=llm, prompt=router_prompt)"
   ]
  },
  {
   "cell_type": "code",
   "execution_count": 12,
   "metadata": {},
   "outputs": [
    {
     "name": "stderr",
     "output_type": "stream",
     "text": [
      "/var/folders/ny/r3wsv_bd0bs1_vcy4pb5q9pr0000gn/T/ipykernel_17448/2421999896.py:1: LangChainDeprecationWarning: Use RunnableLambda to select from multiple prompt templates. See example in API reference: https://api.python.langchain.com/en/latest/chains/langchain.chains.router.multi_prompt.MultiPromptChain.html\n",
      "  chain = MultiPromptChain(router_chain=router_chain, destination_chains=destination_chains,\n"
     ]
    }
   ],
   "source": [
    "chain = MultiPromptChain(router_chain=router_chain, destination_chains=destination_chains,\n",
    "                         default_chain=default_chain, verbose=True)"
   ]
  },
  {
   "cell_type": "code",
   "execution_count": 13,
   "metadata": {},
   "outputs": [
    {
     "name": "stdout",
     "output_type": "stream",
     "text": [
      "\n",
      "\n",
      "\u001b[1m> Entering new MultiPromptChain chain...\u001b[0m\n",
      "beginner physics: {'input': 'How do magnets work?'}\n",
      "\u001b[1m> Finished chain.\u001b[0m\n",
      "Great question! Let's explore how magnets work in a simple way.\n",
      "\n",
      "### What is a Magnet?\n",
      "\n",
      "A magnet is a material or object that produces a magnetic field, which is an invisible force that can attract or repel certain materials, like iron, nickel, and cobalt.\n",
      "\n",
      "### Basic Concepts\n",
      "\n",
      "1. **Magnetic Poles**: Every magnet has two ends called poles - a North pole and a South pole. These poles are where the magnetic force is strongest. If you try to push the North pole of one magnet towards the North pole of another, they will repel each other. However, if you bring the North pole of one magnet close to the South pole of another, they will attract each other. This is often summarized by the phrase: \"opposites attract, likes repel.\"\n",
      "\n",
      "2. **Magnetic Field**: Around every magnet is an invisible area called the magnetic field. You can think of it as the area where the magnet's force is felt. If you sprinkle iron filings around a magnet, they will line up along the magnetic field lines, showing you the shape of the field.\n",
      "\n",
      "### How Do Magnets Work?\n",
      "\n",
      "1. **Atoms and Electrons**: At the very basic level, magnets work due to the motion of electrons in atoms. All materials are made up of tiny particles called atoms, and atoms have even smaller particles called electrons. Electrons move around the nucleus of an atom and have an electric charge.\n",
      "\n",
      "2. **Magnetic Domains**: In magnetic materials, groups of atoms join together in areas called magnetic domains. Each domain acts like a tiny magnet with a North and South pole. In non-magnetic materials, these domains are arranged randomly, canceling each other out.\n",
      "\n",
      "3. **Alignment of Domains**: In a magnetized material, most or all of the magnetic domains are aligned in the same direction, meaning the poles of all those tiny magnets are pointing the same way. This alignment creates a strong, unified magnetic field around the object.\n",
      "\n",
      "### Why Some Materials Are Magnetic\n",
      "\n",
      "Only certain materials are magnetic because of the way their atomic structure allows their magnetic domains to align. Common magnetic materials include iron, nickel, and cobalt.\n",
      "\n",
      "### Everyday Uses of Magnets\n",
      "\n",
      "Magnets are used in many everyday items, such as:\n",
      "\n",
      "- **Compasses**: A compass needle is a small magnet that aligns itself with the Earth’s magnetic field to point towards the North.\n",
      "- **Refrigerator Magnets**: These keep your notes or photos attached to the fridge.\n",
      "- **Electronics**: Magnets are used in speakers, hard drives, and motors.\n",
      "\n",
      "### Summary\n",
      "\n",
      "- Magnets have two poles: North and South.\n",
      "- They create a magnetic field that can attract or repel other magnetic materials.\n",
      "- The alignment of magnetic domains within a material makes it magnetic.\n",
      "\n",
      "I hope this gives you a clear understanding of how magnets work! Feel free to ask more questions if you're curious about anything else.\n"
     ]
    }
   ],
   "source": [
    "response = chain.invoke(\"How do magnets work?\")\n",
    "print(response['text'])"
   ]
  },
  {
   "cell_type": "code",
   "execution_count": 14,
   "metadata": {},
   "outputs": [
    {
     "name": "stdout",
     "output_type": "stream",
     "text": [
      "\n",
      "\n",
      "\u001b[1m> Entering new MultiPromptChain chain...\u001b[0m\n",
      "advanced physics: {'input': 'Explain advanced concepts of Entropy in Thermodynamics'}\n",
      "\u001b[1m> Finished chain.\u001b[0m\n",
      "Entropy is a central concept in thermodynamics and statistical mechanics, often embodying the idea of disorder or randomness in a system. In a more sophisticated sense, entropy is a measure of the number of microscopic configurations that correspond to a thermodynamic system's macroscopic state. Let's delve into some advanced aspects of entropy.\n",
      "\n",
      "### Thermodynamic Entropy\n",
      "\n",
      "In classical thermodynamics, entropy (\\(S\\)) is a state function that is central to the second law of thermodynamics. This law states that for any spontaneous process, the entropy of the universe increases. Mathematically, this can be expressed as:\n",
      "\n",
      "\\[ \\Delta S_{\\text{universe}} = \\Delta S_{\\text{system}} + \\Delta S_{\\text{surroundings}} \\geq 0 \\]\n",
      "\n",
      "where \\(\\Delta S\\) represents the change in entropy. For reversible processes, the equality holds, while for irreversible processes, the inequality holds.\n",
      "\n",
      "### Statistical Mechanics and Entropy\n",
      "\n",
      "Boltzmann's formulation of entropy connects the macroscopic and microscopic worlds. It is given by the famous equation:\n",
      "\n",
      "\\[ S = k_B \\ln \\Omega \\]\n",
      "\n",
      "where \\(S\\) is the entropy, \\(k_B\\) is the Boltzmann constant, and \\(\\Omega\\) is the number of microstates corresponding to the macrostate of the system. This formulation provides a statistical interpretation of entropy, highlighting its probabilistic nature.\n",
      "\n",
      "### Quantum Entropy\n",
      "\n",
      "In quantum mechanics, entropy takes on a different guise. The Von Neumann entropy, defined for a quantum state described by a density matrix \\(\\rho\\), is given by:\n",
      "\n",
      "\\[ S(\\rho) = -\\text{Tr}(\\rho \\ln \\rho) \\]\n",
      "\n",
      "This form of entropy is crucial in quantum information theory, where it quantifies the amount of quantum information or uncertainty inherent in a quantum state.\n",
      "\n",
      "### Entropy and Information Theory\n",
      "\n",
      "Shannon entropy, while originally formulated in the context of information theory, is conceptually similar to thermodynamic entropy. It measures the uncertainty or information content. In the case of a discrete set of probabilities \\(\\{p_i\\}\\), the Shannon entropy is:\n",
      "\n",
      "\\[ H = -\\sum_i p_i \\log_2 p_i \\]\n",
      "\n",
      "This parallels the statistical mechanics entropy, where probabilities of microstates determine the macroscopic entropy.\n",
      "\n",
      "### Entropy in Non-Equilibrium Systems\n",
      "\n",
      "Non-equilibrium thermodynamics extends the concept of entropy beyond equilibrium states. The study of entropy production, which quantifies the irreversibility of processes, is a major focus. The entropy production rate is crucial for understanding systems driven far from equilibrium, such as biological systems and complex materials.\n",
      "\n",
      "### Entropy and the Arrow of Time\n",
      "\n",
      "Entropy is intimately related to the arrow of time. The increase of entropy gives a direction to time, distinguishing the past from the future. This is particularly evident in cosmology, where the initial low-entropy state of the universe is a fundamental question.\n",
      "\n",
      "### Entropy and Black Holes\n",
      "\n",
      "Perhaps one of the most intriguing applications of entropy is in the context of black holes. Bekenstein and Hawking showed that black holes possess entropy proportional to their event horizon area:\n",
      "\n",
      "\\[ S_{\\text{BH}} = \\frac{k_B c^3 A}{4 G \\hbar} \\]\n",
      "\n",
      "where \\(A\\) is the area of the event horizon, \\(c\\) is the speed of light, \\(G\\) is the gravitational constant, and \\(\\hbar\\) is the reduced Planck constant. This result has profound implications for the interplay between gravity, quantum mechanics, and thermodynamics.\n",
      "\n",
      "In summary, entropy is a multifaceted concept that permeates various domains of physics, from thermodynamics and statistical mechanics to quantum mechanics and cosmology. It is a fundamental quantity that bridges the macroscopic and microscopic, the classical and quantum, as well as providing a deep connection to information theory.\n"
     ]
    }
   ],
   "source": [
    "response = chain.invoke(\"Explain advanced concepts of Entropy in Thermodynamics\")\n",
    "print(response['text'])"
   ]
  },
  {
   "cell_type": "code",
   "execution_count": null,
   "metadata": {},
   "outputs": [],
   "source": []
  }
 ],
 "metadata": {
  "kernelspec": {
   "display_name": "genai",
   "language": "python",
   "name": "python3"
  },
  "language_info": {
   "codemirror_mode": {
    "name": "ipython",
    "version": 3
   },
   "file_extension": ".py",
   "mimetype": "text/x-python",
   "name": "python",
   "nbconvert_exporter": "python",
   "pygments_lexer": "ipython3",
   "version": "3.11.9"
  }
 },
 "nbformat": 4,
 "nbformat_minor": 2
}
