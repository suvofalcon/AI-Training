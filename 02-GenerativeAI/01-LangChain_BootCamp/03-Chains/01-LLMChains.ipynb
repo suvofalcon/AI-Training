{
 "cells": [
  {
   "cell_type": "markdown",
   "metadata": {},
   "source": [
    "# LLM Chains\n",
    "\n",
    "Chains allow us to combine multiple components together to create a single, coherent application. For example, we can create a chain that takes user input, formats it with a PromptTemplate, and then passes the formatted response to an LLM. We can build more complex chains by combining multiple chains together, or by combining chains with other components."
   ]
  },
  {
   "cell_type": "markdown",
   "metadata": {},
   "source": [
    "## Basic Single Chain"
   ]
  },
  {
   "cell_type": "code",
   "execution_count": 66,
   "metadata": {},
   "outputs": [],
   "source": [
    "import os\n",
    "from langchain_openai import ChatOpenAI\n",
    "from langchain.prompts.chat import ChatPromptTemplate, HumanMessagePromptTemplate\n",
    "from langchain.chains import LLMChain"
   ]
  },
  {
   "cell_type": "code",
   "execution_count": 67,
   "metadata": {},
   "outputs": [],
   "source": [
    "human_message_prompt = HumanMessagePromptTemplate.from_template(\"Make up a funny company name for a company that produces {product}\")\n",
    "chat_prompt_template = ChatPromptTemplate.from_messages([human_message_prompt])"
   ]
  },
  {
   "cell_type": "code",
   "execution_count": 68,
   "metadata": {},
   "outputs": [],
   "source": [
    "chat = ChatOpenAI(api_key=os.getenv(\"OPENAI_API_KEY\"), model=\"gpt-4o\")"
   ]
  },
  {
   "cell_type": "code",
   "execution_count": 69,
   "metadata": {},
   "outputs": [],
   "source": [
    "chain = chat_prompt_template | chat\n",
    "chain = LLMChain(llm=chat, prompt=chat_prompt_template)\n",
    "response = chain.invoke(input=\"computers\")"
   ]
  },
  {
   "cell_type": "code",
   "execution_count": 70,
   "metadata": {},
   "outputs": [
    {
     "name": "stdout",
     "output_type": "stream",
     "text": [
      "How about \"Byte Me Computers\"?\n"
     ]
    }
   ],
   "source": [
    "print(response['text'])"
   ]
  },
  {
   "cell_type": "markdown",
   "metadata": {},
   "source": [
    "## Simple Sequential Chain"
   ]
  },
  {
   "cell_type": "code",
   "execution_count": 71,
   "metadata": {},
   "outputs": [],
   "source": [
    "import os\n",
    "from langchain_openai import ChatOpenAI\n",
    "from langchain.prompts.chat import ChatPromptTemplate\n",
    "from langchain.chains import LLMChain, SimpleSequentialChain"
   ]
  },
  {
   "cell_type": "code",
   "execution_count": 72,
   "metadata": {},
   "outputs": [],
   "source": [
    "llm = ChatOpenAI(api_key=os.getenv(\"OPENAI_API_KEY\"), model=\"gpt-4o\")"
   ]
  },
  {
   "cell_type": "code",
   "execution_count": 73,
   "metadata": {},
   "outputs": [],
   "source": [
    "template = \"Give me a simple bullet point outline for a blog on post on {topic}\"\n",
    "first_prompt = ChatPromptTemplate.from_template(template=template)\n",
    "chain_one = LLMChain(llm=llm, prompt=first_prompt)\n",
    "\n",
    "template_2 = \"Write a blog post using this outline: {outline}\"\n",
    "second_prompt = ChatPromptTemplate.from_template(template=template_2)\n",
    "chain_two = LLMChain(llm=llm, prompt=second_prompt)"
   ]
  },
  {
   "cell_type": "code",
   "execution_count": 74,
   "metadata": {},
   "outputs": [
    {
     "name": "stdout",
     "output_type": "stream",
     "text": [
      "\n",
      "\n",
      "\u001b[1m> Entering new SimpleSequentialChain chain...\u001b[0m\n",
      "\u001b[36;1m\u001b[1;3mSure! Here's a simple bullet point outline for a blog post on Data Science:\n",
      "\n",
      "- **Introduction**\n",
      "  - Brief explanation of what data science is\n",
      "  - Importance and relevance of data science in today's world\n",
      "\n",
      "- **Core Components of Data Science**\n",
      "  - Data Collection\n",
      "  - Data Cleaning\n",
      "  - Exploratory Data Analysis (EDA)\n",
      "  - Data Modeling\n",
      "  - Data Visualization\n",
      "\n",
      "- **Key Tools and Technologies**\n",
      "  - Programming languages (Python, R)\n",
      "  - Data manipulation tools (Pandas, NumPy)\n",
      "  - Visualization libraries (Matplotlib, Seaborn)\n",
      "  - Machine learning frameworks (Scikit-learn, TensorFlow)\n",
      "\n",
      "- **Applications of Data Science**\n",
      "  - Business Analytics\n",
      "  - Healthcare\n",
      "  - Finance\n",
      "  - Marketing\n",
      "\n",
      "- **Challenges in Data Science**\n",
      "  - Data Quality and Volume\n",
      "  - Privacy and Security Concerns\n",
      "  - Keeping up with technological advancements\n",
      "\n",
      "- **Future Trends in Data Science**\n",
      "  - Rise of Automated Machine Learning (AutoML)\n",
      "  - Increased use of Artificial Intelligence (AI)\n",
      "  - Enhanced focus on ethical data usage\n",
      "\n",
      "- **Conclusion**\n",
      "  - Recap of the importance of data science\n",
      "  - Encouragement to learn and explore data science further\n",
      "\n",
      "- **Call to Action**\n",
      "  - Suggestions for further reading or courses\n",
      "  - Invitation to share thoughts or questions in the comments\n",
      "\n",
      "This outline should help you structure a comprehensive and engaging blog post on data science.\u001b[0m\n",
      "\u001b[33;1m\u001b[1;3m**Unlocking the Power of Data Science: A Journey into the Digital Frontier**\n",
      "\n",
      "In today's fast-paced digital age, data is the new gold. With the explosion of information in every sector, harnessing the power of data science has become essential. But what exactly is data science? At its core, data science is a multidisciplinary field that uses scientific methods, processes, algorithms, and systems to extract knowledge and insights from structured and unstructured data. Its significance cannot be overstated, as it plays a pivotal role in transforming raw data into actionable insights, driving decision-making in businesses, healthcare, finance, and more.\n",
      "\n",
      "### Core Components of Data Science\n",
      "\n",
      "The data science process is composed of several key components, each crucial to the overall workflow:\n",
      "\n",
      "- **Data Collection**: The initial step involves gathering data from various sources, which can be challenging due to the sheer volume and diversity of available data.\n",
      "\n",
      "- **Data Cleaning**: Often considered the most time-consuming task, data cleaning involves correcting or removing inaccuracies and ensuring consistency, thereby preparing the data for analysis.\n",
      "\n",
      "- **Exploratory Data Analysis (EDA)**: This stage involves summarizing the main characteristics of the data, often using visual methods, to uncover patterns, spot anomalies, and test hypotheses.\n",
      "\n",
      "- **Data Modeling**: Here, statistical and machine learning models are applied to the data to predict outcomes or identify patterns.\n",
      "\n",
      "- **Data Visualization**: The final component involves presenting data insights in a visual format, making it easier for stakeholders to understand and make data-driven decisions.\n",
      "\n",
      "### Key Tools and Technologies\n",
      "\n",
      "Data scientists rely on a variety of tools and technologies to perform their tasks efficiently:\n",
      "\n",
      "- **Programming Languages**: Python and R are the go-to languages for data science due to their robustness and extensive libraries.\n",
      "\n",
      "- **Data Manipulation Tools**: Libraries like Pandas and NumPy allow for efficient data manipulation and analysis.\n",
      "\n",
      "- **Visualization Libraries**: Tools such as Matplotlib and Seaborn enable the creation of detailed and informative visualizations.\n",
      "\n",
      "- **Machine Learning Frameworks**: Scikit-learn and TensorFlow are popular for building machine learning models, offering a wide range of algorithms and functionalities.\n",
      "\n",
      "### Applications of Data Science\n",
      "\n",
      "Data science is transforming industries across the board:\n",
      "\n",
      "- **Business Analytics**: Companies use data science for customer segmentation, sales forecasting, and optimizing operations.\n",
      "\n",
      "- **Healthcare**: Data science aids in personalized medicine, predictive analytics for patient outcomes, and efficient resource management.\n",
      "\n",
      "- **Finance**: It helps in fraud detection, risk management, and algorithmic trading.\n",
      "\n",
      "- **Marketing**: Data-driven insights enhance targeting, customer retention, and campaign effectiveness.\n",
      "\n",
      "### Challenges in Data Science\n",
      "\n",
      "Despite its potential, data science faces several challenges:\n",
      "\n",
      "- **Data Quality and Volume**: Managing large volumes of data and ensuring its quality can be daunting.\n",
      "\n",
      "- **Privacy and Security Concerns**: Protecting sensitive data and ensuring compliance with regulations is critical.\n",
      "\n",
      "- **Keeping Up with Technological Advancements**: The rapidly evolving tech landscape requires continuous learning and adaptation.\n",
      "\n",
      "### Future Trends in Data Science\n",
      "\n",
      "The future of data science looks promising, with several exciting trends on the horizon:\n",
      "\n",
      "- **Rise of Automated Machine Learning (AutoML)**: AutoML is making it easier to build models without extensive programming knowledge, democratizing data science.\n",
      "\n",
      "- **Increased Use of Artificial Intelligence (AI)**: AI is becoming more integrated into data science, enhancing capabilities and opening new possibilities.\n",
      "\n",
      "- **Enhanced Focus on Ethical Data Usage**: As data usage grows, so does the emphasis on ethical practices and fairness in AI models.\n",
      "\n",
      "### Conclusion\n",
      "\n",
      "Data science is an indispensable tool in the modern world, unlocking insights that drive innovation and efficiency. As we continue to generate vast amounts of data, the need for skilled data scientists will only grow. Embrace the journey into data science and explore the myriad opportunities it offers.\n",
      "\n",
      "### Call to Action\n",
      "\n",
      "Ready to dive deeper into data science? Consider exploring online courses or reading foundational books on the subject. Feel free to share your thoughts or questions in the comments below—let's embark on this data-driven adventure together!\u001b[0m\n",
      "\n",
      "\u001b[1m> Finished chain.\u001b[0m\n",
      "{'input': 'Data Science', 'output': \"**Unlocking the Power of Data Science: A Journey into the Digital Frontier**\\n\\nIn today's fast-paced digital age, data is the new gold. With the explosion of information in every sector, harnessing the power of data science has become essential. But what exactly is data science? At its core, data science is a multidisciplinary field that uses scientific methods, processes, algorithms, and systems to extract knowledge and insights from structured and unstructured data. Its significance cannot be overstated, as it plays a pivotal role in transforming raw data into actionable insights, driving decision-making in businesses, healthcare, finance, and more.\\n\\n### Core Components of Data Science\\n\\nThe data science process is composed of several key components, each crucial to the overall workflow:\\n\\n- **Data Collection**: The initial step involves gathering data from various sources, which can be challenging due to the sheer volume and diversity of available data.\\n\\n- **Data Cleaning**: Often considered the most time-consuming task, data cleaning involves correcting or removing inaccuracies and ensuring consistency, thereby preparing the data for analysis.\\n\\n- **Exploratory Data Analysis (EDA)**: This stage involves summarizing the main characteristics of the data, often using visual methods, to uncover patterns, spot anomalies, and test hypotheses.\\n\\n- **Data Modeling**: Here, statistical and machine learning models are applied to the data to predict outcomes or identify patterns.\\n\\n- **Data Visualization**: The final component involves presenting data insights in a visual format, making it easier for stakeholders to understand and make data-driven decisions.\\n\\n### Key Tools and Technologies\\n\\nData scientists rely on a variety of tools and technologies to perform their tasks efficiently:\\n\\n- **Programming Languages**: Python and R are the go-to languages for data science due to their robustness and extensive libraries.\\n\\n- **Data Manipulation Tools**: Libraries like Pandas and NumPy allow for efficient data manipulation and analysis.\\n\\n- **Visualization Libraries**: Tools such as Matplotlib and Seaborn enable the creation of detailed and informative visualizations.\\n\\n- **Machine Learning Frameworks**: Scikit-learn and TensorFlow are popular for building machine learning models, offering a wide range of algorithms and functionalities.\\n\\n### Applications of Data Science\\n\\nData science is transforming industries across the board:\\n\\n- **Business Analytics**: Companies use data science for customer segmentation, sales forecasting, and optimizing operations.\\n\\n- **Healthcare**: Data science aids in personalized medicine, predictive analytics for patient outcomes, and efficient resource management.\\n\\n- **Finance**: It helps in fraud detection, risk management, and algorithmic trading.\\n\\n- **Marketing**: Data-driven insights enhance targeting, customer retention, and campaign effectiveness.\\n\\n### Challenges in Data Science\\n\\nDespite its potential, data science faces several challenges:\\n\\n- **Data Quality and Volume**: Managing large volumes of data and ensuring its quality can be daunting.\\n\\n- **Privacy and Security Concerns**: Protecting sensitive data and ensuring compliance with regulations is critical.\\n\\n- **Keeping Up with Technological Advancements**: The rapidly evolving tech landscape requires continuous learning and adaptation.\\n\\n### Future Trends in Data Science\\n\\nThe future of data science looks promising, with several exciting trends on the horizon:\\n\\n- **Rise of Automated Machine Learning (AutoML)**: AutoML is making it easier to build models without extensive programming knowledge, democratizing data science.\\n\\n- **Increased Use of Artificial Intelligence (AI)**: AI is becoming more integrated into data science, enhancing capabilities and opening new possibilities.\\n\\n- **Enhanced Focus on Ethical Data Usage**: As data usage grows, so does the emphasis on ethical practices and fairness in AI models.\\n\\n### Conclusion\\n\\nData science is an indispensable tool in the modern world, unlocking insights that drive innovation and efficiency. As we continue to generate vast amounts of data, the need for skilled data scientists will only grow. Embrace the journey into data science and explore the myriad opportunities it offers.\\n\\n### Call to Action\\n\\nReady to dive deeper into data science? Consider exploring online courses or reading foundational books on the subject. Feel free to share your thoughts or questions in the comments below—let's embark on this data-driven adventure together!\"}\n"
     ]
    }
   ],
   "source": [
    "full_chain = SimpleSequentialChain(chains=[chain_one, chain_two], verbose=True)\n",
    "result = full_chain.invoke(input=\"Data Science\")\n",
    "print(result)"
   ]
  },
  {
   "cell_type": "markdown",
   "metadata": {},
   "source": [
    "## Sequential Chains"
   ]
  },
  {
   "cell_type": "code",
   "execution_count": 88,
   "metadata": {},
   "outputs": [],
   "source": [
    "import os\n",
    "from langchain_openai import ChatOpenAI\n",
    "from langchain.prompts.chat import ChatPromptTemplate\n",
    "from langchain.chains import LLMChain, SequentialChain"
   ]
  },
  {
   "cell_type": "code",
   "execution_count": 89,
   "metadata": {},
   "outputs": [],
   "source": [
    "llm = ChatOpenAI(api_key=os.getenv(\"OPENAI_API_KEY\"), model=\"gpt-4o\")"
   ]
  },
  {
   "cell_type": "code",
   "execution_count": 90,
   "metadata": {},
   "outputs": [],
   "source": [
    "template_1 = \"Give a summary of this employee's performance review:\\n{review}\"\n",
    "prompt_1 = ChatPromptTemplate.from_template(template=template_1)\n",
    "chain_1 = LLMChain(llm=llm, prompt=prompt_1, output_key=\"review_summary\")"
   ]
  },
  {
   "cell_type": "code",
   "execution_count": 91,
   "metadata": {},
   "outputs": [],
   "source": [
    "template_2 = \"Identify key employee weaknesses in this review summary:\\n{review_summary}\"\n",
    "prompt_2 = ChatPromptTemplate.from_template(template=template_2)\n",
    "chain_2 = LLMChain(llm=llm, prompt=prompt_2, output_key=\"weaknesses\")"
   ]
  },
  {
   "cell_type": "code",
   "execution_count": 92,
   "metadata": {},
   "outputs": [],
   "source": [
    "template_3 = \"Create a personalized plan to help address and fix these weaknesses:\\n{weaknesses}\"\n",
    "prompt_3 = ChatPromptTemplate.from_template(template=template_3)\n",
    "chain_3 = LLMChain(llm=llm, prompt=prompt_3, output_key=\"final_plan\")"
   ]
  },
  {
   "cell_type": "code",
   "execution_count": 93,
   "metadata": {},
   "outputs": [],
   "source": [
    "seq_chain = SequentialChain(chains=[chain_1, chain_2, chain_3], \n",
    "                            input_variables=['review'],\n",
    "                            output_variables=['review_summary','weaknesses','final_plan'],\n",
    "                            verbose = True)"
   ]
  },
  {
   "cell_type": "code",
   "execution_count": 94,
   "metadata": {},
   "outputs": [],
   "source": [
    "employee_review = '''\n",
    "Employee Information:\n",
    "Name: Joe Schmo\n",
    "Position: Software Engineer\n",
    "Date of Review: July 14, 2023\n",
    "\n",
    "Strengths:\n",
    "Joe is a highly skilled software engineer with a deep understanding of programming languages, algorithms, and software development best practices. His technical expertise shines through in his ability to efficiently solve complex problems and deliver high-quality code.\n",
    "\n",
    "One of Joe's greatest strengths is his collaborative nature. He actively engages with cross-functional teams, contributing valuable insights and seeking input from others. His open-mindedness and willingness to learn from colleagues make him a true team player.\n",
    "\n",
    "Joe consistently demonstrates initiative and self-motivation. He takes the lead in seeking out new projects and challenges, and his proactive attitude has led to significant improvements in existing processes and systems. His dedication to self-improvement and growth is commendable.\n",
    "\n",
    "Another notable strength is Joe's adaptability. He has shown great flexibility in handling changing project requirements and learning new technologies. This adaptability allows him to seamlessly transition between different projects and tasks, making him a valuable asset to the team.\n",
    "\n",
    "Joe's problem-solving skills are exceptional. He approaches issues with a logical mindset and consistently finds effective solutions, often thinking outside the box. His ability to break down complex problems into manageable parts is key to his success in resolving issues efficiently.\n",
    "\n",
    "Weaknesses:\n",
    "While Joe possesses numerous strengths, there are a few areas where he could benefit from improvement. One such area is time management. Occasionally, Joe struggles with effectively managing his time, resulting in missed deadlines or the need for additional support to complete tasks on time. Developing better prioritization and time management techniques would greatly enhance his efficiency.\n",
    "\n",
    "Another area for improvement is Joe's written communication skills. While he communicates well verbally, there have been instances where his written documentation lacked clarity, leading to confusion among team members. Focusing on enhancing his written communication abilities will help him effectively convey ideas and instructions.\n",
    "\n",
    "Additionally, Joe tends to take on too many responsibilities and hesitates to delegate tasks to others. This can result in an excessive workload and potential burnout. Encouraging him to delegate tasks appropriately will not only alleviate his own workload but also foster a more balanced and productive team environment.\n",
    "'''"
   ]
  },
  {
   "cell_type": "code",
   "execution_count": 99,
   "metadata": {},
   "outputs": [
    {
     "name": "stdout",
     "output_type": "stream",
     "text": [
      "\n",
      "\n",
      "\u001b[1m> Entering new SequentialChain chain...\u001b[0m\n",
      "\n",
      "\u001b[1m> Finished chain.\u001b[0m\n"
     ]
    },
    {
     "data": {
      "text/plain": [
       "{'review': \"\\nEmployee Information:\\nName: Joe Schmo\\nPosition: Software Engineer\\nDate of Review: July 14, 2023\\n\\nStrengths:\\nJoe is a highly skilled software engineer with a deep understanding of programming languages, algorithms, and software development best practices. His technical expertise shines through in his ability to efficiently solve complex problems and deliver high-quality code.\\n\\nOne of Joe's greatest strengths is his collaborative nature. He actively engages with cross-functional teams, contributing valuable insights and seeking input from others. His open-mindedness and willingness to learn from colleagues make him a true team player.\\n\\nJoe consistently demonstrates initiative and self-motivation. He takes the lead in seeking out new projects and challenges, and his proactive attitude has led to significant improvements in existing processes and systems. His dedication to self-improvement and growth is commendable.\\n\\nAnother notable strength is Joe's adaptability. He has shown great flexibility in handling changing project requirements and learning new technologies. This adaptability allows him to seamlessly transition between different projects and tasks, making him a valuable asset to the team.\\n\\nJoe's problem-solving skills are exceptional. He approaches issues with a logical mindset and consistently finds effective solutions, often thinking outside the box. His ability to break down complex problems into manageable parts is key to his success in resolving issues efficiently.\\n\\nWeaknesses:\\nWhile Joe possesses numerous strengths, there are a few areas where he could benefit from improvement. One such area is time management. Occasionally, Joe struggles with effectively managing his time, resulting in missed deadlines or the need for additional support to complete tasks on time. Developing better prioritization and time management techniques would greatly enhance his efficiency.\\n\\nAnother area for improvement is Joe's written communication skills. While he communicates well verbally, there have been instances where his written documentation lacked clarity, leading to confusion among team members. Focusing on enhancing his written communication abilities will help him effectively convey ideas and instructions.\\n\\nAdditionally, Joe tends to take on too many responsibilities and hesitates to delegate tasks to others. This can result in an excessive workload and potential burnout. Encouraging him to delegate tasks appropriately will not only alleviate his own workload but also foster a more balanced and productive team environment.\\n\",\n",
       " 'review_summary': 'Joe Schmo, a Software Engineer, received a performance review on July 14, 2023, highlighting both his strengths and areas for improvement. Joe is recognized for his technical expertise in software development, his collaborative nature, and his initiative and adaptability. He excels in problem-solving and effectively engages with cross-functional teams, often leading to improvements in processes and systems. \\n\\nHowever, there are a few areas where Joe could enhance his performance. He occasionally struggles with time management, leading to missed deadlines, and his written communication skills sometimes lack clarity. Additionally, Joe tends to take on too many responsibilities without delegating, which can lead to an excessive workload and potential burnout. Improving his time management, written communication, and delegation skills would enhance his efficiency and contribute to a more balanced team environment.',\n",
       " 'weaknesses': \"In the performance review summary, Joe Schmo's key weaknesses are identified as follows:\\n\\n1. **Time Management**: Joe occasionally struggles with managing his time effectively, which has resulted in missed deadlines.\\n\\n2. **Written Communication**: His written communication skills sometimes lack clarity, which may impact the effectiveness of his interactions and documentation.\\n\\n3. **Delegation**: Joe tends to take on too many responsibilities without delegating tasks, leading to an excessive workload and potential burnout. Improving his ability to delegate could help distribute the workload more evenly and prevent overburdening himself.\",\n",
       " 'final_plan': \"To address and improve Joe Schmo's identified weaknesses, a personalized development plan can be created. This plan will include specific actions, resources, and timelines to guide Joe's growth in these areas. Here is a detailed plan for each of the three key areas:\\n\\n### 1. Time Management\\n**Objective**: Improve Joe's ability to manage his time effectively to meet deadlines consistently.\\n\\n**Actions**:\\n- **Prioritization Training**: Enroll Joe in a time management workshop or online course focusing on prioritization techniques (e.g., Eisenhower Box, ABC prioritization).\\n- **Daily Planning**: Encourage Joe to spend 10-15 minutes at the start of each day planning and prioritizing his tasks. He can use tools like digital calendars or planning apps (e.g., Trello, Todoist).\\n- **Pomodoro Technique**: Introduce the Pomodoro Technique to help Joe maintain focus and efficiency during work hours. This involves working in focused sprints of 25 minutes followed by a 5-minute break.\\n- **Weekly Review**: Set up a weekly meeting with Joe and his manager to review the week's accomplishments, reflect on any missed deadlines, and adjust plans for the following week.\\n\\n**Timeline**: Begin immediately with a review of progress after 3 months.\\n\\n### 2. Written Communication\\n**Objective**: Enhance Joe's clarity and effectiveness in written communication.\\n\\n**Actions**:\\n- **Writing Workshops**: Recommend Joe attend workshops or online courses on business writing and effective communication. LinkedIn Learning and Coursera offer relevant courses.\\n- **Peer Review**: Implement a system where Joe can have a colleague review his important written communications before sending them out. This will provide him with immediate feedback and suggestions for improvement.\\n- **Writing Tools**: Encourage the use of tools like Grammarly or Hemingway App to help Joe refine his writing for clarity and conciseness.\\n- **Reading and Feedback**: Set a goal for Joe to read one article or book chapter weekly related to effective communication and discuss key takeaways with his team.\\n\\n**Timeline**: Start with an initial workshop within the first month and ongoing feedback sessions bi-weekly.\\n\\n### 3. Delegation\\n**Objective**: Develop Joe's skills in delegation to better manage his workload and prevent burnout.\\n\\n**Actions**:\\n- **Delegation Training**: Provide Joe with training on effective delegation strategies, focusing on identifying tasks that can be delegated and how to entrust these tasks to team members.\\n- **Mentorship**: Pair Joe with a mentor who is proficient in delegation to provide guidance and share best practices.\\n- **Task Analysis**: Have Joe perform a task analysis to identify which tasks can be delegated and to whom, based on team members' skills and workloads.\\n- **Feedback Loop**: Encourage Joe to set up a feedback loop with team members to ensure delegated tasks are completed successfully and to address any issues that arise.\\n\\n**Timeline**: Begin with training in the first month and establish mentorship within the next 2 months, with regular check-ins every month.\\n\\n### General Recommendations\\n- **Regular Check-ins**: Schedule regular one-on-one meetings with Joe to discuss his progress, challenges, and any support he might need.\\n- **SMART Goals**: Encourage Joe to set specific, measurable, achievable, relevant, and time-bound goals for each area of improvement.\\n- **Reflection and Adaptation**: Encourage Joe to reflect on his progress regularly and adapt the plan as necessary based on his experiences and feedback.\\n\\nBy following this personalized development plan, Joe Schmo can systematically address his weaknesses and enhance his performance. Regular support and feedback from his manager and peers will be crucial for sustained improvement.\"}"
      ]
     },
     "execution_count": 99,
     "metadata": {},
     "output_type": "execute_result"
    }
   ],
   "source": [
    "results = seq_chain.invoke(employee_review)\n",
    "results"
   ]
  },
  {
   "cell_type": "code",
   "execution_count": 96,
   "metadata": {},
   "outputs": [
    {
     "data": {
      "text/plain": [
       "{'review': \"\\nEmployee Information:\\nName: Joe Schmo\\nPosition: Software Engineer\\nDate of Review: July 14, 2023\\n\\nStrengths:\\nJoe is a highly skilled software engineer with a deep understanding of programming languages, algorithms, and software development best practices. His technical expertise shines through in his ability to efficiently solve complex problems and deliver high-quality code.\\n\\nOne of Joe's greatest strengths is his collaborative nature. He actively engages with cross-functional teams, contributing valuable insights and seeking input from others. His open-mindedness and willingness to learn from colleagues make him a true team player.\\n\\nJoe consistently demonstrates initiative and self-motivation. He takes the lead in seeking out new projects and challenges, and his proactive attitude has led to significant improvements in existing processes and systems. His dedication to self-improvement and growth is commendable.\\n\\nAnother notable strength is Joe's adaptability. He has shown great flexibility in handling changing project requirements and learning new technologies. This adaptability allows him to seamlessly transition between different projects and tasks, making him a valuable asset to the team.\\n\\nJoe's problem-solving skills are exceptional. He approaches issues with a logical mindset and consistently finds effective solutions, often thinking outside the box. His ability to break down complex problems into manageable parts is key to his success in resolving issues efficiently.\\n\\nWeaknesses:\\nWhile Joe possesses numerous strengths, there are a few areas where he could benefit from improvement. One such area is time management. Occasionally, Joe struggles with effectively managing his time, resulting in missed deadlines or the need for additional support to complete tasks on time. Developing better prioritization and time management techniques would greatly enhance his efficiency.\\n\\nAnother area for improvement is Joe's written communication skills. While he communicates well verbally, there have been instances where his written documentation lacked clarity, leading to confusion among team members. Focusing on enhancing his written communication abilities will help him effectively convey ideas and instructions.\\n\\nAdditionally, Joe tends to take on too many responsibilities and hesitates to delegate tasks to others. This can result in an excessive workload and potential burnout. Encouraging him to delegate tasks appropriately will not only alleviate his own workload but also foster a more balanced and productive team environment.\\n\",\n",
       " 'review_summary': \"Joe Schmo's performance review highlights his strengths and areas for improvement as a Software Engineer. Joe is recognized for his technical expertise, problem-solving abilities, and collaborative nature. His deep understanding of programming and software development, along with his proactive and adaptable approach, make him a valuable team player. He is praised for his ability to engage with cross-functional teams and his dedication to self-improvement.\\n\\nHowever, the review also identifies some areas where Joe could improve. Time management is a concern, as Joe sometimes struggles to meet deadlines and could benefit from better prioritization techniques. His written communication skills need enhancement to prevent misunderstandings in team documentation. Additionally, Joe's tendency to take on too many responsibilities and reluctance to delegate tasks could lead to an excessive workload and potential burnout. Addressing these areas will help Joe become more efficient and contribute to a more balanced team environment.\",\n",
       " 'weaknesses': \"In the performance review summary for Joe Schmo, the key employee weaknesses identified are:\\n\\n1. **Time Management**: Joe struggles to meet deadlines and could benefit from improved prioritization techniques.\\n\\n2. **Written Communication Skills**: There is a need for enhancement in Joe's written communication to prevent misunderstandings in team documentation.\\n\\n3. **Reluctance to Delegate**: Joe tends to take on too many responsibilities and is reluctant to delegate tasks, which could lead to an excessive workload and potential burnout.\\n\\nAddressing these areas will help Joe improve his efficiency and contribute to a more balanced team environment.\",\n",
       " 'final_plan': \"Creating a personalized plan for Joe Schmo involves setting clear goals, providing resources and support, and establishing accountability measures. Here's a detailed plan to address each identified weakness:\\n\\n### 1. Time Management\\n\\n**Goals:**\\n- Improve deadline adherence by 20% within the next quarter.\\n- Implement effective prioritization techniques to manage tasks efficiently.\\n\\n**Action Steps:**\\n- **Training:** Enroll Joe in a time management workshop or an online course focusing on prioritization techniques, such as the Eisenhower Box and the Pomodoro Technique.\\n- **Tools:** Introduce project management tools like Trello or Asana to help Joe visualize tasks, set deadlines, and track progress.\\n- **Mentorship:** Pair Joe with a mentor known for strong time management skills. Regular check-ins can help Joe develop new habits and receive feedback.\\n- **Weekly Planning:** Encourage Joe to spend 30 minutes every Monday morning planning his week, setting clear priorities, and allocating time for each task.\\n- **Daily Review:** Implement a daily review process where Joe reflects on his accomplishments and adjusts plans for the following day.\\n\\n**Accountability:**\\n- Set bi-weekly meetings with Joe's manager to review progress on deadlines and discuss any ongoing challenges.\\n- Use metrics from the project management tools to track improvements and identify bottlenecks.\\n\\n### 2. Written Communication Skills\\n\\n**Goals:**\\n- Enhance clarity and precision in written communication within the next six months.\\n- Reduce misunderstandings in team documentation by 50%.\\n\\n**Action Steps:**\\n- **Workshops:** Enroll Joe in a business writing course that focuses on clarity, structure, and audience awareness.\\n- **Peer Review:** Implement a peer review system where Joe's written documents are reviewed by a colleague before finalization, providing constructive feedback.\\n- **Writing Practice:** Encourage Joe to write short daily summaries or notes of meetings and share them with the team for feedback.\\n- **Templates:** Provide templates and guidelines for common documents to ensure consistency and clarity in Joe's writing.\\n- **Reading:** Recommend reading materials or resources on effective business communication to improve Joe's skills through self-study.\\n\\n**Accountability:**\\n- Schedule monthly reviews of Joe's written communications with his manager to assess improvements and areas for further development.\\n- Use feedback from colleagues and team members to evaluate progress in reducing misunderstandings.\\n\\n### 3. Reluctance to Delegate\\n\\n**Goals:**\\n- Increase task delegation by 30% within the next quarter.\\n- Develop trust in team members' abilities and improve workload distribution.\\n\\n**Action Steps:**\\n- **Workshops:** Encourage Joe to attend delegation and leadership workshops to understand the benefits of effective delegation.\\n- **Role Clarification:** Work with Joe to clearly define his role and responsibilities, distinguishing between tasks that require his direct involvement and those that can be delegated.\\n- **Trust Building:** Organize team-building activities to foster trust and improve team dynamics, making Joe more comfortable with delegation.\\n- **Delegation Plan:** Create a delegation plan where Joe identifies tasks to delegate weekly and assigns them to appropriate team members.\\n- **Feedback Loop:** Establish a feedback loop for Joe and his team, allowing them to discuss delegated tasks openly and make adjustments as needed.\\n\\n**Accountability:**\\n- Conduct regular check-ins with Joe's manager to review delegation progress and discuss any barriers.\\n- Use team feedback and performance metrics to evaluate the effectiveness of delegation efforts and adjust the plan as necessary.\\n\\n### Overall Support\\n\\n- **Regular Progress Reviews:** Schedule quarterly reviews to assess Joe's overall progress in addressing these weaknesses and modify the plan as required.\\n- **Celebrate Achievements:** Recognize and celebrate Joe's improvements and contributions to motivate continued growth and development.\\n- **Continuous Support:** Ensure ongoing access to resources, mentorship, and any additional support Joe might need as he works on these areas.\\n\\nBy addressing these weaknesses with structured support and resources, Joe can improve his efficiency and contribute more effectively to a balanced team environment.\"}"
      ]
     },
     "execution_count": 96,
     "metadata": {},
     "output_type": "execute_result"
    }
   ],
   "source": [
    "results"
   ]
  },
  {
   "cell_type": "code",
   "execution_count": 98,
   "metadata": {},
   "outputs": [
    {
     "name": "stdout",
     "output_type": "stream",
     "text": [
      "\n",
      "Employee Information:\n",
      "Name: Joe Schmo\n",
      "Position: Software Engineer\n",
      "Date of Review: July 14, 2023\n",
      "\n",
      "Strengths:\n",
      "Joe is a highly skilled software engineer with a deep understanding of programming languages, algorithms, and software development best practices. His technical expertise shines through in his ability to efficiently solve complex problems and deliver high-quality code.\n",
      "\n",
      "One of Joe's greatest strengths is his collaborative nature. He actively engages with cross-functional teams, contributing valuable insights and seeking input from others. His open-mindedness and willingness to learn from colleagues make him a true team player.\n",
      "\n",
      "Joe consistently demonstrates initiative and self-motivation. He takes the lead in seeking out new projects and challenges, and his proactive attitude has led to significant improvements in existing processes and systems. His dedication to self-improvement and growth is commendable.\n",
      "\n",
      "Another notable strength is Joe's adaptability. He has shown great flexibility in handling changing project requirements and learning new technologies. This adaptability allows him to seamlessly transition between different projects and tasks, making him a valuable asset to the team.\n",
      "\n",
      "Joe's problem-solving skills are exceptional. He approaches issues with a logical mindset and consistently finds effective solutions, often thinking outside the box. His ability to break down complex problems into manageable parts is key to his success in resolving issues efficiently.\n",
      "\n",
      "Weaknesses:\n",
      "While Joe possesses numerous strengths, there are a few areas where he could benefit from improvement. One such area is time management. Occasionally, Joe struggles with effectively managing his time, resulting in missed deadlines or the need for additional support to complete tasks on time. Developing better prioritization and time management techniques would greatly enhance his efficiency.\n",
      "\n",
      "Another area for improvement is Joe's written communication skills. While he communicates well verbally, there have been instances where his written documentation lacked clarity, leading to confusion among team members. Focusing on enhancing his written communication abilities will help him effectively convey ideas and instructions.\n",
      "\n",
      "Additionally, Joe tends to take on too many responsibilities and hesitates to delegate tasks to others. This can result in an excessive workload and potential burnout. Encouraging him to delegate tasks appropriately will not only alleviate his own workload but also foster a more balanced and productive team environment.\n",
      "\n"
     ]
    }
   ],
   "source": [
    "print(results['review'])"
   ]
  },
  {
   "cell_type": "code",
   "execution_count": 100,
   "metadata": {},
   "outputs": [
    {
     "name": "stdout",
     "output_type": "stream",
     "text": [
      "Joe Schmo, a Software Engineer, received a performance review on July 14, 2023, highlighting both his strengths and areas for improvement. Joe is recognized for his technical expertise in software development, his collaborative nature, and his initiative and adaptability. He excels in problem-solving and effectively engages with cross-functional teams, often leading to improvements in processes and systems. \n",
      "\n",
      "However, there are a few areas where Joe could enhance his performance. He occasionally struggles with time management, leading to missed deadlines, and his written communication skills sometimes lack clarity. Additionally, Joe tends to take on too many responsibilities without delegating, which can lead to an excessive workload and potential burnout. Improving his time management, written communication, and delegation skills would enhance his efficiency and contribute to a more balanced team environment.\n"
     ]
    }
   ],
   "source": [
    "print(results['review_summary'])"
   ]
  },
  {
   "cell_type": "code",
   "execution_count": 101,
   "metadata": {},
   "outputs": [
    {
     "name": "stdout",
     "output_type": "stream",
     "text": [
      "In the performance review summary, Joe Schmo's key weaknesses are identified as follows:\n",
      "\n",
      "1. **Time Management**: Joe occasionally struggles with managing his time effectively, which has resulted in missed deadlines.\n",
      "\n",
      "2. **Written Communication**: His written communication skills sometimes lack clarity, which may impact the effectiveness of his interactions and documentation.\n",
      "\n",
      "3. **Delegation**: Joe tends to take on too many responsibilities without delegating tasks, leading to an excessive workload and potential burnout. Improving his ability to delegate could help distribute the workload more evenly and prevent overburdening himself.\n"
     ]
    }
   ],
   "source": [
    "print(results['weaknesses'])"
   ]
  },
  {
   "cell_type": "code",
   "execution_count": 102,
   "metadata": {},
   "outputs": [
    {
     "name": "stdout",
     "output_type": "stream",
     "text": [
      "To address and improve Joe Schmo's identified weaknesses, a personalized development plan can be created. This plan will include specific actions, resources, and timelines to guide Joe's growth in these areas. Here is a detailed plan for each of the three key areas:\n",
      "\n",
      "### 1. Time Management\n",
      "**Objective**: Improve Joe's ability to manage his time effectively to meet deadlines consistently.\n",
      "\n",
      "**Actions**:\n",
      "- **Prioritization Training**: Enroll Joe in a time management workshop or online course focusing on prioritization techniques (e.g., Eisenhower Box, ABC prioritization).\n",
      "- **Daily Planning**: Encourage Joe to spend 10-15 minutes at the start of each day planning and prioritizing his tasks. He can use tools like digital calendars or planning apps (e.g., Trello, Todoist).\n",
      "- **Pomodoro Technique**: Introduce the Pomodoro Technique to help Joe maintain focus and efficiency during work hours. This involves working in focused sprints of 25 minutes followed by a 5-minute break.\n",
      "- **Weekly Review**: Set up a weekly meeting with Joe and his manager to review the week's accomplishments, reflect on any missed deadlines, and adjust plans for the following week.\n",
      "\n",
      "**Timeline**: Begin immediately with a review of progress after 3 months.\n",
      "\n",
      "### 2. Written Communication\n",
      "**Objective**: Enhance Joe's clarity and effectiveness in written communication.\n",
      "\n",
      "**Actions**:\n",
      "- **Writing Workshops**: Recommend Joe attend workshops or online courses on business writing and effective communication. LinkedIn Learning and Coursera offer relevant courses.\n",
      "- **Peer Review**: Implement a system where Joe can have a colleague review his important written communications before sending them out. This will provide him with immediate feedback and suggestions for improvement.\n",
      "- **Writing Tools**: Encourage the use of tools like Grammarly or Hemingway App to help Joe refine his writing for clarity and conciseness.\n",
      "- **Reading and Feedback**: Set a goal for Joe to read one article or book chapter weekly related to effective communication and discuss key takeaways with his team.\n",
      "\n",
      "**Timeline**: Start with an initial workshop within the first month and ongoing feedback sessions bi-weekly.\n",
      "\n",
      "### 3. Delegation\n",
      "**Objective**: Develop Joe's skills in delegation to better manage his workload and prevent burnout.\n",
      "\n",
      "**Actions**:\n",
      "- **Delegation Training**: Provide Joe with training on effective delegation strategies, focusing on identifying tasks that can be delegated and how to entrust these tasks to team members.\n",
      "- **Mentorship**: Pair Joe with a mentor who is proficient in delegation to provide guidance and share best practices.\n",
      "- **Task Analysis**: Have Joe perform a task analysis to identify which tasks can be delegated and to whom, based on team members' skills and workloads.\n",
      "- **Feedback Loop**: Encourage Joe to set up a feedback loop with team members to ensure delegated tasks are completed successfully and to address any issues that arise.\n",
      "\n",
      "**Timeline**: Begin with training in the first month and establish mentorship within the next 2 months, with regular check-ins every month.\n",
      "\n",
      "### General Recommendations\n",
      "- **Regular Check-ins**: Schedule regular one-on-one meetings with Joe to discuss his progress, challenges, and any support he might need.\n",
      "- **SMART Goals**: Encourage Joe to set specific, measurable, achievable, relevant, and time-bound goals for each area of improvement.\n",
      "- **Reflection and Adaptation**: Encourage Joe to reflect on his progress regularly and adapt the plan as necessary based on his experiences and feedback.\n",
      "\n",
      "By following this personalized development plan, Joe Schmo can systematically address his weaknesses and enhance his performance. Regular support and feedback from his manager and peers will be crucial for sustained improvement.\n"
     ]
    }
   ],
   "source": [
    "print(results['final_plan'])"
   ]
  }
 ],
 "metadata": {
  "kernelspec": {
   "display_name": "genai",
   "language": "python",
   "name": "python3"
  },
  "language_info": {
   "codemirror_mode": {
    "name": "ipython",
    "version": 3
   },
   "file_extension": ".py",
   "mimetype": "text/x-python",
   "name": "python",
   "nbconvert_exporter": "python",
   "pygments_lexer": "ipython3",
   "version": "3.11.9"
  }
 },
 "nbformat": 4,
 "nbformat_minor": 2
}
