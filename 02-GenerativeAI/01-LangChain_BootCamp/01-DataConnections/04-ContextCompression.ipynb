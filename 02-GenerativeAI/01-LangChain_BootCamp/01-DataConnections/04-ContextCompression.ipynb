{
 "cells": [
  {
   "cell_type": "markdown",
   "metadata": {},
   "source": [
    "# Context Compression\n",
    "\n",
    "In LangChain, the ContextualCompressionRetriever is a specialized retriever that aims to improve the efficiency and effectiveness of document retrieval by compressing the retrieved documents before passing them to downstream components (like LLMs)."
   ]
  },
  {
   "cell_type": "code",
   "execution_count": 49,
   "metadata": {},
   "outputs": [],
   "source": [
    "import os\n",
    "from langchain_chroma import Chroma\n",
    "from langchain_openai import OpenAIEmbeddings\n",
    "from langchain_openai import ChatOpenAI\n",
    "from langchain.retrievers import ContextualCompressionRetriever\n",
    "from langchain.retrievers.document_compressors import LLMChainExtractor"
   ]
  },
  {
   "cell_type": "code",
   "execution_count": 50,
   "metadata": {},
   "outputs": [],
   "source": [
    "# Connect to an embedded chroma data store\n",
    "db_connection = Chroma(persist_directory='some_data/speech_embedding_db', embedding_function=OpenAIEmbeddings(model=\"text-embedding-3-small\"))"
   ]
  },
  {
   "cell_type": "code",
   "execution_count": 51,
   "metadata": {},
   "outputs": [],
   "source": [
    "# contextual compression\n",
    "llm = ChatOpenAI(temperature=0, model='gpt-4o', api_key=os.getenv(\"OPENAI_API_KEY\"))\n",
    "compressor = LLMChainExtractor.from_llm(llm=llm)"
   ]
  },
  {
   "cell_type": "code",
   "execution_count": 52,
   "metadata": {},
   "outputs": [],
   "source": [
    "compresson_retriever = ContextualCompressionRetriever(base_compressor=compressor, base_retriever=db_connection.as_retriever())"
   ]
  },
  {
   "cell_type": "code",
   "execution_count": 53,
   "metadata": {},
   "outputs": [],
   "source": [
    "retriever = db_connection.as_retriever(search_kwargs={'k':1})\n",
    "\n",
    "docs = retriever.invoke(\"Please provide a short Summary\")"
   ]
  },
  {
   "cell_type": "code",
   "execution_count": 54,
   "metadata": {},
   "outputs": [
    {
     "name": "stdout",
     "output_type": "stream",
     "text": [
      "I submit a statement of the proceedings of commissioners, which shows the progress that has been made in the enterprise of constructing the Pacific Railroad. And this suggests the earliest completion of this road, and also the favorable action of Congress upon the projects now pending before them for enlarging the capacities of the great canals in New York and Illinois, as being of vital and rapidly increasing importance to the whole nation, and especially to the vast interior region hereinafter to be noticed at some greater length. I purpose having prepared and laid before you at an early day some interesting and valuable statistical information upon this subject. The military and commercial importance of enlarging the Illinois and Michigan Canal and improving the Illinois River is presented in the report of Colonel Webster to the Secretary of War, and now transmitted to Congress. I respectfully ask attention to it.\n",
      "\n",
      "To carry out the provisions of the act of Congress of the 15th of May last, I have caused the Department of Agriculture of the United States to be organized.\n",
      "\n",
      "The Commissioner informs me that within the period of a few months this Department has established an extensive system of correspondence and exchanges, both at home and abroad, which promises to effect highly beneficial results in the development of a correct knowledge of recent improvements in agriculture, in the introduction of new products, and in the collection of the agricultural statistics of the different States.\n",
      "\n",
      "Also, that it will soon be prepared to distribute largely seeds, cereals, plants, and cuttings, and has already published and liberally diffused much valuable information in anticipation of a more elaborate report, which will in due time be furnished, embracing some valuable tests in chemical science now in progress in the laboratory.\n",
      "\n",
      "The creation of this Department was for the more immediate benefit of a large class of our most valuable citizens, and I trust that the liberal basis upon which it has been organized will not only meet your approbation, but that it will realize at no distant day all the fondest anticipations of its most sanguine friends and become the fruitful source of advantage to all our people.\n",
      "\n",
      "On the 22d day of September last a proclamation was issued by the Executive, a copy of which is herewith submitted. In accordance with the purpose expressed in the second paragraph of that paper, I now respectfully recall your attention to what may be called \"compensated emancipation.\"\n"
     ]
    }
   ],
   "source": [
    "print(docs[0].page_content)"
   ]
  },
  {
   "cell_type": "code",
   "execution_count": null,
   "metadata": {},
   "outputs": [],
   "source": []
  }
 ],
 "metadata": {
  "kernelspec": {
   "display_name": "genai",
   "language": "python",
   "name": "python3"
  },
  "language_info": {
   "codemirror_mode": {
    "name": "ipython",
    "version": 3
   },
   "file_extension": ".py",
   "mimetype": "text/x-python",
   "name": "python",
   "nbconvert_exporter": "python",
   "pygments_lexer": "ipython3",
   "version": "3.11.9"
  }
 },
 "nbformat": 4,
 "nbformat_minor": 2
}
