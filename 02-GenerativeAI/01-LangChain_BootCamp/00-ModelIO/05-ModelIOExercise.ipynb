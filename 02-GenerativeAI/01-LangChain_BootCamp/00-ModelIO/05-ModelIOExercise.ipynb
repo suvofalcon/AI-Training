{
 "cells": [
  {
   "cell_type": "markdown",
   "metadata": {},
   "source": [
    "# Model IO Exercise Solution\n",
    "\n",
    "The purpose of this exercise is to test your understanding of building out Model IO systems. You will also hopefully notice the need to chain responses together, which we will cover later in this course!"
   ]
  },
  {
   "cell_type": "markdown",
   "metadata": {},
   "source": [
    "## History Quiz\n",
    "\n",
    "Our main goal is to use LangChain and Python to create a very simple class with a few methods for:\n",
    "\n",
    "- Writing a historical question that has a date as the correct answer\n",
    "- Getting the correct answer from LLM\n",
    "- Getting a Human user's best guess at at correct answer\n",
    "- Checking/reporting the difference between the correct answer and the user answer"
   ]
  },
  {
   "cell_type": "code",
   "execution_count": 1,
   "metadata": {},
   "outputs": [],
   "source": [
    "import os\n",
    "from datetime import datetime\n",
    "from langchain_openai import ChatOpenAI\n",
    "from langchain.output_parsers import DatetimeOutputParser\n",
    "from langchain.prompts import PromptTemplate, ChatPromptTemplate, SystemMessagePromptTemplate, AIMessagePromptTemplate, HumanMessagePromptTemplate\n",
    "\n",
    "api_key = os.getenv(\"OPENAI_API_KEY\")"
   ]
  },
  {
   "cell_type": "code",
   "execution_count": 2,
   "metadata": {},
   "outputs": [],
   "source": [
    "class HistoryQuiz():\n",
    "    \n",
    "    def create_history_question(self,topic):\n",
    "        '''\n",
    "        This method should output a historical question about the topic that has a date as the correct answer.\n",
    "        For example:\n",
    "        \n",
    "            \"On what date did World War 2 end?\"\n",
    "            \n",
    "        '''\n",
    "        # PART ONE: SYSTEM\n",
    "        system_template=\"You write single quiz questions about {topic}. You only return the quiz question.\"\n",
    "        system_message_prompt = SystemMessagePromptTemplate.from_template(system_template)\n",
    "        # PART TWO: HUMAN REQUEST\n",
    "        human_template=\"{question_request}\"\n",
    "        human_message_prompt = HumanMessagePromptTemplate.from_template(human_template)\n",
    "        # PART THREE: COMPILE TO CHAT\n",
    "        chat_prompt = ChatPromptTemplate.from_messages([system_message_prompt, human_message_prompt])\n",
    "        # PART FOUR: INSERT VARIABLES\n",
    "        request = chat_prompt.format_prompt(topic=topic,question_request=\"Give me a quiz question where the correct answer is a specific date.\").to_messages()\n",
    "        # PART FIVE: CHAT REQUEST\n",
    "        chat = ChatOpenAI(openai_api_key=api_key)\n",
    "        result = chat(request)\n",
    "        \n",
    "        \n",
    "        return result.content\n",
    "    \n",
    "    def get_AI_answer(self,question):\n",
    "        '''\n",
    "        This method should get the answer to the historical question from the method above.\n",
    "        Note: This answer must be in datetime format! Use DateTimeOutputParser to confirm!\n",
    "        \n",
    "        September 2, 1945 --> datetime.datetime(1945, 9, 2, 0, 0)\n",
    "        '''\n",
    "        # Datetime Parser\n",
    "        output_parser = DatetimeOutputParser()\n",
    "        \n",
    "        # SYSTEM Template\n",
    "        system_template = \"You answer quiz questions with just a date.\"\n",
    "        system_message_prompt = SystemMessagePromptTemplate.from_template(system_template)\n",
    "        \n",
    "        \n",
    "        # HUMAN Template\n",
    "        human_template = \"\"\"Answer the user's question:\n",
    "        \n",
    "        {question}\n",
    "        \n",
    "        {format_instructions}\"\"\"\n",
    "        human_message_prompt = HumanMessagePromptTemplate.from_template(human_template)\n",
    "        \n",
    "        # Compile ChatTemplate\n",
    "        chat_prompt = ChatPromptTemplate.from_messages([system_message_prompt,human_message_prompt])\n",
    "        \n",
    "        # Insert question and format instructions\n",
    "        \n",
    "        request = chat_prompt.format_prompt(question=question,\n",
    "                                            format_instructions=output_parser.get_format_instructions()).to_messages()\n",
    "        \n",
    "        \n",
    "        \n",
    "        # Chat Bot\n",
    "        chat = ChatOpenAI(openai_api_key=api_key)\n",
    "        result = chat(request)\n",
    "        # Format Request to datetime\n",
    "        correct_datetime = output_parser.parse(result.content)\n",
    "        return correct_datetime\n",
    "    \n",
    "    def get_user_answer(self,question):\n",
    "        '''\n",
    "        This method should grab a user answer and convert it to datetime. It should collect a Year, Month, and Day.\n",
    "        You can just use input() for this.\n",
    "        '''\n",
    "        print(question)\n",
    "        \n",
    "\n",
    "        # Get the year, month, and day from the user\n",
    "        year = int(input(\"Enter the year: \"))\n",
    "        month = int(input(\"Enter the month (1-12): \"))\n",
    "        day = int(input(\"Enter the day (1-31): \"))\n",
    "\n",
    "        # Create a datetime object\n",
    "        user_datetime = datetime(year, month, day)\n",
    "\n",
    "        \n",
    "        return user_datetime\n",
    "        \n",
    "        \n",
    "    def check_user_answer(self,user_answer,ai_answer):\n",
    "        '''\n",
    "        Should check the user answer against the AI answer and return the difference between them\n",
    "        '''\n",
    "        \n",
    "        # Calculate the difference between the dates\n",
    "        difference = user_answer - ai_answer\n",
    "\n",
    "        # Format the difference into a string\n",
    "        formatted_difference = str(difference)\n",
    "\n",
    "        # Return the string reporting the difference\n",
    "        print(\"The difference between the dates is:\", formatted_difference)\n"
   ]
  },
  {
   "cell_type": "code",
   "execution_count": 3,
   "metadata": {},
   "outputs": [],
   "source": [
    "quiz_bot = HistoryQuiz()"
   ]
  },
  {
   "cell_type": "code",
   "execution_count": 4,
   "metadata": {},
   "outputs": [
    {
     "name": "stderr",
     "output_type": "stream",
     "text": [
      "/var/folders/ny/r3wsv_bd0bs1_vcy4pb5q9pr0000gn/T/ipykernel_94090/583391454.py:23: LangChainDeprecationWarning: The method `BaseChatModel.__call__` was deprecated in langchain-core 0.1.7 and will be removed in 1.0. Use :meth:`~invoke` instead.\n",
      "  result = chat(request)\n"
     ]
    },
    {
     "data": {
      "text/plain": [
       "'On what date did the United States enter World War II following the attack on Pearl Harbor?'"
      ]
     },
     "execution_count": 4,
     "metadata": {},
     "output_type": "execute_result"
    }
   ],
   "source": [
    "question = quiz_bot.create_history_question(topic='World War 2')\n",
    "question"
   ]
  },
  {
   "cell_type": "code",
   "execution_count": 5,
   "metadata": {},
   "outputs": [
    {
     "data": {
      "text/plain": [
       "datetime.datetime(1941, 12, 7, 0, 0)"
      ]
     },
     "execution_count": 5,
     "metadata": {},
     "output_type": "execute_result"
    }
   ],
   "source": [
    "ai_answer = quiz_bot.get_AI_answer(question)\n",
    "ai_answer"
   ]
  },
  {
   "cell_type": "code",
   "execution_count": 9,
   "metadata": {},
   "outputs": [
    {
     "name": "stdout",
     "output_type": "stream",
     "text": [
      "On what date did the United States enter World War II following the attack on Pearl Harbor?\n"
     ]
    }
   ],
   "source": [
    "user_answer = quiz_bot.get_user_answer(question)"
   ]
  },
  {
   "cell_type": "code",
   "execution_count": 10,
   "metadata": {},
   "outputs": [
    {
     "data": {
      "text/plain": [
       "datetime.datetime(1914, 6, 20, 0, 0)"
      ]
     },
     "execution_count": 10,
     "metadata": {},
     "output_type": "execute_result"
    }
   ],
   "source": [
    "user_answer"
   ]
  },
  {
   "cell_type": "code",
   "execution_count": 11,
   "metadata": {},
   "outputs": [
    {
     "name": "stdout",
     "output_type": "stream",
     "text": [
      "The difference between the dates is: -10032 days, 0:00:00\n"
     ]
    }
   ],
   "source": [
    "quiz_bot.check_user_answer(user_answer,ai_answer)"
   ]
  }
 ],
 "metadata": {
  "kernelspec": {
   "display_name": "genai",
   "language": "python",
   "name": "python3"
  },
  "language_info": {
   "codemirror_mode": {
    "name": "ipython",
    "version": 3
   },
   "file_extension": ".py",
   "mimetype": "text/x-python",
   "name": "python",
   "nbconvert_exporter": "python",
   "pygments_lexer": "ipython3",
   "version": "3.11.9"
  }
 },
 "nbformat": 4,
 "nbformat_minor": 2
}
