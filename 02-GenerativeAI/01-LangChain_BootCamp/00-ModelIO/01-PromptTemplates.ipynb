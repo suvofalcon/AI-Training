{
 "cells": [
  {
   "cell_type": "markdown",
   "metadata": {},
   "source": [
    "# Understanding Prompt Templates"
   ]
  },
  {
   "cell_type": "code",
   "execution_count": 3,
   "metadata": {},
   "outputs": [],
   "source": [
    "# Imports\n",
    "import os\n",
    "from langchain_openai import ChatOpenAI\n",
    "from langchain.schema import AIMessage, SystemMessage, HumanMessage\n",
    "from langchain import PromptTemplate\n",
    "from langchain.prompts import ChatPromptTemplate, SystemMessagePromptTemplate, AIMessagePromptTemplate, HumanMessagePromptTemplate\n",
    "\n",
    "api_key = os.getenv(\"OPENAI_API_KEY\")"
   ]
  },
  {
   "cell_type": "markdown",
   "metadata": {},
   "source": [
    "### With No Input Variables"
   ]
  },
  {
   "cell_type": "code",
   "execution_count": 23,
   "metadata": {},
   "outputs": [
    {
     "data": {
      "text/plain": [
       "'Tell me a fact'"
      ]
     },
     "execution_count": 23,
     "metadata": {},
     "output_type": "execute_result"
    }
   ],
   "source": [
    "# An example of Prompt with no input variables\n",
    "no_input_prompt = PromptTemplate(input_variables=[], template=\"Tell me a fact\")\n",
    "no_input_prompt.format()"
   ]
  },
  {
   "cell_type": "markdown",
   "metadata": {},
   "source": [
    "### With a Single Input Variable"
   ]
  },
  {
   "cell_type": "code",
   "execution_count": 24,
   "metadata": {},
   "outputs": [
    {
     "data": {
      "text/plain": [
       "'Tell me a fact about Mars'"
      ]
     },
     "execution_count": 24,
     "metadata": {},
     "output_type": "execute_result"
    }
   ],
   "source": [
    "one_input_prompt = PromptTemplate(input_variables=[\"topic\"], template=\"Tell me a fact about {topic}\")\n",
    "one_input_prompt.format(topic=\"Mars\")"
   ]
  },
  {
   "cell_type": "markdown",
   "metadata": {},
   "source": [
    "### Multiple Input Variables"
   ]
  },
  {
   "cell_type": "code",
   "execution_count": 25,
   "metadata": {},
   "outputs": [
    {
     "data": {
      "text/plain": [
       "'Tell me about a fact about Mars for a student at 8th grade level'"
      ]
     },
     "execution_count": 25,
     "metadata": {},
     "output_type": "execute_result"
    }
   ],
   "source": [
    "multiple_input_prompt = PromptTemplate(input_variables=[\"topic\", \"level\"],\n",
    "                                       template=\"Tell me about a fact about {topic} for a student at {level} level\")\n",
    "multiple_input_prompt.format(topic='Mars', level='8th grade')"
   ]
  },
  {
   "cell_type": "markdown",
   "metadata": {},
   "source": [
    "### Chat Model Templates\n",
    "\n",
    "Chat models require a list of chat messages called a prompt, which is different from a raw string that you would input into a language model. Each message in the prompt is associated with a role, such as AI, human, or system.\n",
    "For instance, when using the OpenAI Chat Completion API, a chat message can be assigned the role of AI, human, or system. The model is designed to pay closer attention to instructions provided in system chat messages.\n",
    "\n",
    "To simplify the process of constructing and working with prompts, LangChain offers various prompt templates. It is highly recommended to utilize these chat-related prompt templates instead of PromptTemplate when interacting with chat models. This will allow you to fully harness the potential of the underlying chat model and enhance your experience.\n",
    "\n",
    "We will favor these models in the course due to upcoming changes in the OpenAI ecosystem where chat agents will be favored over text completion models."
   ]
  },
  {
   "cell_type": "code",
   "execution_count": 26,
   "metadata": {},
   "outputs": [
    {
     "data": {
      "text/plain": [
       "['cooking_time', 'dietary_preference']"
      ]
     },
     "execution_count": 26,
     "metadata": {},
     "output_type": "execute_result"
    }
   ],
   "source": [
    "system_template = \"You are an AI recipe Assistant that specialises in {dietary_preference} dishes that can prepared in {cooking_time}\" \n",
    "system_message_prompt = SystemMessagePromptTemplate.from_template(system_template)\n",
    "\n",
    "# to check the input variables for the prompt template\n",
    "system_message_prompt.input_variables"
   ]
  },
  {
   "cell_type": "code",
   "execution_count": 27,
   "metadata": {},
   "outputs": [
    {
     "data": {
      "text/plain": [
       "['recipe_request']"
      ]
     },
     "execution_count": 27,
     "metadata": {},
     "output_type": "execute_result"
    }
   ],
   "source": [
    "human_template = \"{recipe_request}\"\n",
    "human_message_prompt = HumanMessagePromptTemplate.from_template(human_template)\n",
    "human_message_prompt.input_variables"
   ]
  },
  {
   "cell_type": "code",
   "execution_count": 28,
   "metadata": {},
   "outputs": [
    {
     "data": {
      "text/plain": [
       "['cooking_time', 'dietary_preference', 'recipe_request']"
      ]
     },
     "execution_count": 28,
     "metadata": {},
     "output_type": "execute_result"
    }
   ],
   "source": [
    "chat_prompt = ChatPromptTemplate.from_messages([system_message_prompt, human_message_prompt])\n",
    "chat_prompt.input_variables"
   ]
  },
  {
   "cell_type": "code",
   "execution_count": 29,
   "metadata": {},
   "outputs": [
    {
     "data": {
      "text/plain": [
       "[SystemMessage(content='You are an AI recipe Assistant that specialises in Non-Veg dishes that can prepared in 15 min', additional_kwargs={}, response_metadata={}),\n",
       " HumanMessage(content='chicken salad', additional_kwargs={}, response_metadata={})]"
      ]
     },
     "execution_count": 29,
     "metadata": {},
     "output_type": "execute_result"
    }
   ],
   "source": [
    "# Now we can get a chat completion from the formatted messages\n",
    "chat_prompt.format_prompt(cooking_time='15 min', dietary_preference='Non-Veg', recipe_request='chicken salad').to_messages()"
   ]
  },
  {
   "cell_type": "markdown",
   "metadata": {},
   "source": [
    "#### Now we make the LLM Call"
   ]
  },
  {
   "cell_type": "code",
   "execution_count": 30,
   "metadata": {},
   "outputs": [],
   "source": [
    "chat = ChatOpenAI(openai_api_key = api_key)\n",
    "\n",
    "request = chat_prompt.format_prompt(cooking_time='15 min', dietary_preference='Non-Veg', recipe_request='chicken salad').to_messages()\n",
    "\n",
    "result = chat(request)"
   ]
  },
  {
   "cell_type": "code",
   "execution_count": 31,
   "metadata": {},
   "outputs": [
    {
     "name": "stdout",
     "output_type": "stream",
     "text": [
      "Here is a quick and easy recipe for a delicious chicken salad that can be prepared in just 15 minutes:\n",
      "\n",
      "Ingredients:\n",
      "- 2 cups cooked chicken, shredded or diced\n",
      "- 1/2 cup mayonnaise\n",
      "- 1/4 cup chopped celery\n",
      "- 1/4 cup chopped red onion\n",
      "- 1/4 cup chopped pickles\n",
      "- 1 tablespoon lemon juice\n",
      "- Salt and pepper to taste\n",
      "- Lettuce leaves for serving\n",
      "\n",
      "Instructions:\n",
      "1. In a large bowl, combine the cooked chicken, mayonnaise, celery, red onion, pickles, and lemon juice. Mix well to combine.\n",
      "2. Season with salt and pepper to taste and mix again.\n",
      "3. Serve the chicken salad on a bed of lettuce leaves or as a sandwich filling.\n",
      "\n",
      "Enjoy your quick and tasty chicken salad!\n"
     ]
    }
   ],
   "source": [
    "print(result.content)"
   ]
  },
  {
   "cell_type": "markdown",
   "metadata": {},
   "source": [
    "#### One More Example - All Encapsulated within a function"
   ]
  },
  {
   "cell_type": "code",
   "execution_count": 4,
   "metadata": {},
   "outputs": [],
   "source": [
    "def travel_idea (interest, duration):\n",
    "    '''\n",
    "    interest : destination where you want to go\n",
    "    durartion : no of days you want your itinerary to be\n",
    "    '''\n",
    "\n",
    "    # SYSTEM\n",
    "    system_template = \"You are an AI Travel Agent that helps people to arrange itinerary for the destination {interest} for the {duration} days\"\n",
    "    system_message_prompt = SystemMessagePromptTemplate.from_template(system_template)\n",
    "    # HUMAN REQUEST\n",
    "    human_template = \"{human_request}\"\n",
    "    human_message_prompt = HumanMessagePromptTemplate.from_template(human_template)\n",
    "    # COMPILE TO CHAT\n",
    "    chat_prompt = ChatPromptTemplate.from_messages([system_message_prompt, human_message_prompt])\n",
    "    # INSERT VARIABLES\n",
    "    request = chat_prompt.format_prompt(interest=interest, duration=duration, human_request=\"Please give a detailed day wise vacation itinerary for\")\n",
    "    # CHAT REQUEST\n",
    "    chat = ChatOpenAI(openai_api_key=api_key)\n",
    "    result = chat(request)\n",
    "    return result.content"
   ]
  },
  {
   "cell_type": "code",
   "execution_count": 6,
   "metadata": {},
   "outputs": [
    {
     "name": "stdout",
     "output_type": "stream",
     "text": [
      "Day 1:\n",
      "- Arrival in Manali\n",
      "- Check into your hotel and freshen up\n",
      "- Visit Hadimba Temple, a beautiful wooden temple surrounded by cedar forests\n",
      "- Explore the Mall Road for shopping and dining options\n",
      "- Overnight stay in Manali\n",
      "\n",
      "Day 2:\n",
      "- Breakfast at the hotel\n",
      "- Drive to Solang Valley for adventure activities like paragliding, zorbing, and skiing (seasonal)\n",
      "- Visit the Rohtang Pass (subject to availability) for scenic views of the Himalayas\n",
      "- Return to Manali and relax at your hotel\n",
      "- Overnight stay in Manali\n",
      "\n",
      "Day 3:\n",
      "- Breakfast at the hotel\n",
      "- Visit the Naggar Castle, a historic royal palace with stunning architecture and views\n",
      "- Explore the Naggar Art Gallery to admire local Himachali art\n",
      "- Visit the Jana Waterfall for a peaceful nature walk\n",
      "- Return to Manali and relax in the evening\n",
      "- Overnight stay in Manali\n",
      "\n",
      "Day 4:\n",
      "- Breakfast at the hotel\n",
      "- Drive to the charming village of Old Manali\n",
      "- Visit the Manu Temple dedicated to the sage Manu\n",
      "- Explore the cafes, shops, and scenic views in Old Manali\n",
      "- Optional: Visit Vashisht Hot Springs for a relaxing dip\n",
      "- Return to Manali and enjoy the evening at leisure\n",
      "- Overnight stay in Manali\n",
      "\n",
      "Day 5:\n",
      "- Breakfast at the hotel\n",
      "- Check out and depart for your onward journey\n",
      "- Optional: Visit the Tibetan Monastery in Manali for some peaceful moments\n",
      "- End of the itinerary\n",
      "\n",
      "This itinerary is just a suggestion and can be customized based on your preferences and interests. Enjoy your trip to Manali!\n"
     ]
    }
   ],
   "source": [
    "print(travel_idea('Manali', 5))"
   ]
  },
  {
   "cell_type": "code",
   "execution_count": null,
   "metadata": {},
   "outputs": [],
   "source": []
  }
 ],
 "metadata": {
  "kernelspec": {
   "display_name": "genai",
   "language": "python",
   "name": "python3"
  },
  "language_info": {
   "codemirror_mode": {
    "name": "ipython",
    "version": 3
   },
   "file_extension": ".py",
   "mimetype": "text/x-python",
   "name": "python",
   "nbconvert_exporter": "python",
   "pygments_lexer": "ipython3",
   "version": "3.11.9"
  }
 },
 "nbformat": 4,
 "nbformat_minor": 2
}
