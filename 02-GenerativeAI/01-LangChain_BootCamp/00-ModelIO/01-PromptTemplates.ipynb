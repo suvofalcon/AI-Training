{
 "cells": [
  {
   "cell_type": "markdown",
   "metadata": {},
   "source": [
    "# Understanding Prompt Templates"
   ]
  },
  {
   "cell_type": "code",
   "execution_count": 1,
   "metadata": {},
   "outputs": [],
   "source": [
    "# Imports\n",
    "import os\n",
    "from langchain_openai import ChatOpenAI\n",
    "from langchain.schema import AIMessage, SystemMessage, HumanMessage\n",
    "from langchain import PromptTemplate\n",
    "from langchain.prompts import ChatPromptTemplate, SystemMessagePromptTemplate, AIMessagePromptTemplate, HumanMessagePromptTemplate\n",
    "\n",
    "api_key = os.getenv(\"OPENAI_API_KEY\")"
   ]
  },
  {
   "cell_type": "markdown",
   "metadata": {},
   "source": [
    "### With No Input Variables"
   ]
  },
  {
   "cell_type": "code",
   "execution_count": 2,
   "metadata": {},
   "outputs": [
    {
     "data": {
      "text/plain": [
       "'Tell me a fact'"
      ]
     },
     "execution_count": 2,
     "metadata": {},
     "output_type": "execute_result"
    }
   ],
   "source": [
    "# An example of Prompt with no input variables\n",
    "no_input_prompt = PromptTemplate(input_variables=[], template=\"Tell me a fact\")\n",
    "no_input_prompt.format()"
   ]
  },
  {
   "cell_type": "markdown",
   "metadata": {},
   "source": [
    "### With a Single Input Variable"
   ]
  },
  {
   "cell_type": "code",
   "execution_count": 3,
   "metadata": {},
   "outputs": [
    {
     "data": {
      "text/plain": [
       "'Tell me a fact about Mars'"
      ]
     },
     "execution_count": 3,
     "metadata": {},
     "output_type": "execute_result"
    }
   ],
   "source": [
    "one_input_prompt = PromptTemplate(input_variables=[\"topic\"], template=\"Tell me a fact about {topic}\")\n",
    "one_input_prompt.format(topic=\"Mars\")"
   ]
  },
  {
   "cell_type": "markdown",
   "metadata": {},
   "source": [
    "### Multiple Input Variables"
   ]
  },
  {
   "cell_type": "code",
   "execution_count": 4,
   "metadata": {},
   "outputs": [
    {
     "data": {
      "text/plain": [
       "'Tell me about a fact about Mars for a student at 8th grade level'"
      ]
     },
     "execution_count": 4,
     "metadata": {},
     "output_type": "execute_result"
    }
   ],
   "source": [
    "multiple_input_prompt = PromptTemplate(input_variables=[\"topic\", \"level\"],\n",
    "                                       template=\"Tell me about a fact about {topic} for a student at {level} level\")\n",
    "multiple_input_prompt.format(topic='Mars', level='8th grade')"
   ]
  },
  {
   "cell_type": "markdown",
   "metadata": {},
   "source": [
    "### Chat Model Templates\n",
    "\n",
    "Chat models require a list of chat messages called a prompt, which is different from a raw string that you would input into a language model. Each message in the prompt is associated with a role, such as AI, human, or system.\n",
    "For instance, when using the OpenAI Chat Completion API, a chat message can be assigned the role of AI, human, or system. The model is designed to pay closer attention to instructions provided in system chat messages.\n",
    "\n",
    "To simplify the process of constructing and working with prompts, LangChain offers various prompt templates. It is highly recommended to utilize these chat-related prompt templates instead of PromptTemplate when interacting with chat models. This will allow you to fully harness the potential of the underlying chat model and enhance your experience.\n",
    "\n",
    "We will favor these models in the course due to upcoming changes in the OpenAI ecosystem where chat agents will be favored over text completion models."
   ]
  },
  {
   "cell_type": "code",
   "execution_count": 5,
   "metadata": {},
   "outputs": [
    {
     "data": {
      "text/plain": [
       "['cooking_time', 'dietary_preference']"
      ]
     },
     "execution_count": 5,
     "metadata": {},
     "output_type": "execute_result"
    }
   ],
   "source": [
    "system_template = \"You are an AI recipe Assistant that specialises in {dietary_preference} dishes that can prepared in {cooking_time}\" \n",
    "system_message_prompt = SystemMessagePromptTemplate.from_template(system_template)\n",
    "\n",
    "# to check the input variables for the prompt template\n",
    "system_message_prompt.input_variables"
   ]
  },
  {
   "cell_type": "code",
   "execution_count": 6,
   "metadata": {},
   "outputs": [
    {
     "data": {
      "text/plain": [
       "['recipe_request']"
      ]
     },
     "execution_count": 6,
     "metadata": {},
     "output_type": "execute_result"
    }
   ],
   "source": [
    "human_template = \"{recipe_request}\"\n",
    "human_message_prompt = HumanMessagePromptTemplate.from_template(human_template)\n",
    "human_message_prompt.input_variables"
   ]
  },
  {
   "cell_type": "code",
   "execution_count": 7,
   "metadata": {},
   "outputs": [
    {
     "data": {
      "text/plain": [
       "['cooking_time', 'dietary_preference', 'recipe_request']"
      ]
     },
     "execution_count": 7,
     "metadata": {},
     "output_type": "execute_result"
    }
   ],
   "source": [
    "chat_prompt = ChatPromptTemplate.from_messages([system_message_prompt, human_message_prompt])\n",
    "chat_prompt.input_variables"
   ]
  },
  {
   "cell_type": "code",
   "execution_count": 8,
   "metadata": {},
   "outputs": [
    {
     "data": {
      "text/plain": [
       "[SystemMessage(content='You are an AI recipe Assistant that specialises in Non-Veg dishes that can prepared in 15 min', additional_kwargs={}, response_metadata={}),\n",
       " HumanMessage(content='chicken salad', additional_kwargs={}, response_metadata={})]"
      ]
     },
     "execution_count": 8,
     "metadata": {},
     "output_type": "execute_result"
    }
   ],
   "source": [
    "# Now we can get a chat completion from the formatted messages\n",
    "chat_prompt.format_prompt(cooking_time='15 min', dietary_preference='Non-Veg', recipe_request='chicken salad').to_messages()"
   ]
  },
  {
   "cell_type": "markdown",
   "metadata": {},
   "source": [
    "#### Now we make the LLM Call"
   ]
  },
  {
   "cell_type": "code",
   "execution_count": 9,
   "metadata": {},
   "outputs": [
    {
     "name": "stderr",
     "output_type": "stream",
     "text": [
      "/var/folders/ny/r3wsv_bd0bs1_vcy4pb5q9pr0000gn/T/ipykernel_93450/1560911232.py:5: LangChainDeprecationWarning: The method `BaseChatModel.__call__` was deprecated in langchain-core 0.1.7 and will be removed in 1.0. Use :meth:`~invoke` instead.\n",
      "  result = chat(request)\n"
     ]
    }
   ],
   "source": [
    "chat = ChatOpenAI(openai_api_key = api_key)\n",
    "\n",
    "request = chat_prompt.format_prompt(cooking_time='15 min', dietary_preference='Non-Veg', recipe_request='chicken salad').to_messages()\n",
    "\n",
    "result = chat(request)"
   ]
  },
  {
   "cell_type": "code",
   "execution_count": 10,
   "metadata": {},
   "outputs": [
    {
     "name": "stdout",
     "output_type": "stream",
     "text": [
      "Here is a quick and easy recipe for a delicious Chicken Salad that can be prepared in 15 minutes:\n",
      "\n",
      "Ingredients:\n",
      "- 2 cups cooked and shredded chicken\n",
      "- 1/2 cup mayonnaise\n",
      "- 1/4 cup chopped celery\n",
      "- 1/4 cup chopped red onion\n",
      "- 1/4 cup chopped pickles\n",
      "- 1 tablespoon Dijon mustard\n",
      "- Salt and pepper to taste\n",
      "\n",
      "Instructions:\n",
      "1. In a large mixing bowl, combine the shredded chicken, mayonnaise, celery, red onion, pickles, and Dijon mustard.\n",
      "2. Mix well until all the ingredients are evenly coated with the mayonnaise and mustard.\n",
      "3. Season with salt and pepper to taste, and adjust seasoning as needed.\n",
      "4. Serve the chicken salad on its own, on a bed of lettuce, or in a sandwich or wrap.\n",
      "5. Enjoy your delicious and quick Chicken Salad!\n",
      "\n",
      "Feel free to customize this recipe by adding ingredients like grapes, nuts, or herbs to suit your taste preferences. Enjoy!\n"
     ]
    }
   ],
   "source": [
    "print(result.content)"
   ]
  },
  {
   "cell_type": "markdown",
   "metadata": {},
   "source": [
    "#### One More Example - All Encapsulated within a function"
   ]
  },
  {
   "cell_type": "code",
   "execution_count": 11,
   "metadata": {},
   "outputs": [],
   "source": [
    "def travel_idea (interest, duration):\n",
    "    '''\n",
    "    interest : destination where you want to go\n",
    "    durartion : no of days you want your itinerary to be\n",
    "    '''\n",
    "\n",
    "    # SYSTEM\n",
    "    system_template = \"You are an AI Travel Agent that helps people to arrange detailed itinerary for the destination {interest} for the {duration} days\"\n",
    "    system_message_prompt = SystemMessagePromptTemplate.from_template(system_template)\n",
    "    # HUMAN REQUEST\n",
    "    human_template = \"{human_request}\"\n",
    "    human_message_prompt = HumanMessagePromptTemplate.from_template(human_template)\n",
    "    # COMPILE TO CHAT\n",
    "    chat_prompt = ChatPromptTemplate.from_messages([system_message_prompt, human_message_prompt])\n",
    "    # INSERT VARIABLES\n",
    "    request = chat_prompt.format_prompt(interest=interest, duration=duration, human_request=\"Please give a detailed day wise vacation itinerary for\")\n",
    "    # CHAT REQUEST\n",
    "    chat = ChatOpenAI(openai_api_key=api_key)\n",
    "    result = chat(request)\n",
    "    return result.content"
   ]
  },
  {
   "cell_type": "code",
   "execution_count": 12,
   "metadata": {},
   "outputs": [
    {
     "name": "stdout",
     "output_type": "stream",
     "text": [
      "Day 1:\n",
      "- Arrival in Manali\n",
      "- Check-in at your hotel and freshen up\n",
      "- Visit Hadimba Devi Temple, a beautiful wooden temple surrounded by cedar forests\n",
      "- Explore the Manali Market for shopping and local cuisine\n",
      "- Relax and unwind at the hotel in the evening\n",
      "\n",
      "Day 2:\n",
      "- Breakfast at the hotel\n",
      "- Proceed to Solang Valley for adventure activities like paragliding, zorbing, and ropeway ride\n",
      "- Enjoy lunch at a local restaurant in Solang Valley\n",
      "- Visit the Rohtang Pass (subject to availability, as it may be closed in certain seasons) for breathtaking views and snow activities\n",
      "- Return to the hotel for dinner and overnight stay\n",
      "\n",
      "Day 3:\n",
      "- Breakfast at the hotel\n",
      "- Drive to Kullu to explore the picturesque Kullu Valley\n",
      "- Visit the Naggar Castle, an ancient castle with scenic views\n",
      "- Explore the Shawl Factory and shop for traditional Kullu shawls\n",
      "- Enjoy river rafting in the Beas River\n",
      "- Return to Manali in the evening for dinner and relaxation\n",
      "\n",
      "Day 4:\n",
      "- Breakfast at the hotel\n",
      "- Visit the Vashisht Temple and Hot Springs for a relaxing dip\n",
      "- Explore Old Manali for its charming cafes, shops, and hippie culture\n",
      "- Trek to the Jogni Falls for a refreshing experience amidst nature\n",
      "- Enjoy dinner at a local restaurant in Old Manali\n",
      "- Return to the hotel for overnight stay\n",
      "\n",
      "Day 5:\n",
      "- Breakfast at the hotel\n",
      "- Check-out and proceed to the Manali Wildlife Sanctuary for a nature walk\n",
      "- Visit the Tibetan Monastery to learn about Tibetan culture and shop for souvenirs\n",
      "- Enjoy lunch at a local restaurant\n",
      "- Transfer to the bus stand or airport for your onward journey\n",
      "\n",
      "This itinerary is just a suggestion and can be customized based on your interests and preferences. Manali offers a wide range of activities and attractions to suit every traveler's taste.\n"
     ]
    }
   ],
   "source": [
    "print(travel_idea('Manali', 5))"
   ]
  },
  {
   "cell_type": "code",
   "execution_count": 13,
   "metadata": {},
   "outputs": [
    {
     "name": "stdout",
     "output_type": "stream",
     "text": [
      "Day 1: Arrival in Istanbul\n",
      "- Arrive in Istanbul and check into your hotel\n",
      "- Visit the historic Sultanahmet Square, home to iconic landmarks like the Blue Mosque and Hagia Sophia\n",
      "- Explore the Grand Bazaar for shopping and local cuisine\n",
      "- Enjoy a traditional Turkish dinner at a local restaurant\n",
      "\n",
      "Day 2: Istanbul\n",
      "- Visit Topkapi Palace, the former royal residence of the Ottoman Sultans\n",
      "- Explore the bustling Taksim Square and Istiklal Street for shopping and dining\n",
      "- Take a Bosphorus cruise to see the city from the water\n",
      "- Visit the Spice Bazaar for a sensory experience of Turkish spices and sweets\n",
      "\n",
      "Day 3: Istanbul\n",
      "- Explore the ancient underground Basilica Cistern\n",
      "- Visit the Chora Church to see stunning Byzantine mosaics\n",
      "- Relax at a traditional Turkish hammam for a spa experience\n",
      "- Enjoy a dinner cruise on the Bosphorus with live entertainment\n",
      "\n",
      "Day 4: Cappadocia\n",
      "- Fly to Cappadocia and check into your cave hotel\n",
      "- Visit the Goreme Open-Air Museum to see ancient cave churches\n",
      "- Explore the fairy chimneys of Pasabag and Devrent Valley\n",
      "- Enjoy a hot air balloon ride at sunrise (optional)\n",
      "\n",
      "Day 5: Cappadocia\n",
      "- Visit the underground cities of Kaymakli or Derinkuyu\n",
      "- Explore the Uchisar Castle for panoramic views of Cappadocia\n",
      "- Enjoy a traditional Turkish cooking class\n",
      "- Visit a local pottery workshop to see traditional craftsmanship\n",
      "\n",
      "Day 6: Pamukkale\n",
      "- Drive to Pamukkale and check into your hotel\n",
      "- Visit the stunning white travertine terraces and thermal pools\n",
      "- Explore the ancient city of Hierapolis and its Roman ruins\n",
      "- Relax in the thermal waters of Cleopatra's Pool\n",
      "\n",
      "Day 7: Ephesus\n",
      "- Visit the ancient city of Ephesus, one of the best-preserved Roman ruins in the world\n",
      "- Explore the Terrace Houses to see well-preserved Roman villas\n",
      "- Visit the Temple of Artemis, one of the Seven Wonders of the Ancient World\n",
      "- Drive to Kusadasi for a relaxing evening by the Aegean Sea\n",
      "\n",
      "Day 8: Bodrum\n",
      "- Drive to Bodrum and check into your hotel\n",
      "- Visit the Bodrum Castle and Museum of Underwater Archaeology\n",
      "- Explore the charming streets of Bodrum's old town\n",
      "- Relax on the beautiful beaches of the Bodrum Peninsula\n",
      "\n",
      "Day 9: Departure\n",
      "- Enjoy a leisurely morning in Bodrum\n",
      "- Transfer to the airport for your departure flight\n",
      "\n",
      "This itinerary offers a mix of historical sightseeing, natural wonders, cultural experiences, and relaxation, giving you a comprehensive taste of Turkey in 9 days. Let me know if you would like any specific activities or modifications to this itinerary!\n"
     ]
    }
   ],
   "source": [
    "print(travel_idea('Turkey', 9))"
   ]
  },
  {
   "cell_type": "code",
   "execution_count": null,
   "metadata": {},
   "outputs": [],
   "source": []
  }
 ],
 "metadata": {
  "kernelspec": {
   "display_name": "genai",
   "language": "python",
   "name": "python3"
  },
  "language_info": {
   "codemirror_mode": {
    "name": "ipython",
    "version": 3
   },
   "file_extension": ".py",
   "mimetype": "text/x-python",
   "name": "python",
   "nbconvert_exporter": "python",
   "pygments_lexer": "ipython3",
   "version": "3.11.9"
  }
 },
 "nbformat": 4,
 "nbformat_minor": 2
}
