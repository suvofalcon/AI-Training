{
 "cells": [
  {
   "cell_type": "markdown",
   "metadata": {},
   "source": [
    "# Understanding Prompt Templates"
   ]
  },
  {
   "cell_type": "code",
   "metadata": {
    "ExecuteTime": {
     "end_time": "2025-07-09T13:15:45.095764Z",
     "start_time": "2025-07-09T13:15:44.642792Z"
    }
   },
   "source": [
    "# Imports\n",
    "import os\n",
    "from langchain_openai import ChatOpenAI\n",
    "from langchain.schema import AIMessage, SystemMessage, HumanMessage\n",
    "from langchain import PromptTemplate\n",
    "from langchain.prompts import ChatPromptTemplate, SystemMessagePromptTemplate, AIMessagePromptTemplate, HumanMessagePromptTemplate\n",
    "\n",
    "api_key = os.getenv(\"OPENAI_API_KEY\")"
   ],
   "outputs": [],
   "execution_count": 1
  },
  {
   "cell_type": "markdown",
   "metadata": {},
   "source": [
    "### With No Input Variables"
   ]
  },
  {
   "cell_type": "code",
   "metadata": {
    "ExecuteTime": {
     "end_time": "2025-07-09T13:15:52.079780Z",
     "start_time": "2025-07-09T13:15:52.072946Z"
    }
   },
   "source": [
    "# An example of Prompt with no input variables\n",
    "no_input_prompt = PromptTemplate(input_variables=[], template=\"Tell me a fact\")\n",
    "no_input_prompt.format()"
   ],
   "outputs": [
    {
     "data": {
      "text/plain": [
       "'Tell me a fact'"
      ]
     },
     "execution_count": 2,
     "metadata": {},
     "output_type": "execute_result"
    }
   ],
   "execution_count": 2
  },
  {
   "cell_type": "markdown",
   "metadata": {},
   "source": [
    "### With a Single Input Variable"
   ]
  },
  {
   "cell_type": "code",
   "metadata": {
    "ExecuteTime": {
     "end_time": "2025-07-09T13:16:06.538393Z",
     "start_time": "2025-07-09T13:16:06.535016Z"
    }
   },
   "source": [
    "one_input_prompt = PromptTemplate(input_variables=[\"topic\"], template=\"Tell me a fact about {topic}\")\n",
    "one_input_prompt.format(topic=\"Mars\")"
   ],
   "outputs": [
    {
     "data": {
      "text/plain": [
       "'Tell me a fact about Mars'"
      ]
     },
     "execution_count": 3,
     "metadata": {},
     "output_type": "execute_result"
    }
   ],
   "execution_count": 3
  },
  {
   "cell_type": "markdown",
   "metadata": {},
   "source": [
    "### Multiple Input Variables"
   ]
  },
  {
   "cell_type": "code",
   "metadata": {
    "ExecuteTime": {
     "end_time": "2025-07-09T13:16:12.304279Z",
     "start_time": "2025-07-09T13:16:12.299853Z"
    }
   },
   "source": [
    "multiple_input_prompt = PromptTemplate(input_variables=[\"topic\", \"level\"],\n",
    "                                       template=\"Tell me about a fact about {topic} for a student at {level} level\")\n",
    "multiple_input_prompt.format(topic='Mars', level='8th grade')"
   ],
   "outputs": [
    {
     "data": {
      "text/plain": [
       "'Tell me about a fact about Mars for a student at 8th grade level'"
      ]
     },
     "execution_count": 4,
     "metadata": {},
     "output_type": "execute_result"
    }
   ],
   "execution_count": 4
  },
  {
   "cell_type": "markdown",
   "metadata": {},
   "source": [
    "### Chat Model Templates\n",
    "\n",
    "Chat models require a list of chat messages called a prompt, which is different from a raw string that you would input into a language model. Each message in the prompt is associated with a role, such as AI, human, or system.\n",
    "For instance, when using the OpenAI Chat Completion API, a chat message can be assigned the role of AI, human, or system. The model is designed to pay closer attention to instructions provided in system chat messages.\n",
    "\n",
    "To simplify the process of constructing and working with prompts, LangChain offers various prompt templates. It is highly recommended to utilize these chat-related prompt templates instead of PromptTemplate when interacting with chat models. This will allow you to fully harness the potential of the underlying chat model and enhance your experience.\n",
    "\n",
    "We will favor these models in the course due to upcoming changes in the OpenAI ecosystem where chat agents will be favored over text completion models."
   ]
  },
  {
   "cell_type": "code",
   "metadata": {
    "ExecuteTime": {
     "end_time": "2025-07-09T13:17:23.888033Z",
     "start_time": "2025-07-09T13:17:23.881659Z"
    }
   },
   "source": [
    "system_template = \"You are an AI recipe Assistant that specialises in {dietary_preference} dishes that can prepared in {cooking_time}\" \n",
    "system_message_prompt = SystemMessagePromptTemplate.from_template(system_template)\n",
    "\n",
    "# to check the input variables for the prompt template\n",
    "system_message_prompt.input_variables"
   ],
   "outputs": [
    {
     "data": {
      "text/plain": [
       "['cooking_time', 'dietary_preference']"
      ]
     },
     "execution_count": 5,
     "metadata": {},
     "output_type": "execute_result"
    }
   ],
   "execution_count": 5
  },
  {
   "cell_type": "code",
   "metadata": {
    "ExecuteTime": {
     "end_time": "2025-07-09T13:17:33.227851Z",
     "start_time": "2025-07-09T13:17:33.223931Z"
    }
   },
   "source": [
    "human_template = \"{recipe_request}\"\n",
    "human_message_prompt = HumanMessagePromptTemplate.from_template(human_template)\n",
    "human_message_prompt.input_variables"
   ],
   "outputs": [
    {
     "data": {
      "text/plain": [
       "['recipe_request']"
      ]
     },
     "execution_count": 6,
     "metadata": {},
     "output_type": "execute_result"
    }
   ],
   "execution_count": 6
  },
  {
   "cell_type": "code",
   "metadata": {
    "ExecuteTime": {
     "end_time": "2025-07-09T13:17:38.174051Z",
     "start_time": "2025-07-09T13:17:38.169651Z"
    }
   },
   "source": [
    "chat_prompt = ChatPromptTemplate.from_messages([system_message_prompt, human_message_prompt])\n",
    "chat_prompt.input_variables"
   ],
   "outputs": [
    {
     "data": {
      "text/plain": [
       "['cooking_time', 'dietary_preference', 'recipe_request']"
      ]
     },
     "execution_count": 7,
     "metadata": {},
     "output_type": "execute_result"
    }
   ],
   "execution_count": 7
  },
  {
   "cell_type": "code",
   "metadata": {
    "ExecuteTime": {
     "end_time": "2025-07-09T13:17:46.715829Z",
     "start_time": "2025-07-09T13:17:46.711382Z"
    }
   },
   "source": [
    "# Now we can get a chat completion from the formatted messages\n",
    "chat_prompt.format_prompt(cooking_time='15 min', dietary_preference='Non-Veg', recipe_request='chicken salad').to_messages()"
   ],
   "outputs": [
    {
     "data": {
      "text/plain": [
       "[SystemMessage(content='You are an AI recipe Assistant that specialises in Non-Veg dishes that can prepared in 15 min', additional_kwargs={}, response_metadata={}),\n",
       " HumanMessage(content='chicken salad', additional_kwargs={}, response_metadata={})]"
      ]
     },
     "execution_count": 8,
     "metadata": {},
     "output_type": "execute_result"
    }
   ],
   "execution_count": 8
  },
  {
   "cell_type": "markdown",
   "metadata": {},
   "source": [
    "#### Now we make the LLM Call"
   ]
  },
  {
   "cell_type": "code",
   "metadata": {
    "ExecuteTime": {
     "end_time": "2025-07-09T13:18:13.318780Z",
     "start_time": "2025-07-09T13:18:08.922564Z"
    }
   },
   "source": [
    "chat = ChatOpenAI(openai_api_key = api_key)\n",
    "\n",
    "request = chat_prompt.format_prompt(cooking_time='15 min', dietary_preference='Non-Veg', recipe_request='chicken salad').to_messages()\n",
    "\n",
    "result = chat(request)"
   ],
   "outputs": [
    {
     "name": "stderr",
     "output_type": "stream",
     "text": [
      "/var/folders/ny/r3wsv_bd0bs1_vcy4pb5q9pr0000gn/T/ipykernel_62132/2825063962.py:5: LangChainDeprecationWarning: The method `BaseChatModel.__call__` was deprecated in langchain-core 0.1.7 and will be removed in 1.0. Use :meth:`~invoke` instead.\n",
      "  result = chat(request)\n"
     ]
    }
   ],
   "execution_count": 9
  },
  {
   "cell_type": "code",
   "metadata": {
    "ExecuteTime": {
     "end_time": "2025-07-09T13:18:14.566954Z",
     "start_time": "2025-07-09T13:18:14.563601Z"
    }
   },
   "source": [
    "print(result.content)"
   ],
   "outputs": [
    {
     "name": "stdout",
     "output_type": "stream",
     "text": [
      "Ingredients:\n",
      "- 2 cups cooked chicken breast, diced\n",
      "- 1/2 cup mayonnaise\n",
      "- 1/4 cup Greek yogurt\n",
      "- 1 tablespoon Dijon mustard\n",
      "- 1 celery stalk, diced\n",
      "- 1/4 cup red onion, diced\n",
      "- 1/4 cup dried cranberries or raisins\n",
      "- Salt and pepper to taste\n",
      "- Lettuce leaves for serving\n",
      "\n",
      "Instructions:\n",
      "1. In a mixing bowl, combine the mayonnaise, Greek yogurt, and Dijon mustard.\n",
      "2. Add the diced chicken, celery, red onion, and cranberries to the bowl.\n",
      "3. Mix everything together until well combined, then season with salt and pepper to taste.\n",
      "4. Serve the chicken salad on a bed of lettuce leaves.\n",
      "5. Enjoy your quick and easy chicken salad!\n"
     ]
    }
   ],
   "execution_count": 10
  },
  {
   "cell_type": "markdown",
   "metadata": {},
   "source": [
    "#### One More Example - All Encapsulated within a function"
   ]
  },
  {
   "cell_type": "code",
   "metadata": {
    "ExecuteTime": {
     "end_time": "2025-07-09T13:28:07.185823Z",
     "start_time": "2025-07-09T13:28:07.182427Z"
    }
   },
   "source": [
    "def travel_idea (interest: str, duration: int):\n",
    "    '''\n",
    "    interest : destination where you want to go\n",
    "    durartion : no of days you want your itinerary to be\n",
    "    '''\n",
    "\n",
    "    # SYSTEM\n",
    "    system_template = \"You are an AI Travel Agent that helps people to arrange detailed itinerary for the destination {interest} for the {duration} days\"\n",
    "    system_message_prompt = SystemMessagePromptTemplate.from_template(system_template)\n",
    "    # HUMAN REQUEST\n",
    "    human_template = \"{human_request}\"\n",
    "    human_message_prompt = HumanMessagePromptTemplate.from_template(human_template)\n",
    "    # COMPILE TO CHAT\n",
    "    chat_prompt = ChatPromptTemplate.from_messages([system_message_prompt, human_message_prompt])\n",
    "    # INSERT VARIABLES\n",
    "    request = chat_prompt.format_prompt(interest=interest, duration=duration, human_request=\"Please give a detailed day wise vacation itinerary for\").to_messages()\n",
    "    # CHAT REQUEST\n",
    "    chat = ChatOpenAI(openai_api_key=api_key)\n",
    "    result = chat(request)\n",
    "    return result"
   ],
   "outputs": [],
   "execution_count": 21
  },
  {
   "cell_type": "code",
   "metadata": {
    "ExecuteTime": {
     "end_time": "2025-07-09T13:28:32.026870Z",
     "start_time": "2025-07-09T13:28:27.491167Z"
    }
   },
   "source": [
    "#print(travel_idea('Manali', 5))\n",
    "#result = travel_idea('Manali', 5)\n",
    "\n",
    "result = travel_idea('Manali', 5)\n",
    "print(result.content)"
   ],
   "outputs": [
    {
     "name": "stdout",
     "output_type": "stream",
     "text": [
      "**Day 1: Arrival in Manali**\n",
      "\n",
      "- Arrive in Manali and check into your hotel/resort.\n",
      "- Relax and freshen up after your journey.\n",
      "- In the evening, take a leisurely stroll around the Mall Road, a bustling street with shops, cafes, and restaurants.\n",
      "- Enjoy a delicious dinner at a local restaurant.\n",
      "- Overnight stay at the hotel.\n",
      "\n",
      "**Day 2: Rohtang Pass Excursion**\n",
      "\n",
      "- Have an early breakfast and head towards Rohtang Pass, a high mountain pass known for its scenic beauty.\n",
      "- Enjoy activities like skiing, snowboarding, and snowball fights in the snow (if visiting during the snow season).\n",
      "- Visit the Solang Valley for paragliding and other adventure sports (seasonal).\n",
      "- Return to Manali in the evening and relax at the hotel.\n",
      "- Dinner and overnight stay at the hotel.\n",
      "\n",
      "**Day 3: Manali Local Sightseeing**\n",
      "\n",
      "- After breakfast, visit the Hadimba Devi Temple, a wooden temple surrounded by cedar forests.\n",
      "- Explore the Vashisht Hot Water Springs and Temple for a relaxing dip in the natural hot springs.\n",
      "- Visit the Manu Temple, dedicated to the sage Manu, with stunning views of the surrounding mountains.\n",
      "- Explore the Tibetan Monastery and shop for local handicrafts.\n",
      "- Return to the hotel for dinner and overnight stay.\n",
      "\n",
      "**Day 4: Naggar Castle and Jana Waterfall**\n",
      "\n",
      "- After breakfast, drive to Naggar to visit the Naggar Castle, a historic castle with breathtaking views of the Kullu Valley.\n",
      "- Explore the Nicholas Roerich Art Gallery, showcasing the works of the famous Russian artist.\n",
      "- Visit the Jana Waterfall, a picturesque waterfall surrounded by lush greenery.\n",
      "- Enjoy a picnic lunch by the waterfall.\n",
      "- Return to Manali in the evening for dinner and overnight stay.\n",
      "\n",
      "**Day 5: Departure from Manali**\n",
      "\n",
      "- After breakfast, check out from the hotel and visit the Manali Club House for recreational activities like indoor games and boating.\n",
      "- Explore the nearby markets for some last-minute shopping.\n",
      "- Transfer to the bus stand or airport for your onward journey.\n",
      "- End of the trip with beautiful memories of Manali.\n"
     ]
    }
   ],
   "execution_count": 23
  },
  {
   "cell_type": "code",
   "metadata": {
    "ExecuteTime": {
     "end_time": "2025-07-09T13:29:02.083629Z",
     "start_time": "2025-07-09T13:28:56.506141Z"
    }
   },
   "source": [
    "result = travel_idea('Turkey', 9)\n",
    "print(result.content)"
   ],
   "outputs": [
    {
     "name": "stdout",
     "output_type": "stream",
     "text": [
      "Day 1: Arrival in Istanbul\n",
      "- Arrive in Istanbul and check into your hotel\n",
      "- Visit the iconic Hagia Sophia, Blue Mosque, and Topkapi Palace\n",
      "- Explore the vibrant Grand Bazaar for shopping and dining\n",
      "- Enjoy a traditional Turkish dinner\n",
      "\n",
      "Day 2: Istanbul\n",
      "- Take a Bosphorus cruise to see Istanbul from the water\n",
      "- Visit the Spice Bazaar and try Turkish street food\n",
      "- Explore the Chora Church and Suleymaniye Mosque\n",
      "- Relax in a traditional Turkish hammam (spa)\n",
      "\n",
      "Day 3: Cappadocia\n",
      "- Fly to Cappadocia in the morning\n",
      "- Visit the Goreme Open-Air Museum and see the fairy chimneys\n",
      "- Explore the underground cities of Derinkuyu or Kaymakli\n",
      "- Watch the sunset over the valleys from a hot air balloon (optional)\n",
      "\n",
      "Day 4: Cappadocia\n",
      "- Enjoy a hot air balloon ride at sunrise (optional)\n",
      "- Visit the Selime Monastery and Ihlara Valley for hiking\n",
      "- Explore the town of Uchisar and its rock castle\n",
      "- Experience a traditional Turkish dinner with a folklore show\n",
      "\n",
      "Day 5: Pamukkale\n",
      "- Travel to Pamukkale by bus or private transfer\n",
      "- Visit the stunning white travertine terraces and thermal pools\n",
      "- Explore the ancient city of Hierapolis and the Roman amphitheater\n",
      "- Relax in Cleopatra's Pool with its mineral-rich waters\n",
      "\n",
      "Day 6: Ephesus\n",
      "- Visit the ancient city of Ephesus, one of the best-preserved Roman ruins in the Mediterranean\n",
      "- Explore the Terrace Houses and the Library of Celsus\n",
      "- Visit the Temple of Artemis, one of the Seven Wonders of the Ancient World\n",
      "- Optional visit to the House of the Virgin Mary\n",
      "\n",
      "Day 7: Bodrum\n",
      "- Travel to Bodrum, a beautiful coastal resort town on the Aegean Sea\n",
      "- Visit the Castle of St. Peter and the Museum of Underwater Archaeology\n",
      "- Relax on the beaches or explore the charming old town\n",
      "- Enjoy fresh seafood for dinner overlooking the marina\n",
      "\n",
      "Day 8: Bodrum\n",
      "- Take a boat trip to explore the nearby islands and beaches\n",
      "- Visit the Mausoleum at Halicarnassus, one of the Seven Wonders of the Ancient World\n",
      "- Try water sports like snorkeling or diving\n",
      "- Enjoy a farewell dinner at a seaside restaurant\n",
      "\n",
      "Day 9: Departure\n",
      "- Transfer to Bodrum Airport for your flight back home\n",
      "\n",
      "This detailed itinerary covers the best of Turkey in 9 days, allowing you to experience the rich history, stunning landscapes, and warm hospitality of this diverse country. Customize it according to your interests and preferences for a memorable vacation.\n"
     ]
    }
   ],
   "execution_count": 24
  },
  {
   "cell_type": "code",
   "metadata": {},
   "source": [],
   "outputs": [],
   "execution_count": null
  }
 ],
 "metadata": {
  "kernelspec": {
   "display_name": "genai",
   "language": "python",
   "name": "python3"
  },
  "language_info": {
   "codemirror_mode": {
    "name": "ipython",
    "version": 3
   },
   "file_extension": ".py",
   "mimetype": "text/x-python",
   "name": "python",
   "nbconvert_exporter": "python",
   "pygments_lexer": "ipython3",
   "version": "3.11.9"
  }
 },
 "nbformat": 4,
 "nbformat_minor": 2
}
