{
 "cells": [
  {
   "cell_type": "markdown",
   "metadata": {},
   "source": [
    "# Agents Basics"
   ]
  },
  {
   "cell_type": "code",
   "execution_count": 24,
   "metadata": {},
   "outputs": [],
   "source": [
    "import os\n",
    "from langchain_openai import ChatOpenAI\n",
    "from langchain.agents import load_tools, initialize_agent, AgentType, create_react_agent"
   ]
  },
  {
   "cell_type": "code",
   "execution_count": 25,
   "metadata": {},
   "outputs": [],
   "source": [
    "# while using tools in agents, recommended to keep temp 0 for keeping hallucinations at minimum\n",
    "model = ChatOpenAI(api_key=os.getenv(\"OPENAI_API_KEY\"), model=\"gpt-4o\", temperature=0.0) \n",
    "tools = load_tools(['llm-math'], llm=model)"
   ]
  },
  {
   "cell_type": "code",
   "execution_count": 26,
   "metadata": {},
   "outputs": [
    {
     "data": {
      "text/plain": [
       "list"
      ]
     },
     "execution_count": 26,
     "metadata": {},
     "output_type": "execute_result"
    }
   ],
   "source": [
    "type(tools)"
   ]
  },
  {
   "cell_type": "code",
   "execution_count": 27,
   "metadata": {},
   "outputs": [
    {
     "data": {
      "text/plain": [
       "['CHAT_CONVERSATIONAL_REACT_DESCRIPTION',\n",
       " 'CHAT_ZERO_SHOT_REACT_DESCRIPTION',\n",
       " 'CONVERSATIONAL_REACT_DESCRIPTION',\n",
       " 'OPENAI_FUNCTIONS',\n",
       " 'OPENAI_MULTI_FUNCTIONS',\n",
       " 'REACT_DOCSTORE',\n",
       " 'SELF_ASK_WITH_SEARCH',\n",
       " 'STRUCTURED_CHAT_ZERO_SHOT_REACT_DESCRIPTION',\n",
       " 'ZERO_SHOT_REACT_DESCRIPTION',\n",
       " '__add__',\n",
       " '__class__',\n",
       " '__contains__',\n",
       " '__delattr__',\n",
       " '__dir__',\n",
       " '__doc__',\n",
       " '__eq__',\n",
       " '__format__',\n",
       " '__ge__',\n",
       " '__getattribute__',\n",
       " '__getitem__',\n",
       " '__getnewargs__',\n",
       " '__getstate__',\n",
       " '__gt__',\n",
       " '__hash__',\n",
       " '__init__',\n",
       " '__init_subclass__',\n",
       " '__iter__',\n",
       " '__le__',\n",
       " '__len__',\n",
       " '__lt__',\n",
       " '__members__',\n",
       " '__mod__',\n",
       " '__module__',\n",
       " '__mul__',\n",
       " '__name__',\n",
       " '__ne__',\n",
       " '__new__',\n",
       " '__qualname__',\n",
       " '__reduce__',\n",
       " '__reduce_ex__',\n",
       " '__repr__',\n",
       " '__rmod__',\n",
       " '__rmul__',\n",
       " '__setattr__',\n",
       " '__sizeof__',\n",
       " '__str__',\n",
       " '__subclasshook__',\n",
       " 'capitalize',\n",
       " 'casefold',\n",
       " 'center',\n",
       " 'count',\n",
       " 'encode',\n",
       " 'endswith',\n",
       " 'expandtabs',\n",
       " 'find',\n",
       " 'format',\n",
       " 'format_map',\n",
       " 'index',\n",
       " 'isalnum',\n",
       " 'isalpha',\n",
       " 'isascii',\n",
       " 'isdecimal',\n",
       " 'isdigit',\n",
       " 'isidentifier',\n",
       " 'islower',\n",
       " 'isnumeric',\n",
       " 'isprintable',\n",
       " 'isspace',\n",
       " 'istitle',\n",
       " 'isupper',\n",
       " 'join',\n",
       " 'ljust',\n",
       " 'lower',\n",
       " 'lstrip',\n",
       " 'maketrans',\n",
       " 'partition',\n",
       " 'removeprefix',\n",
       " 'removesuffix',\n",
       " 'replace',\n",
       " 'rfind',\n",
       " 'rindex',\n",
       " 'rjust',\n",
       " 'rpartition',\n",
       " 'rsplit',\n",
       " 'rstrip',\n",
       " 'split',\n",
       " 'splitlines',\n",
       " 'startswith',\n",
       " 'strip',\n",
       " 'swapcase',\n",
       " 'title',\n",
       " 'translate',\n",
       " 'upper',\n",
       " 'zfill']"
      ]
     },
     "execution_count": 27,
     "metadata": {},
     "output_type": "execute_result"
    }
   ],
   "source": [
    "dir(AgentType)"
   ]
  },
  {
   "cell_type": "code",
   "execution_count": 28,
   "metadata": {},
   "outputs": [],
   "source": [
    "#agent = create_react_agent(tools=tools, llm=model, agent=AgentType.ZERO_SHOT_REACT_DESCRIPTION)\n",
    "agent = initialize_agent(tools=tools, llm=model, agent=AgentType.ZERO_SHOT_REACT_DESCRIPTION, verbose=True)"
   ]
  },
  {
   "cell_type": "code",
   "execution_count": 29,
   "metadata": {},
   "outputs": [
    {
     "name": "stdout",
     "output_type": "stream",
     "text": [
      "\n",
      "\n",
      "\u001b[1m> Entering new AgentExecutor chain...\u001b[0m\n",
      "\u001b[32;1m\u001b[1;3mTo find the product of 134292 and 29384920, I will perform a multiplication calculation.\n",
      "\n",
      "Action: Calculator\n",
      "Action Input: 134292 * 29384920\u001b[0m\n",
      "Observation: \u001b[36;1m\u001b[1;3mAnswer: 3946159676640\u001b[0m\n",
      "Thought:\u001b[32;1m\u001b[1;3mI now know the final answer. \n",
      "\n",
      "Final Answer: 134292 times 29384920 is 3,946,159,676,640.\u001b[0m\n",
      "\n",
      "\u001b[1m> Finished chain.\u001b[0m\n"
     ]
    },
    {
     "data": {
      "text/plain": [
       "{'input': 'What is 134292 times 29384920?',\n",
       " 'output': '134292 times 29384920 is 3,946,159,676,640.'}"
      ]
     },
     "execution_count": 29,
     "metadata": {},
     "output_type": "execute_result"
    }
   ],
   "source": [
    "agent.invoke(\"What is 134292 times 29384920?\")"
   ]
  },
  {
   "cell_type": "markdown",
   "metadata": {},
   "source": [
    "## Agent Tools"
   ]
  },
  {
   "cell_type": "code",
   "execution_count": 30,
   "metadata": {},
   "outputs": [],
   "source": [
    "model = ChatOpenAI(api_key=os.getenv(\"OPENAI_API_KEY\"), model='gpt-4o', temperature=0.0)\n",
    "tools = load_tools(['serpapi', 'llm-math'], llm=model)"
   ]
  },
  {
   "cell_type": "code",
   "execution_count": 31,
   "metadata": {},
   "outputs": [
    {
     "name": "stdout",
     "output_type": "stream",
     "text": [
      "\n",
      "\n",
      "\u001b[1m> Entering new AgentExecutor chain...\u001b[0m\n",
      "\u001b[32;1m\u001b[1;3mAlbert Einstein was born in 1879. To find the year multiplied by 5, I will perform the calculation.\n",
      "\n",
      "Action: Calculator\n",
      "Action Input: 1879 * 5\u001b[0m\n",
      "Observation: \u001b[33;1m\u001b[1;3mAnswer: 9395\u001b[0m\n",
      "Thought:\u001b[32;1m\u001b[1;3mI now know the final answer.\n",
      "Final Answer: Albert Einstein was born in 1879. When that year is multiplied by 5, the result is 9395.\u001b[0m\n",
      "\n",
      "\u001b[1m> Finished chain.\u001b[0m\n"
     ]
    },
    {
     "data": {
      "text/plain": [
       "{'input': 'What Year was Albert Einstein born ? What is that year multiplied by 5?',\n",
       " 'output': 'Albert Einstein was born in 1879. When that year is multiplied by 5, the result is 9395.'}"
      ]
     },
     "execution_count": 31,
     "metadata": {},
     "output_type": "execute_result"
    }
   ],
   "source": [
    "agent = initialize_agent(tools=tools, llm=model, agent=AgentType.ZERO_SHOT_REACT_DESCRIPTION, verbose=True)\n",
    "agent.invoke(\"What Year was Albert Einstein born ? What is that year multiplied by 5?\")"
   ]
  },
  {
   "cell_type": "markdown",
   "metadata": {},
   "source": [
    "### Create Agent to Execute a Python Code"
   ]
  },
  {
   "cell_type": "code",
   "execution_count": 32,
   "metadata": {},
   "outputs": [],
   "source": [
    "from langchain_experimental.tools.python.tool import PythonREPLTool\n",
    "from langchain_experimental.utilities import PythonREPL\n",
    "from langchain_experimental.agents.agent_toolkits import create_python_agent"
   ]
  },
  {
   "cell_type": "code",
   "execution_count": 33,
   "metadata": {},
   "outputs": [],
   "source": [
    "model = ChatOpenAI(api_key=os.getenv(\"OPENAI_API_KEY\"), model='gpt-4o', temperature=0.0)"
   ]
  },
  {
   "cell_type": "code",
   "execution_count": 34,
   "metadata": {},
   "outputs": [],
   "source": [
    "agent = create_python_agent(tool=PythonREPLTool(), llm=model, agent=AgentType.ZERO_SHOT_REACT_DESCRIPTION,verbose=True)"
   ]
  },
  {
   "cell_type": "code",
   "execution_count": 35,
   "metadata": {},
   "outputs": [],
   "source": [
    "python_list = [1,3,2,4,1,2,3,4,1,1,2,3,5,10,9]"
   ]
  },
  {
   "cell_type": "code",
   "execution_count": 36,
   "metadata": {},
   "outputs": [
    {
     "name": "stdout",
     "output_type": "stream",
     "text": [
      "\n",
      "\n",
      "\u001b[1m> Entering new AgentExecutor chain...\u001b[0m\n",
      "\u001b[32;1m\u001b[1;3mTo sort the given list, I will use Python's built-in sorting functionality. This can be done using the `sorted()` function or the `sort()` method. I will use the `sorted()` function to sort the list in ascending order.\n",
      "\n",
      "Action: Python_REPL\n",
      "Action Input: \n",
      "```python\n",
      "numbers = [1, 3, 2, 4, 1, 2, 3, 4, 1, 1, 2, 3, 5, 10, 9]\n",
      "sorted_numbers = sorted(numbers)\n",
      "print(sorted_numbers)\n",
      "```\u001b[0m\n",
      "Observation: \u001b[36;1m\u001b[1;3m[1, 1, 1, 1, 2, 2, 2, 3, 3, 3, 4, 4, 5, 9, 10]\n",
      "\u001b[0m\n",
      "Thought:\u001b[32;1m\u001b[1;3mI now know the final answer.\n",
      "\n",
      "Final Answer: The sorted list is [1, 1, 1, 1, 2, 2, 2, 3, 3, 3, 4, 4, 5, 9, 10].\u001b[0m\n",
      "\n",
      "\u001b[1m> Finished chain.\u001b[0m\n"
     ]
    },
    {
     "data": {
      "text/plain": [
       "{'input': 'Sort this Python List - [1, 3, 2, 4, 1, 2, 3, 4, 1, 1, 2, 3, 5, 10, 9]',\n",
       " 'output': 'The sorted list is [1, 1, 1, 1, 2, 2, 2, 3, 3, 3, 4, 4, 5, 9, 10].'}"
      ]
     },
     "execution_count": 36,
     "metadata": {},
     "output_type": "execute_result"
    }
   ],
   "source": [
    "agent.invoke(f'''Sort this Python List - {python_list}''')"
   ]
  },
  {
   "cell_type": "markdown",
   "metadata": {},
   "source": [
    "## Custom Tools"
   ]
  },
  {
   "cell_type": "code",
   "execution_count": 37,
   "metadata": {},
   "outputs": [],
   "source": [
    "from langchain_openai import ChatOpenAI\n",
    "from langchain.agents import AgentType\n",
    "from langchain.agents import initialize_agent\n",
    "from langchain.agents import load_tools\n",
    "from langchain.agents import tool"
   ]
  },
  {
   "cell_type": "code",
   "execution_count": 38,
   "metadata": {},
   "outputs": [],
   "source": [
    "# LLM -> Tools Docstrings -> pick tool -> Action -> Observation -> ...\n",
    "@tool\n",
    "def coolest_guy(text: str) -> str:\n",
    "    '''Returns the name of the coolest person in the universe. Expects an input of an empty string '' and returns the name of the coolest\n",
    "    person'''\n",
    "\n",
    "    return \"Suvo!!\""
   ]
  },
  {
   "cell_type": "code",
   "execution_count": 39,
   "metadata": {},
   "outputs": [
    {
     "name": "stdout",
     "output_type": "stream",
     "text": [
      "\n",
      "\n",
      "\u001b[1m> Entering new AgentExecutor chain...\u001b[0m\n",
      "\u001b[32;1m\u001b[1;3mThe concept of the \"coolest person in the universe\" is subjective and can vary greatly depending on personal opinions, cultural influences, and individual preferences. There is no definitive answer to this question as it is based on personal perception. \n",
      "\n",
      "Final Answer: The \"coolest person in the universe\" is subjective and varies based on individual opinions and preferences.\u001b[0m\n",
      "\n",
      "\u001b[1m> Finished chain.\u001b[0m\n"
     ]
    },
    {
     "data": {
      "text/plain": [
       "{'input': 'Who is the coolest person in the universe?',\n",
       " 'output': 'The \"coolest person in the universe\" is subjective and varies based on individual opinions and preferences.'}"
      ]
     },
     "execution_count": 39,
     "metadata": {},
     "output_type": "execute_result"
    }
   ],
   "source": [
    "model = ChatOpenAI(api_key=os.getenv(\"OPENAI_API_KEY\"), model='gpt-4o', temperature=0.0)\n",
    "tools = load_tools(['wikipedia', 'llm-math'], llm=model)\n",
    "agent = initialize_agent(tools=tools, llm=model, agent=AgentType.ZERO_SHOT_REACT_DESCRIPTION,verbose=True)\n",
    "agent.invoke(\"Who is the coolest person in the universe?\")"
   ]
  },
  {
   "cell_type": "code",
   "execution_count": 40,
   "metadata": {},
   "outputs": [
    {
     "name": "stdout",
     "output_type": "stream",
     "text": [
      "\n",
      "\n",
      "\u001b[1m> Entering new AgentExecutor chain...\u001b[0m\n",
      "\u001b[32;1m\u001b[1;3mI should use the \"coolest_guy\" tool to find out who the coolest person in the universe is.\n",
      "Action: coolest_guy\n",
      "Action Input: ''\u001b[0m\n",
      "Observation: \u001b[38;5;200m\u001b[1;3mSuvo!!\u001b[0m\n",
      "Thought:\u001b[32;1m\u001b[1;3mI now know the final answer. \n",
      "Final Answer: The coolest person in the universe is Suvo!!\u001b[0m\n",
      "\n",
      "\u001b[1m> Finished chain.\u001b[0m\n"
     ]
    },
    {
     "data": {
      "text/plain": [
       "{'input': 'Who is the coolest person in the universe?',\n",
       " 'output': 'The coolest person in the universe is Suvo!!'}"
      ]
     },
     "execution_count": 40,
     "metadata": {},
     "output_type": "execute_result"
    }
   ],
   "source": [
    "tools = tools + [coolest_guy]\n",
    "agent = initialize_agent(tools=tools, llm=model, agent=AgentType.ZERO_SHOT_REACT_DESCRIPTION,verbose=True)\n",
    "agent.invoke(\"Who is the coolest person in the universe?\")"
   ]
  },
  {
   "cell_type": "code",
   "execution_count": 41,
   "metadata": {},
   "outputs": [
    {
     "name": "stdout",
     "output_type": "stream",
     "text": [
      "\n",
      "\n",
      "\u001b[1m> Entering new AgentExecutor chain...\u001b[0m\n"
     ]
    },
    {
     "ename": "ValueError",
     "evalue": "An output parsing error occurred. In order to pass this error back to the agent and have it try again, pass `handle_parsing_errors=True` to the AgentExecutor. This is the error: Could not parse LLM output: `I don't have the ability to access real-time information, including the current time. You can check the time on your device or a clock.`\nFor troubleshooting, visit: https://python.langchain.com/docs/troubleshooting/errors/OUTPUT_PARSING_FAILURE ",
     "output_type": "error",
     "traceback": [
      "\u001b[0;31m---------------------------------------------------------------------------\u001b[0m",
      "\u001b[0;31mOutputParserException\u001b[0m                     Traceback (most recent call last)",
      "File \u001b[0;32m/opt/homebrew/Caskroom/miniconda/base/envs/genai/lib/python3.11/site-packages/langchain/agents/agent.py:1363\u001b[0m, in \u001b[0;36mAgentExecutor._iter_next_step\u001b[0;34m(self, name_to_tool_map, color_mapping, inputs, intermediate_steps, run_manager)\u001b[0m\n\u001b[1;32m   1362\u001b[0m     \u001b[38;5;66;03m# Call the LLM to see what to do.\u001b[39;00m\n\u001b[0;32m-> 1363\u001b[0m     output \u001b[38;5;241m=\u001b[39m \u001b[38;5;28;43mself\u001b[39;49m\u001b[38;5;241;43m.\u001b[39;49m\u001b[43m_action_agent\u001b[49m\u001b[38;5;241;43m.\u001b[39;49m\u001b[43mplan\u001b[49m\u001b[43m(\u001b[49m\n\u001b[1;32m   1364\u001b[0m \u001b[43m        \u001b[49m\u001b[43mintermediate_steps\u001b[49m\u001b[43m,\u001b[49m\n\u001b[1;32m   1365\u001b[0m \u001b[43m        \u001b[49m\u001b[43mcallbacks\u001b[49m\u001b[38;5;241;43m=\u001b[39;49m\u001b[43mrun_manager\u001b[49m\u001b[38;5;241;43m.\u001b[39;49m\u001b[43mget_child\u001b[49m\u001b[43m(\u001b[49m\u001b[43m)\u001b[49m\u001b[43m \u001b[49m\u001b[38;5;28;43;01mif\u001b[39;49;00m\u001b[43m \u001b[49m\u001b[43mrun_manager\u001b[49m\u001b[43m \u001b[49m\u001b[38;5;28;43;01melse\u001b[39;49;00m\u001b[43m \u001b[49m\u001b[38;5;28;43;01mNone\u001b[39;49;00m\u001b[43m,\u001b[49m\n\u001b[1;32m   1366\u001b[0m \u001b[43m        \u001b[49m\u001b[38;5;241;43m*\u001b[39;49m\u001b[38;5;241;43m*\u001b[39;49m\u001b[43minputs\u001b[49m\u001b[43m,\u001b[49m\n\u001b[1;32m   1367\u001b[0m \u001b[43m    \u001b[49m\u001b[43m)\u001b[49m\n\u001b[1;32m   1368\u001b[0m \u001b[38;5;28;01mexcept\u001b[39;00m OutputParserException \u001b[38;5;28;01mas\u001b[39;00m e:\n",
      "File \u001b[0;32m/opt/homebrew/Caskroom/miniconda/base/envs/genai/lib/python3.11/site-packages/langchain/agents/agent.py:810\u001b[0m, in \u001b[0;36mAgent.plan\u001b[0;34m(self, intermediate_steps, callbacks, **kwargs)\u001b[0m\n\u001b[1;32m    809\u001b[0m full_output \u001b[38;5;241m=\u001b[39m \u001b[38;5;28mself\u001b[39m\u001b[38;5;241m.\u001b[39mllm_chain\u001b[38;5;241m.\u001b[39mpredict(callbacks\u001b[38;5;241m=\u001b[39mcallbacks, \u001b[38;5;241m*\u001b[39m\u001b[38;5;241m*\u001b[39mfull_inputs)\n\u001b[0;32m--> 810\u001b[0m \u001b[38;5;28;01mreturn\u001b[39;00m \u001b[38;5;28;43mself\u001b[39;49m\u001b[38;5;241;43m.\u001b[39;49m\u001b[43moutput_parser\u001b[49m\u001b[38;5;241;43m.\u001b[39;49m\u001b[43mparse\u001b[49m\u001b[43m(\u001b[49m\u001b[43mfull_output\u001b[49m\u001b[43m)\u001b[49m\n",
      "File \u001b[0;32m/opt/homebrew/Caskroom/miniconda/base/envs/genai/lib/python3.11/site-packages/langchain/agents/mrkl/output_parser.py:79\u001b[0m, in \u001b[0;36mMRKLOutputParser.parse\u001b[0;34m(self, text)\u001b[0m\n\u001b[1;32m     78\u001b[0m \u001b[38;5;28;01mif\u001b[39;00m \u001b[38;5;129;01mnot\u001b[39;00m re\u001b[38;5;241m.\u001b[39msearch(\u001b[38;5;124mr\u001b[39m\u001b[38;5;124m\"\u001b[39m\u001b[38;5;124mAction\u001b[39m\u001b[38;5;124m\\\u001b[39m\u001b[38;5;124ms*\u001b[39m\u001b[38;5;124m\\\u001b[39m\u001b[38;5;124md*\u001b[39m\u001b[38;5;124m\\\u001b[39m\u001b[38;5;124ms*:[\u001b[39m\u001b[38;5;124m\\\u001b[39m\u001b[38;5;124ms]*(.*?)\u001b[39m\u001b[38;5;124m\"\u001b[39m, text, re\u001b[38;5;241m.\u001b[39mDOTALL):\n\u001b[0;32m---> 79\u001b[0m     \u001b[38;5;28;01mraise\u001b[39;00m OutputParserException(\n\u001b[1;32m     80\u001b[0m         \u001b[38;5;124mf\u001b[39m\u001b[38;5;124m\"\u001b[39m\u001b[38;5;124mCould not parse LLM output: `\u001b[39m\u001b[38;5;132;01m{\u001b[39;00mtext\u001b[38;5;132;01m}\u001b[39;00m\u001b[38;5;124m`\u001b[39m\u001b[38;5;124m\"\u001b[39m,\n\u001b[1;32m     81\u001b[0m         observation\u001b[38;5;241m=\u001b[39mMISSING_ACTION_AFTER_THOUGHT_ERROR_MESSAGE,\n\u001b[1;32m     82\u001b[0m         llm_output\u001b[38;5;241m=\u001b[39mtext,\n\u001b[1;32m     83\u001b[0m         send_to_llm\u001b[38;5;241m=\u001b[39m\u001b[38;5;28;01mTrue\u001b[39;00m,\n\u001b[1;32m     84\u001b[0m     )\n\u001b[1;32m     85\u001b[0m \u001b[38;5;28;01melif\u001b[39;00m \u001b[38;5;129;01mnot\u001b[39;00m re\u001b[38;5;241m.\u001b[39msearch(\n\u001b[1;32m     86\u001b[0m     \u001b[38;5;124mr\u001b[39m\u001b[38;5;124m\"\u001b[39m\u001b[38;5;124m[\u001b[39m\u001b[38;5;124m\\\u001b[39m\u001b[38;5;124ms]*Action\u001b[39m\u001b[38;5;124m\\\u001b[39m\u001b[38;5;124ms*\u001b[39m\u001b[38;5;124m\\\u001b[39m\u001b[38;5;124md*\u001b[39m\u001b[38;5;124m\\\u001b[39m\u001b[38;5;124ms*Input\u001b[39m\u001b[38;5;124m\\\u001b[39m\u001b[38;5;124ms*\u001b[39m\u001b[38;5;124m\\\u001b[39m\u001b[38;5;124md*\u001b[39m\u001b[38;5;124m\\\u001b[39m\u001b[38;5;124ms*:[\u001b[39m\u001b[38;5;124m\\\u001b[39m\u001b[38;5;124ms]*(.*)\u001b[39m\u001b[38;5;124m\"\u001b[39m, text, re\u001b[38;5;241m.\u001b[39mDOTALL\n\u001b[1;32m     87\u001b[0m ):\n",
      "\u001b[0;31mOutputParserException\u001b[0m: Could not parse LLM output: `I don't have the ability to access real-time information, including the current time. You can check the time on your device or a clock.`\nFor troubleshooting, visit: https://python.langchain.com/docs/troubleshooting/errors/OUTPUT_PARSING_FAILURE ",
      "\nDuring handling of the above exception, another exception occurred:\n",
      "\u001b[0;31mValueError\u001b[0m                                Traceback (most recent call last)",
      "Cell \u001b[0;32mIn[41], line 1\u001b[0m\n\u001b[0;32m----> 1\u001b[0m \u001b[43magent\u001b[49m\u001b[38;5;241;43m.\u001b[39;49m\u001b[43minvoke\u001b[49m\u001b[43m(\u001b[49m\u001b[38;5;124;43m\"\u001b[39;49m\u001b[38;5;124;43mWhat time is it right now?\u001b[39;49m\u001b[38;5;124;43m\"\u001b[39;49m\u001b[43m)\u001b[49m\n",
      "File \u001b[0;32m/opt/homebrew/Caskroom/miniconda/base/envs/genai/lib/python3.11/site-packages/langchain/chains/base.py:170\u001b[0m, in \u001b[0;36mChain.invoke\u001b[0;34m(self, input, config, **kwargs)\u001b[0m\n\u001b[1;32m    168\u001b[0m \u001b[38;5;28;01mexcept\u001b[39;00m \u001b[38;5;167;01mBaseException\u001b[39;00m \u001b[38;5;28;01mas\u001b[39;00m e:\n\u001b[1;32m    169\u001b[0m     run_manager\u001b[38;5;241m.\u001b[39mon_chain_error(e)\n\u001b[0;32m--> 170\u001b[0m     \u001b[38;5;28;01mraise\u001b[39;00m e\n\u001b[1;32m    171\u001b[0m run_manager\u001b[38;5;241m.\u001b[39mon_chain_end(outputs)\n\u001b[1;32m    173\u001b[0m \u001b[38;5;28;01mif\u001b[39;00m include_run_info:\n",
      "File \u001b[0;32m/opt/homebrew/Caskroom/miniconda/base/envs/genai/lib/python3.11/site-packages/langchain/chains/base.py:160\u001b[0m, in \u001b[0;36mChain.invoke\u001b[0;34m(self, input, config, **kwargs)\u001b[0m\n\u001b[1;32m    157\u001b[0m \u001b[38;5;28;01mtry\u001b[39;00m:\n\u001b[1;32m    158\u001b[0m     \u001b[38;5;28mself\u001b[39m\u001b[38;5;241m.\u001b[39m_validate_inputs(inputs)\n\u001b[1;32m    159\u001b[0m     outputs \u001b[38;5;241m=\u001b[39m (\n\u001b[0;32m--> 160\u001b[0m         \u001b[38;5;28;43mself\u001b[39;49m\u001b[38;5;241;43m.\u001b[39;49m\u001b[43m_call\u001b[49m\u001b[43m(\u001b[49m\u001b[43minputs\u001b[49m\u001b[43m,\u001b[49m\u001b[43m \u001b[49m\u001b[43mrun_manager\u001b[49m\u001b[38;5;241;43m=\u001b[39;49m\u001b[43mrun_manager\u001b[49m\u001b[43m)\u001b[49m\n\u001b[1;32m    161\u001b[0m         \u001b[38;5;28;01mif\u001b[39;00m new_arg_supported\n\u001b[1;32m    162\u001b[0m         \u001b[38;5;28;01melse\u001b[39;00m \u001b[38;5;28mself\u001b[39m\u001b[38;5;241m.\u001b[39m_call(inputs)\n\u001b[1;32m    163\u001b[0m     )\n\u001b[1;32m    165\u001b[0m     final_outputs: Dict[\u001b[38;5;28mstr\u001b[39m, Any] \u001b[38;5;241m=\u001b[39m \u001b[38;5;28mself\u001b[39m\u001b[38;5;241m.\u001b[39mprep_outputs(\n\u001b[1;32m    166\u001b[0m         inputs, outputs, return_only_outputs\n\u001b[1;32m    167\u001b[0m     )\n\u001b[1;32m    168\u001b[0m \u001b[38;5;28;01mexcept\u001b[39;00m \u001b[38;5;167;01mBaseException\u001b[39;00m \u001b[38;5;28;01mas\u001b[39;00m e:\n",
      "File \u001b[0;32m/opt/homebrew/Caskroom/miniconda/base/envs/genai/lib/python3.11/site-packages/langchain/agents/agent.py:1629\u001b[0m, in \u001b[0;36mAgentExecutor._call\u001b[0;34m(self, inputs, run_manager)\u001b[0m\n\u001b[1;32m   1627\u001b[0m \u001b[38;5;66;03m# We now enter the agent loop (until it returns something).\u001b[39;00m\n\u001b[1;32m   1628\u001b[0m \u001b[38;5;28;01mwhile\u001b[39;00m \u001b[38;5;28mself\u001b[39m\u001b[38;5;241m.\u001b[39m_should_continue(iterations, time_elapsed):\n\u001b[0;32m-> 1629\u001b[0m     next_step_output \u001b[38;5;241m=\u001b[39m \u001b[38;5;28;43mself\u001b[39;49m\u001b[38;5;241;43m.\u001b[39;49m\u001b[43m_take_next_step\u001b[49m\u001b[43m(\u001b[49m\n\u001b[1;32m   1630\u001b[0m \u001b[43m        \u001b[49m\u001b[43mname_to_tool_map\u001b[49m\u001b[43m,\u001b[49m\n\u001b[1;32m   1631\u001b[0m \u001b[43m        \u001b[49m\u001b[43mcolor_mapping\u001b[49m\u001b[43m,\u001b[49m\n\u001b[1;32m   1632\u001b[0m \u001b[43m        \u001b[49m\u001b[43minputs\u001b[49m\u001b[43m,\u001b[49m\n\u001b[1;32m   1633\u001b[0m \u001b[43m        \u001b[49m\u001b[43mintermediate_steps\u001b[49m\u001b[43m,\u001b[49m\n\u001b[1;32m   1634\u001b[0m \u001b[43m        \u001b[49m\u001b[43mrun_manager\u001b[49m\u001b[38;5;241;43m=\u001b[39;49m\u001b[43mrun_manager\u001b[49m\u001b[43m,\u001b[49m\n\u001b[1;32m   1635\u001b[0m \u001b[43m    \u001b[49m\u001b[43m)\u001b[49m\n\u001b[1;32m   1636\u001b[0m     \u001b[38;5;28;01mif\u001b[39;00m \u001b[38;5;28misinstance\u001b[39m(next_step_output, AgentFinish):\n\u001b[1;32m   1637\u001b[0m         \u001b[38;5;28;01mreturn\u001b[39;00m \u001b[38;5;28mself\u001b[39m\u001b[38;5;241m.\u001b[39m_return(\n\u001b[1;32m   1638\u001b[0m             next_step_output, intermediate_steps, run_manager\u001b[38;5;241m=\u001b[39mrun_manager\n\u001b[1;32m   1639\u001b[0m         )\n",
      "File \u001b[0;32m/opt/homebrew/Caskroom/miniconda/base/envs/genai/lib/python3.11/site-packages/langchain/agents/agent.py:1335\u001b[0m, in \u001b[0;36mAgentExecutor._take_next_step\u001b[0;34m(self, name_to_tool_map, color_mapping, inputs, intermediate_steps, run_manager)\u001b[0m\n\u001b[1;32m   1326\u001b[0m \u001b[38;5;28;01mdef\u001b[39;00m \u001b[38;5;21m_take_next_step\u001b[39m(\n\u001b[1;32m   1327\u001b[0m     \u001b[38;5;28mself\u001b[39m,\n\u001b[1;32m   1328\u001b[0m     name_to_tool_map: Dict[\u001b[38;5;28mstr\u001b[39m, BaseTool],\n\u001b[0;32m   (...)\u001b[0m\n\u001b[1;32m   1332\u001b[0m     run_manager: Optional[CallbackManagerForChainRun] \u001b[38;5;241m=\u001b[39m \u001b[38;5;28;01mNone\u001b[39;00m,\n\u001b[1;32m   1333\u001b[0m ) \u001b[38;5;241m-\u001b[39m\u001b[38;5;241m>\u001b[39m Union[AgentFinish, List[Tuple[AgentAction, \u001b[38;5;28mstr\u001b[39m]]]:\n\u001b[1;32m   1334\u001b[0m     \u001b[38;5;28;01mreturn\u001b[39;00m \u001b[38;5;28mself\u001b[39m\u001b[38;5;241m.\u001b[39m_consume_next_step(\n\u001b[0;32m-> 1335\u001b[0m         \u001b[43m[\u001b[49m\n\u001b[1;32m   1336\u001b[0m \u001b[43m            \u001b[49m\u001b[43ma\u001b[49m\n\u001b[1;32m   1337\u001b[0m \u001b[43m            \u001b[49m\u001b[38;5;28;43;01mfor\u001b[39;49;00m\u001b[43m \u001b[49m\u001b[43ma\u001b[49m\u001b[43m \u001b[49m\u001b[38;5;129;43;01min\u001b[39;49;00m\u001b[43m \u001b[49m\u001b[38;5;28;43mself\u001b[39;49m\u001b[38;5;241;43m.\u001b[39;49m\u001b[43m_iter_next_step\u001b[49m\u001b[43m(\u001b[49m\n\u001b[1;32m   1338\u001b[0m \u001b[43m                \u001b[49m\u001b[43mname_to_tool_map\u001b[49m\u001b[43m,\u001b[49m\n\u001b[1;32m   1339\u001b[0m \u001b[43m                \u001b[49m\u001b[43mcolor_mapping\u001b[49m\u001b[43m,\u001b[49m\n\u001b[1;32m   1340\u001b[0m \u001b[43m                \u001b[49m\u001b[43minputs\u001b[49m\u001b[43m,\u001b[49m\n\u001b[1;32m   1341\u001b[0m \u001b[43m                \u001b[49m\u001b[43mintermediate_steps\u001b[49m\u001b[43m,\u001b[49m\n\u001b[1;32m   1342\u001b[0m \u001b[43m                \u001b[49m\u001b[43mrun_manager\u001b[49m\u001b[43m,\u001b[49m\n\u001b[1;32m   1343\u001b[0m \u001b[43m            \u001b[49m\u001b[43m)\u001b[49m\n\u001b[1;32m   1344\u001b[0m \u001b[43m        \u001b[49m\u001b[43m]\u001b[49m\n\u001b[1;32m   1345\u001b[0m     )\n",
      "File \u001b[0;32m/opt/homebrew/Caskroom/miniconda/base/envs/genai/lib/python3.11/site-packages/langchain/agents/agent.py:1335\u001b[0m, in \u001b[0;36m<listcomp>\u001b[0;34m(.0)\u001b[0m\n\u001b[1;32m   1326\u001b[0m \u001b[38;5;28;01mdef\u001b[39;00m \u001b[38;5;21m_take_next_step\u001b[39m(\n\u001b[1;32m   1327\u001b[0m     \u001b[38;5;28mself\u001b[39m,\n\u001b[1;32m   1328\u001b[0m     name_to_tool_map: Dict[\u001b[38;5;28mstr\u001b[39m, BaseTool],\n\u001b[0;32m   (...)\u001b[0m\n\u001b[1;32m   1332\u001b[0m     run_manager: Optional[CallbackManagerForChainRun] \u001b[38;5;241m=\u001b[39m \u001b[38;5;28;01mNone\u001b[39;00m,\n\u001b[1;32m   1333\u001b[0m ) \u001b[38;5;241m-\u001b[39m\u001b[38;5;241m>\u001b[39m Union[AgentFinish, List[Tuple[AgentAction, \u001b[38;5;28mstr\u001b[39m]]]:\n\u001b[1;32m   1334\u001b[0m     \u001b[38;5;28;01mreturn\u001b[39;00m \u001b[38;5;28mself\u001b[39m\u001b[38;5;241m.\u001b[39m_consume_next_step(\n\u001b[0;32m-> 1335\u001b[0m         \u001b[43m[\u001b[49m\n\u001b[1;32m   1336\u001b[0m \u001b[43m            \u001b[49m\u001b[43ma\u001b[49m\n\u001b[1;32m   1337\u001b[0m \u001b[43m            \u001b[49m\u001b[38;5;28;43;01mfor\u001b[39;49;00m\u001b[43m \u001b[49m\u001b[43ma\u001b[49m\u001b[43m \u001b[49m\u001b[38;5;129;43;01min\u001b[39;49;00m\u001b[43m \u001b[49m\u001b[38;5;28;43mself\u001b[39;49m\u001b[38;5;241;43m.\u001b[39;49m\u001b[43m_iter_next_step\u001b[49m\u001b[43m(\u001b[49m\n\u001b[1;32m   1338\u001b[0m \u001b[43m                \u001b[49m\u001b[43mname_to_tool_map\u001b[49m\u001b[43m,\u001b[49m\n\u001b[1;32m   1339\u001b[0m \u001b[43m                \u001b[49m\u001b[43mcolor_mapping\u001b[49m\u001b[43m,\u001b[49m\n\u001b[1;32m   1340\u001b[0m \u001b[43m                \u001b[49m\u001b[43minputs\u001b[49m\u001b[43m,\u001b[49m\n\u001b[1;32m   1341\u001b[0m \u001b[43m                \u001b[49m\u001b[43mintermediate_steps\u001b[49m\u001b[43m,\u001b[49m\n\u001b[1;32m   1342\u001b[0m \u001b[43m                \u001b[49m\u001b[43mrun_manager\u001b[49m\u001b[43m,\u001b[49m\n\u001b[1;32m   1343\u001b[0m \u001b[43m            \u001b[49m\u001b[43m)\u001b[49m\n\u001b[1;32m   1344\u001b[0m \u001b[43m        \u001b[49m\u001b[43m]\u001b[49m\n\u001b[1;32m   1345\u001b[0m     )\n",
      "File \u001b[0;32m/opt/homebrew/Caskroom/miniconda/base/envs/genai/lib/python3.11/site-packages/langchain/agents/agent.py:1374\u001b[0m, in \u001b[0;36mAgentExecutor._iter_next_step\u001b[0;34m(self, name_to_tool_map, color_mapping, inputs, intermediate_steps, run_manager)\u001b[0m\n\u001b[1;32m   1372\u001b[0m     raise_error \u001b[38;5;241m=\u001b[39m \u001b[38;5;28;01mFalse\u001b[39;00m\n\u001b[1;32m   1373\u001b[0m \u001b[38;5;28;01mif\u001b[39;00m raise_error:\n\u001b[0;32m-> 1374\u001b[0m     \u001b[38;5;28;01mraise\u001b[39;00m \u001b[38;5;167;01mValueError\u001b[39;00m(\n\u001b[1;32m   1375\u001b[0m         \u001b[38;5;124m\"\u001b[39m\u001b[38;5;124mAn output parsing error occurred. \u001b[39m\u001b[38;5;124m\"\u001b[39m\n\u001b[1;32m   1376\u001b[0m         \u001b[38;5;124m\"\u001b[39m\u001b[38;5;124mIn order to pass this error back to the agent and have it try \u001b[39m\u001b[38;5;124m\"\u001b[39m\n\u001b[1;32m   1377\u001b[0m         \u001b[38;5;124m\"\u001b[39m\u001b[38;5;124magain, pass `handle_parsing_errors=True` to the AgentExecutor. \u001b[39m\u001b[38;5;124m\"\u001b[39m\n\u001b[1;32m   1378\u001b[0m         \u001b[38;5;124mf\u001b[39m\u001b[38;5;124m\"\u001b[39m\u001b[38;5;124mThis is the error: \u001b[39m\u001b[38;5;132;01m{\u001b[39;00m\u001b[38;5;28mstr\u001b[39m(e)\u001b[38;5;132;01m}\u001b[39;00m\u001b[38;5;124m\"\u001b[39m\n\u001b[1;32m   1379\u001b[0m     )\n\u001b[1;32m   1380\u001b[0m text \u001b[38;5;241m=\u001b[39m \u001b[38;5;28mstr\u001b[39m(e)\n\u001b[1;32m   1381\u001b[0m \u001b[38;5;28;01mif\u001b[39;00m \u001b[38;5;28misinstance\u001b[39m(\u001b[38;5;28mself\u001b[39m\u001b[38;5;241m.\u001b[39mhandle_parsing_errors, \u001b[38;5;28mbool\u001b[39m):\n",
      "\u001b[0;31mValueError\u001b[0m: An output parsing error occurred. In order to pass this error back to the agent and have it try again, pass `handle_parsing_errors=True` to the AgentExecutor. This is the error: Could not parse LLM output: `I don't have the ability to access real-time information, including the current time. You can check the time on your device or a clock.`\nFor troubleshooting, visit: https://python.langchain.com/docs/troubleshooting/errors/OUTPUT_PARSING_FAILURE "
     ]
    }
   ],
   "source": [
    "agent.invoke(\"What time is it right now?\")"
   ]
  },
  {
   "cell_type": "code",
   "execution_count": 42,
   "metadata": {},
   "outputs": [],
   "source": [
    "from datetime import datetime\n",
    "\n",
    "@tool\n",
    "def get_current_time(text: str) -> str:\n",
    "    '''Returns the current time. Use this for any questions regarding the current time. Input is an empty string and the current time is returned in a string format. Only \n",
    "    use this function for the current time, other time related questions should use another tool'''\n",
    "    return str(datetime.now())"
   ]
  },
  {
   "cell_type": "code",
   "execution_count": 43,
   "metadata": {},
   "outputs": [
    {
     "name": "stdout",
     "output_type": "stream",
     "text": [
      "\n",
      "\n",
      "\u001b[1m> Entering new AgentExecutor chain...\u001b[0m\n",
      "\u001b[32;1m\u001b[1;3mI need to find out the current time.\n",
      "Action: get_current_time\n",
      "Action Input: ''\u001b[0m\n",
      "Observation: \u001b[36;1m\u001b[1;3m2025-01-28 18:45:27.215783\u001b[0m\n",
      "Thought:\u001b[32;1m\u001b[1;3mI now know the final answer.\n",
      "Final Answer: The current time is 18:45 on January 28, 2025.\u001b[0m\n",
      "\n",
      "\u001b[1m> Finished chain.\u001b[0m\n"
     ]
    },
    {
     "data": {
      "text/plain": [
       "{'input': 'What time is it right now?',\n",
       " 'output': 'The current time is 18:45 on January 28, 2025.'}"
      ]
     },
     "execution_count": 43,
     "metadata": {},
     "output_type": "execute_result"
    }
   ],
   "source": [
    "tools = tools + [get_current_time]\n",
    "agent = initialize_agent(tools=tools, llm=model, agent=AgentType.ZERO_SHOT_REACT_DESCRIPTION,verbose=True)\n",
    "agent.invoke(\"What time is it right now?\")"
   ]
  },
  {
   "cell_type": "code",
   "execution_count": 44,
   "metadata": {},
   "outputs": [
    {
     "name": "stdout",
     "output_type": "stream",
     "text": [
      "\n",
      "\n",
      "\u001b[1m> Entering new AgentExecutor chain...\u001b[0m\n",
      "\u001b[32;1m\u001b[1;3mThe attack on Pearl Harbor is a historical event, so I should look up the details about it. \n",
      "Action: wikipedia\n",
      "Action Input: Attack on Pearl Harbor\u001b[0m\n",
      "Observation: \u001b[36;1m\u001b[1;3mPage: Attack on Pearl Harbor\n",
      "Summary: The attack on Pearl Harbor was a surprise military strike by the Empire of Japan on the United States Pacific Fleet at its naval base at Pearl Harbor on Oahu, Hawaii, on December 7, 1941. At the time, the U.S. was a neutral country in World War II. The air raid on Pearl Harbor, which was launched from aircraft carriers, resulted in the U.S. entering the war on the side of the Allies on the day following the attack. The Japanese military leadership referred to the attack as the Hawaii Operation and Operation AI, and as Operation Z during its planning.\n",
      "The attack on Pearl Harbor was preceded by months of negotiations between the U.S. and Japan over the future of the Pacific. Japanese demands included that the U.S. end its sanctions against Japan, cease aiding China in the Second Sino-Japanese War, and allow Japan to access the resources of the Dutch East Indies. Japan sent out its naval attack group on November 26, 1941, just prior to receiving the Hull note, which stated the U.S. desire that Japan withdraw from China and French Indochina. Isoroku Yamamoto, commander of the Japanese Combined Fleet, planned the attack as a pre-emptive strike on the Pacific Fleet, based at Pearl Harbor since 1940, in order to prevent it from interfering with Japan's planned actions in Southeast Asia. Yamamoto hoped that the strike would enable Japan to make quick territorial gains and negotiate a peace. In addition to Pearl Harbor, over seven hours Japan launched coordinated attacks on the U.S.-held Philippines, Guam, and Wake Island; and on the British Empire in Malaya, Singapore, and Hong Kong.\n",
      "The attack force, commanded by Chūichi Nagumo, began its attacks at 7:48 a.m. Hawaiian time (6:18 p.m. GMT) on December 7, 1941. The base was attacked by 353 fighters, level and dive bombers, and torpedo bombers in two waves launched from six aircraft carriers. Of the eight U.S. battleships present, all were damaged and four were sunk. All but Arizona were later raised, and six were returned to service during the war. The Japanese also sank or damaged three cruisers, three destroyers, an anti-aircraft training ship, and a minelayer. More than 180 U.S. aircraft were destroyed. A total of 2,393 Americans were killed and 1,178 others were wounded, while the Japanese lost a total of 29 aircraft, five midget submarines, and 130 men. The three U.S. carriers stationed at Pearl Harbor escaped damage because they were at sea at the time, and important base installations, including its oil storage and naval repair facilities, were not attacked.\n",
      "Japan declared war on the U.S. and the British Empire later that day (December 8 in Tokyo), but the declarations were not delivered until the next day. On December 8, both the United Kingdom and U.S. declared war on Japan. On December 11, though they had no formal obligation to do so under the Tripartite Pact with Japan, Germany and Italy each declared war on the United States, which responded with a declaration of war against Germany and Italy. While there were historical precedents for unannounced military action by Japan, the lack of a formal warning and perception that the attack had been unprovoked led U.S. president Franklin D. Roosevelt to famously label December 7, 1941, \"a date which will live in infamy\". The attack was the deadliest event ever in Hawaii, and the deadliest foreign attack on the U.S. until the September 11 attacks of 2001.\n",
      "\n",
      "Page: Consequences of the attack on Pearl Harbor\n",
      "Summary: Japan's attack on Pearl Harbor took place on December 7, 1941. The United States military suffered 19 ships damaged or sunk, and 2,403 people were killed. Its most significant consequence was the entrance of the United States into World War II. The US had previously been officially neutral but subsequently entered the Pacific War, and after Italy's declaration of war and Germany's declaration of war shortly after the attack, the Battle of the Atlantic and the European theatre of war. Fo\u001b[0m\n",
      "Thought:\u001b[32;1m\u001b[1;3mThe attack on Pearl Harbor began at 7:48 a.m. Hawaiian time on December 7, 1941. \n",
      "\n",
      "Final Answer: The Pearl Harbor attack happened at 7:48 a.m. Hawaiian time on December 7, 1941.\u001b[0m\n",
      "\n",
      "\u001b[1m> Finished chain.\u001b[0m\n"
     ]
    },
    {
     "data": {
      "text/plain": [
       "{'input': 'What time did Pearl Harbour attack happen?',\n",
       " 'output': 'The Pearl Harbor attack happened at 7:48 a.m. Hawaiian time on December 7, 1941.'}"
      ]
     },
     "execution_count": 44,
     "metadata": {},
     "output_type": "execute_result"
    }
   ],
   "source": [
    "agent.invoke(\"What time did Pearl Harbour attack happen?\")"
   ]
  },
  {
   "cell_type": "markdown",
   "metadata": {},
   "source": [
    "## Converation Agents"
   ]
  },
  {
   "cell_type": "code",
   "execution_count": 45,
   "metadata": {},
   "outputs": [],
   "source": [
    "from langchain.agents import initialize_agent, load_tools, AgentType\n",
    "from langchain_openai import ChatOpenAI\n",
    "from langchain.memory import ConversationBufferMemory"
   ]
  },
  {
   "cell_type": "code",
   "execution_count": 46,
   "metadata": {},
   "outputs": [
    {
     "name": "stderr",
     "output_type": "stream",
     "text": [
      "/var/folders/ny/r3wsv_bd0bs1_vcy4pb5q9pr0000gn/T/ipykernel_45674/3671332905.py:1: LangChainDeprecationWarning: Please see the migration guide at: https://python.langchain.com/docs/versions/migrating_memory/\n",
      "  memory = ConversationBufferMemory(memory_key='chat_history')\n"
     ]
    }
   ],
   "source": [
    "memory = ConversationBufferMemory(memory_key='chat_history')"
   ]
  },
  {
   "cell_type": "code",
   "execution_count": 47,
   "metadata": {},
   "outputs": [],
   "source": [
    "model = ChatOpenAI(api_key=os.getenv(\"OPENAI_API_KEY\"), model='gpt-4o', temperature=0.0)\n",
    "tools = load_tools(['llm-math'], llm=model)\n",
    "agent = initialize_agent(tools=tools, llm=model, agent=AgentType.CONVERSATIONAL_REACT_DESCRIPTION,\n",
    "                         memory=memory, verbose=True)"
   ]
  },
  {
   "cell_type": "code",
   "execution_count": 48,
   "metadata": {},
   "outputs": [
    {
     "name": "stdout",
     "output_type": "stream",
     "text": [
      "\n",
      "\n",
      "\u001b[1m> Entering new AgentExecutor chain...\u001b[0m\n",
      "\u001b[32;1m\u001b[1;3mThought: Do I need to use a tool? No\n",
      "AI: Here are some popular and delicious Thai recipes you might enjoy trying:\n",
      "\n",
      "1. **Pad Thai**: A classic Thai stir-fried noodle dish made with rice noodles, shrimp or chicken, tofu, eggs, and a flavorful sauce made from tamarind paste, fish sauce, and palm sugar. It's often garnished with peanuts, lime wedges, and bean sprouts.\n",
      "\n",
      "2. **Green Curry (Gaeng Keow Wan)**: A spicy and aromatic curry made with green curry paste, coconut milk, chicken or beef, and a variety of vegetables like eggplant and bell peppers. It's typically served with jasmine rice.\n",
      "\n",
      "3. **Tom Yum Goong**: A hot and sour soup made with shrimp, lemongrass, kaffir lime leaves, galangal, lime juice, fish sauce, and chili peppers. It's known for its bold and tangy flavors.\n",
      "\n",
      "4. **Som Tum (Green Papaya Salad)**: A refreshing salad made with shredded green papaya, tomatoes, green beans, peanuts, and a spicy dressing made from lime juice, fish sauce, and chili peppers.\n",
      "\n",
      "5. **Massaman Curry**: A rich and mildly spicy curry made with beef or chicken, potatoes, peanuts, and a blend of spices like cinnamon, cardamom, and cloves. It's cooked in coconut milk and often served with rice.\n",
      "\n",
      "6. **Thai Basil Chicken (Pad Krapow Gai)**: A quick and flavorful stir-fry made with ground chicken, Thai basil, garlic, and chili peppers, seasoned with soy sauce and fish sauce. It's often served over rice with a fried egg on top.\n",
      "\n",
      "7. **Mango Sticky Rice (Khao Niew Mamuang)**: A popular Thai dessert made with sticky rice, fresh mango slices, and a sweet coconut milk sauce.\n",
      "\n",
      "These recipes capture the essence of Thai cuisine, which is known for its balance of sweet, sour, salty, and spicy flavors. Enjoy experimenting with these dishes!\u001b[0m\n",
      "\n",
      "\u001b[1m> Finished chain.\u001b[0m\n"
     ]
    },
    {
     "data": {
      "text/plain": [
       "{'input': 'What are some good Thai recipes?',\n",
       " 'chat_history': '',\n",
       " 'output': \"Here are some popular and delicious Thai recipes you might enjoy trying:\\n\\n1. **Pad Thai**: A classic Thai stir-fried noodle dish made with rice noodles, shrimp or chicken, tofu, eggs, and a flavorful sauce made from tamarind paste, fish sauce, and palm sugar. It's often garnished with peanuts, lime wedges, and bean sprouts.\\n\\n2. **Green Curry (Gaeng Keow Wan)**: A spicy and aromatic curry made with green curry paste, coconut milk, chicken or beef, and a variety of vegetables like eggplant and bell peppers. It's typically served with jasmine rice.\\n\\n3. **Tom Yum Goong**: A hot and sour soup made with shrimp, lemongrass, kaffir lime leaves, galangal, lime juice, fish sauce, and chili peppers. It's known for its bold and tangy flavors.\\n\\n4. **Som Tum (Green Papaya Salad)**: A refreshing salad made with shredded green papaya, tomatoes, green beans, peanuts, and a spicy dressing made from lime juice, fish sauce, and chili peppers.\\n\\n5. **Massaman Curry**: A rich and mildly spicy curry made with beef or chicken, potatoes, peanuts, and a blend of spices like cinnamon, cardamom, and cloves. It's cooked in coconut milk and often served with rice.\\n\\n6. **Thai Basil Chicken (Pad Krapow Gai)**: A quick and flavorful stir-fry made with ground chicken, Thai basil, garlic, and chili peppers, seasoned with soy sauce and fish sauce. It's often served over rice with a fried egg on top.\\n\\n7. **Mango Sticky Rice (Khao Niew Mamuang)**: A popular Thai dessert made with sticky rice, fresh mango slices, and a sweet coconut milk sauce.\\n\\nThese recipes capture the essence of Thai cuisine, which is known for its balance of sweet, sour, salty, and spicy flavors. Enjoy experimenting with these dishes!\"}"
      ]
     },
     "execution_count": 48,
     "metadata": {},
     "output_type": "execute_result"
    }
   ],
   "source": [
    "agent.invoke(\"What are some good Thai recipes?\")"
   ]
  },
  {
   "cell_type": "code",
   "execution_count": 49,
   "metadata": {},
   "outputs": [
    {
     "name": "stdout",
     "output_type": "stream",
     "text": [
      "\n",
      "\n",
      "\u001b[1m> Entering new AgentExecutor chain...\u001b[0m\n",
      "\u001b[32;1m\u001b[1;3mThought: Do I need to use a tool? No\n",
      "AI: Among the recipes listed, **Tom Yum Goong** is typically the spiciest. This hot and sour soup is known for its bold and tangy flavors, and it often includes chili peppers, which contribute to its spiciness. However, the level of spiciness can be adjusted according to personal preference by varying the amount of chili peppers used.\u001b[0m\n",
      "\n",
      "\u001b[1m> Finished chain.\u001b[0m\n"
     ]
    },
    {
     "data": {
      "text/plain": [
       "{'input': 'Amongst all these, which is the one most spicey?',\n",
       " 'chat_history': \"Human: What are some good Thai recipes?\\nAI: Here are some popular and delicious Thai recipes you might enjoy trying:\\n\\n1. **Pad Thai**: A classic Thai stir-fried noodle dish made with rice noodles, shrimp or chicken, tofu, eggs, and a flavorful sauce made from tamarind paste, fish sauce, and palm sugar. It's often garnished with peanuts, lime wedges, and bean sprouts.\\n\\n2. **Green Curry (Gaeng Keow Wan)**: A spicy and aromatic curry made with green curry paste, coconut milk, chicken or beef, and a variety of vegetables like eggplant and bell peppers. It's typically served with jasmine rice.\\n\\n3. **Tom Yum Goong**: A hot and sour soup made with shrimp, lemongrass, kaffir lime leaves, galangal, lime juice, fish sauce, and chili peppers. It's known for its bold and tangy flavors.\\n\\n4. **Som Tum (Green Papaya Salad)**: A refreshing salad made with shredded green papaya, tomatoes, green beans, peanuts, and a spicy dressing made from lime juice, fish sauce, and chili peppers.\\n\\n5. **Massaman Curry**: A rich and mildly spicy curry made with beef or chicken, potatoes, peanuts, and a blend of spices like cinnamon, cardamom, and cloves. It's cooked in coconut milk and often served with rice.\\n\\n6. **Thai Basil Chicken (Pad Krapow Gai)**: A quick and flavorful stir-fry made with ground chicken, Thai basil, garlic, and chili peppers, seasoned with soy sauce and fish sauce. It's often served over rice with a fried egg on top.\\n\\n7. **Mango Sticky Rice (Khao Niew Mamuang)**: A popular Thai dessert made with sticky rice, fresh mango slices, and a sweet coconut milk sauce.\\n\\nThese recipes capture the essence of Thai cuisine, which is known for its balance of sweet, sour, salty, and spicy flavors. Enjoy experimenting with these dishes!\",\n",
       " 'output': 'Among the recipes listed, **Tom Yum Goong** is typically the spiciest. This hot and sour soup is known for its bold and tangy flavors, and it often includes chili peppers, which contribute to its spiciness. However, the level of spiciness can be adjusted according to personal preference by varying the amount of chili peppers used.'}"
      ]
     },
     "execution_count": 49,
     "metadata": {},
     "output_type": "execute_result"
    }
   ],
   "source": [
    "agent.invoke(\"Amongst all these, which is the one most spicey?\")"
   ]
  },
  {
   "cell_type": "code",
   "execution_count": 50,
   "metadata": {},
   "outputs": [
    {
     "name": "stdout",
     "output_type": "stream",
     "text": [
      "\n",
      "\n",
      "\u001b[1m> Entering new AgentExecutor chain...\u001b[0m\n",
      "\u001b[32;1m\u001b[1;3mThought: Do I need to use a tool? No\n",
      "AI: Here's a grocery shopping list for making Tom Yum Goong:\n",
      "\n",
      "1. **Shrimp** (fresh or frozen, peeled and deveined)\n",
      "2. **Lemongrass** (fresh stalks)\n",
      "3. **Kaffir lime leaves**\n",
      "4. **Galangal** (fresh or dried)\n",
      "5. **Lime juice** (fresh limes)\n",
      "6. **Fish sauce**\n",
      "7. **Chili peppers** (Thai bird's eye chilies or similar)\n",
      "8. **Mushrooms** (such as straw mushrooms or button mushrooms)\n",
      "9. **Tomatoes** (optional, for added flavor)\n",
      "10. **Cilantro** (fresh, for garnish)\n",
      "11. **Chicken or vegetable broth**\n",
      "12. **Sugar** (optional, to balance flavors)\n",
      "\n",
      "These ingredients will help you create the authentic flavors of Tom Yum Goong. Adjust the quantity of chili peppers to suit your preferred level of spiciness. Enjoy your cooking!\u001b[0m\n",
      "\n",
      "\u001b[1m> Finished chain.\u001b[0m\n"
     ]
    },
    {
     "data": {
      "text/plain": [
       "{'input': 'Give me the grocery shopping list for that dish',\n",
       " 'chat_history': \"Human: What are some good Thai recipes?\\nAI: Here are some popular and delicious Thai recipes you might enjoy trying:\\n\\n1. **Pad Thai**: A classic Thai stir-fried noodle dish made with rice noodles, shrimp or chicken, tofu, eggs, and a flavorful sauce made from tamarind paste, fish sauce, and palm sugar. It's often garnished with peanuts, lime wedges, and bean sprouts.\\n\\n2. **Green Curry (Gaeng Keow Wan)**: A spicy and aromatic curry made with green curry paste, coconut milk, chicken or beef, and a variety of vegetables like eggplant and bell peppers. It's typically served with jasmine rice.\\n\\n3. **Tom Yum Goong**: A hot and sour soup made with shrimp, lemongrass, kaffir lime leaves, galangal, lime juice, fish sauce, and chili peppers. It's known for its bold and tangy flavors.\\n\\n4. **Som Tum (Green Papaya Salad)**: A refreshing salad made with shredded green papaya, tomatoes, green beans, peanuts, and a spicy dressing made from lime juice, fish sauce, and chili peppers.\\n\\n5. **Massaman Curry**: A rich and mildly spicy curry made with beef or chicken, potatoes, peanuts, and a blend of spices like cinnamon, cardamom, and cloves. It's cooked in coconut milk and often served with rice.\\n\\n6. **Thai Basil Chicken (Pad Krapow Gai)**: A quick and flavorful stir-fry made with ground chicken, Thai basil, garlic, and chili peppers, seasoned with soy sauce and fish sauce. It's often served over rice with a fried egg on top.\\n\\n7. **Mango Sticky Rice (Khao Niew Mamuang)**: A popular Thai dessert made with sticky rice, fresh mango slices, and a sweet coconut milk sauce.\\n\\nThese recipes capture the essence of Thai cuisine, which is known for its balance of sweet, sour, salty, and spicy flavors. Enjoy experimenting with these dishes!\\nHuman: Amongst all these, which is the one most spicey?\\nAI: Among the recipes listed, **Tom Yum Goong** is typically the spiciest. This hot and sour soup is known for its bold and tangy flavors, and it often includes chili peppers, which contribute to its spiciness. However, the level of spiciness can be adjusted according to personal preference by varying the amount of chili peppers used.\",\n",
       " 'output': \"Here's a grocery shopping list for making Tom Yum Goong:\\n\\n1. **Shrimp** (fresh or frozen, peeled and deveined)\\n2. **Lemongrass** (fresh stalks)\\n3. **Kaffir lime leaves**\\n4. **Galangal** (fresh or dried)\\n5. **Lime juice** (fresh limes)\\n6. **Fish sauce**\\n7. **Chili peppers** (Thai bird's eye chilies or similar)\\n8. **Mushrooms** (such as straw mushrooms or button mushrooms)\\n9. **Tomatoes** (optional, for added flavor)\\n10. **Cilantro** (fresh, for garnish)\\n11. **Chicken or vegetable broth**\\n12. **Sugar** (optional, to balance flavors)\\n\\nThese ingredients will help you create the authentic flavors of Tom Yum Goong. Adjust the quantity of chili peppers to suit your preferred level of spiciness. Enjoy your cooking!\"}"
      ]
     },
     "execution_count": 50,
     "metadata": {},
     "output_type": "execute_result"
    }
   ],
   "source": [
    "agent.invoke(\"Give me the grocery shopping list for that dish\")"
   ]
  },
  {
   "cell_type": "code",
   "execution_count": null,
   "metadata": {},
   "outputs": [],
   "source": []
  }
 ],
 "metadata": {
  "kernelspec": {
   "display_name": "genai",
   "language": "python",
   "name": "python3"
  },
  "language_info": {
   "codemirror_mode": {
    "name": "ipython",
    "version": 3
   },
   "file_extension": ".py",
   "mimetype": "text/x-python",
   "name": "python",
   "nbconvert_exporter": "python",
   "pygments_lexer": "ipython3",
   "version": "3.11.9"
  }
 },
 "nbformat": 4,
 "nbformat_minor": 2
}
